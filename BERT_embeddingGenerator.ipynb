{
  "nbformat": 4,
  "nbformat_minor": 0,
  "metadata": {
    "colab": {
      "name": "BERT_embeddingGenerator.ipynb",
      "provenance": []
    },
    "kernelspec": {
      "name": "python3",
      "display_name": "Python 3"
    },
    "accelerator": "GPU",
    "widgets": {
      "application/vnd.jupyter.widget-state+json": {
        "ab3e5d6badfc438e97dab99fee55e121": {
          "model_module": "@jupyter-widgets/controls",
          "model_name": "HBoxModel",
          "state": {
            "_view_name": "HBoxView",
            "_dom_classes": [],
            "_model_name": "HBoxModel",
            "_view_module": "@jupyter-widgets/controls",
            "_model_module_version": "1.5.0",
            "_view_count": null,
            "_view_module_version": "1.5.0",
            "box_style": "",
            "layout": "IPY_MODEL_1b3d2c09b58642b683d7e68ee4d414aa",
            "_model_module": "@jupyter-widgets/controls",
            "children": [
              "IPY_MODEL_0f326c4fc6594bd689a4b209646e2212",
              "IPY_MODEL_8feab968f3b4492784a9db96fb2c7cd9"
            ]
          }
        },
        "1b3d2c09b58642b683d7e68ee4d414aa": {
          "model_module": "@jupyter-widgets/base",
          "model_name": "LayoutModel",
          "state": {
            "_view_name": "LayoutView",
            "grid_template_rows": null,
            "right": null,
            "justify_content": null,
            "_view_module": "@jupyter-widgets/base",
            "overflow": null,
            "_model_module_version": "1.2.0",
            "_view_count": null,
            "flex_flow": null,
            "width": null,
            "min_width": null,
            "border": null,
            "align_items": null,
            "bottom": null,
            "_model_module": "@jupyter-widgets/base",
            "top": null,
            "grid_column": null,
            "overflow_y": null,
            "overflow_x": null,
            "grid_auto_flow": null,
            "grid_area": null,
            "grid_template_columns": null,
            "flex": null,
            "_model_name": "LayoutModel",
            "justify_items": null,
            "grid_row": null,
            "max_height": null,
            "align_content": null,
            "visibility": null,
            "align_self": null,
            "height": null,
            "min_height": null,
            "padding": null,
            "grid_auto_rows": null,
            "grid_gap": null,
            "max_width": null,
            "order": null,
            "_view_module_version": "1.2.0",
            "grid_template_areas": null,
            "object_position": null,
            "object_fit": null,
            "grid_auto_columns": null,
            "margin": null,
            "display": null,
            "left": null
          }
        },
        "0f326c4fc6594bd689a4b209646e2212": {
          "model_module": "@jupyter-widgets/controls",
          "model_name": "FloatProgressModel",
          "state": {
            "_view_name": "ProgressView",
            "style": "IPY_MODEL_9feb9b0c0de14cb3a1ca13da5ee2ea2f",
            "_dom_classes": [],
            "description": "Downloading: 100%",
            "_model_name": "FloatProgressModel",
            "bar_style": "success",
            "max": 231508,
            "_view_module": "@jupyter-widgets/controls",
            "_model_module_version": "1.5.0",
            "value": 231508,
            "_view_count": null,
            "_view_module_version": "1.5.0",
            "orientation": "horizontal",
            "min": 0,
            "description_tooltip": null,
            "_model_module": "@jupyter-widgets/controls",
            "layout": "IPY_MODEL_9b81dc6af12d4364ba4995da8c354d2e"
          }
        },
        "8feab968f3b4492784a9db96fb2c7cd9": {
          "model_module": "@jupyter-widgets/controls",
          "model_name": "HTMLModel",
          "state": {
            "_view_name": "HTMLView",
            "style": "IPY_MODEL_3959e1a7ca194bfe8d2a1fb93626ffde",
            "_dom_classes": [],
            "description": "",
            "_model_name": "HTMLModel",
            "placeholder": "​",
            "_view_module": "@jupyter-widgets/controls",
            "_model_module_version": "1.5.0",
            "value": " 232k/232k [00:00&lt;00:00, 1.37MB/s]",
            "_view_count": null,
            "_view_module_version": "1.5.0",
            "description_tooltip": null,
            "_model_module": "@jupyter-widgets/controls",
            "layout": "IPY_MODEL_37e49ef4972e4af783ba90cd300e0ca4"
          }
        },
        "9feb9b0c0de14cb3a1ca13da5ee2ea2f": {
          "model_module": "@jupyter-widgets/controls",
          "model_name": "ProgressStyleModel",
          "state": {
            "_view_name": "StyleView",
            "_model_name": "ProgressStyleModel",
            "description_width": "initial",
            "_view_module": "@jupyter-widgets/base",
            "_model_module_version": "1.5.0",
            "_view_count": null,
            "_view_module_version": "1.2.0",
            "bar_color": null,
            "_model_module": "@jupyter-widgets/controls"
          }
        },
        "9b81dc6af12d4364ba4995da8c354d2e": {
          "model_module": "@jupyter-widgets/base",
          "model_name": "LayoutModel",
          "state": {
            "_view_name": "LayoutView",
            "grid_template_rows": null,
            "right": null,
            "justify_content": null,
            "_view_module": "@jupyter-widgets/base",
            "overflow": null,
            "_model_module_version": "1.2.0",
            "_view_count": null,
            "flex_flow": null,
            "width": null,
            "min_width": null,
            "border": null,
            "align_items": null,
            "bottom": null,
            "_model_module": "@jupyter-widgets/base",
            "top": null,
            "grid_column": null,
            "overflow_y": null,
            "overflow_x": null,
            "grid_auto_flow": null,
            "grid_area": null,
            "grid_template_columns": null,
            "flex": null,
            "_model_name": "LayoutModel",
            "justify_items": null,
            "grid_row": null,
            "max_height": null,
            "align_content": null,
            "visibility": null,
            "align_self": null,
            "height": null,
            "min_height": null,
            "padding": null,
            "grid_auto_rows": null,
            "grid_gap": null,
            "max_width": null,
            "order": null,
            "_view_module_version": "1.2.0",
            "grid_template_areas": null,
            "object_position": null,
            "object_fit": null,
            "grid_auto_columns": null,
            "margin": null,
            "display": null,
            "left": null
          }
        },
        "3959e1a7ca194bfe8d2a1fb93626ffde": {
          "model_module": "@jupyter-widgets/controls",
          "model_name": "DescriptionStyleModel",
          "state": {
            "_view_name": "StyleView",
            "_model_name": "DescriptionStyleModel",
            "description_width": "",
            "_view_module": "@jupyter-widgets/base",
            "_model_module_version": "1.5.0",
            "_view_count": null,
            "_view_module_version": "1.2.0",
            "_model_module": "@jupyter-widgets/controls"
          }
        },
        "37e49ef4972e4af783ba90cd300e0ca4": {
          "model_module": "@jupyter-widgets/base",
          "model_name": "LayoutModel",
          "state": {
            "_view_name": "LayoutView",
            "grid_template_rows": null,
            "right": null,
            "justify_content": null,
            "_view_module": "@jupyter-widgets/base",
            "overflow": null,
            "_model_module_version": "1.2.0",
            "_view_count": null,
            "flex_flow": null,
            "width": null,
            "min_width": null,
            "border": null,
            "align_items": null,
            "bottom": null,
            "_model_module": "@jupyter-widgets/base",
            "top": null,
            "grid_column": null,
            "overflow_y": null,
            "overflow_x": null,
            "grid_auto_flow": null,
            "grid_area": null,
            "grid_template_columns": null,
            "flex": null,
            "_model_name": "LayoutModel",
            "justify_items": null,
            "grid_row": null,
            "max_height": null,
            "align_content": null,
            "visibility": null,
            "align_self": null,
            "height": null,
            "min_height": null,
            "padding": null,
            "grid_auto_rows": null,
            "grid_gap": null,
            "max_width": null,
            "order": null,
            "_view_module_version": "1.2.0",
            "grid_template_areas": null,
            "object_position": null,
            "object_fit": null,
            "grid_auto_columns": null,
            "margin": null,
            "display": null,
            "left": null
          }
        },
        "4b9c3fed0f124eeb9b01ee38df0a42be": {
          "model_module": "@jupyter-widgets/controls",
          "model_name": "HBoxModel",
          "state": {
            "_view_name": "HBoxView",
            "_dom_classes": [],
            "_model_name": "HBoxModel",
            "_view_module": "@jupyter-widgets/controls",
            "_model_module_version": "1.5.0",
            "_view_count": null,
            "_view_module_version": "1.5.0",
            "box_style": "",
            "layout": "IPY_MODEL_1fb4606cfbc54dc5870ab85aafe70506",
            "_model_module": "@jupyter-widgets/controls",
            "children": [
              "IPY_MODEL_11903dac952a476f816011af76de483e",
              "IPY_MODEL_ab35949d124d490bac7811661c508ebf"
            ]
          }
        },
        "1fb4606cfbc54dc5870ab85aafe70506": {
          "model_module": "@jupyter-widgets/base",
          "model_name": "LayoutModel",
          "state": {
            "_view_name": "LayoutView",
            "grid_template_rows": null,
            "right": null,
            "justify_content": null,
            "_view_module": "@jupyter-widgets/base",
            "overflow": null,
            "_model_module_version": "1.2.0",
            "_view_count": null,
            "flex_flow": null,
            "width": null,
            "min_width": null,
            "border": null,
            "align_items": null,
            "bottom": null,
            "_model_module": "@jupyter-widgets/base",
            "top": null,
            "grid_column": null,
            "overflow_y": null,
            "overflow_x": null,
            "grid_auto_flow": null,
            "grid_area": null,
            "grid_template_columns": null,
            "flex": null,
            "_model_name": "LayoutModel",
            "justify_items": null,
            "grid_row": null,
            "max_height": null,
            "align_content": null,
            "visibility": null,
            "align_self": null,
            "height": null,
            "min_height": null,
            "padding": null,
            "grid_auto_rows": null,
            "grid_gap": null,
            "max_width": null,
            "order": null,
            "_view_module_version": "1.2.0",
            "grid_template_areas": null,
            "object_position": null,
            "object_fit": null,
            "grid_auto_columns": null,
            "margin": null,
            "display": null,
            "left": null
          }
        },
        "11903dac952a476f816011af76de483e": {
          "model_module": "@jupyter-widgets/controls",
          "model_name": "FloatProgressModel",
          "state": {
            "_view_name": "ProgressView",
            "style": "IPY_MODEL_dba1cff660734b209a38a9aa9d9e3385",
            "_dom_classes": [],
            "description": "Downloading: 100%",
            "_model_name": "FloatProgressModel",
            "bar_style": "success",
            "max": 442,
            "_view_module": "@jupyter-widgets/controls",
            "_model_module_version": "1.5.0",
            "value": 442,
            "_view_count": null,
            "_view_module_version": "1.5.0",
            "orientation": "horizontal",
            "min": 0,
            "description_tooltip": null,
            "_model_module": "@jupyter-widgets/controls",
            "layout": "IPY_MODEL_4e1e3f7f52c747dca9312975c2d8e008"
          }
        },
        "ab35949d124d490bac7811661c508ebf": {
          "model_module": "@jupyter-widgets/controls",
          "model_name": "HTMLModel",
          "state": {
            "_view_name": "HTMLView",
            "style": "IPY_MODEL_3e643b6d91b84f82ac7e63fc7f8a75ff",
            "_dom_classes": [],
            "description": "",
            "_model_name": "HTMLModel",
            "placeholder": "​",
            "_view_module": "@jupyter-widgets/controls",
            "_model_module_version": "1.5.0",
            "value": " 442/442 [00:06&lt;00:00, 63.9B/s]",
            "_view_count": null,
            "_view_module_version": "1.5.0",
            "description_tooltip": null,
            "_model_module": "@jupyter-widgets/controls",
            "layout": "IPY_MODEL_02b4b00714a240439fdf56526c6dc90b"
          }
        },
        "dba1cff660734b209a38a9aa9d9e3385": {
          "model_module": "@jupyter-widgets/controls",
          "model_name": "ProgressStyleModel",
          "state": {
            "_view_name": "StyleView",
            "_model_name": "ProgressStyleModel",
            "description_width": "initial",
            "_view_module": "@jupyter-widgets/base",
            "_model_module_version": "1.5.0",
            "_view_count": null,
            "_view_module_version": "1.2.0",
            "bar_color": null,
            "_model_module": "@jupyter-widgets/controls"
          }
        },
        "4e1e3f7f52c747dca9312975c2d8e008": {
          "model_module": "@jupyter-widgets/base",
          "model_name": "LayoutModel",
          "state": {
            "_view_name": "LayoutView",
            "grid_template_rows": null,
            "right": null,
            "justify_content": null,
            "_view_module": "@jupyter-widgets/base",
            "overflow": null,
            "_model_module_version": "1.2.0",
            "_view_count": null,
            "flex_flow": null,
            "width": null,
            "min_width": null,
            "border": null,
            "align_items": null,
            "bottom": null,
            "_model_module": "@jupyter-widgets/base",
            "top": null,
            "grid_column": null,
            "overflow_y": null,
            "overflow_x": null,
            "grid_auto_flow": null,
            "grid_area": null,
            "grid_template_columns": null,
            "flex": null,
            "_model_name": "LayoutModel",
            "justify_items": null,
            "grid_row": null,
            "max_height": null,
            "align_content": null,
            "visibility": null,
            "align_self": null,
            "height": null,
            "min_height": null,
            "padding": null,
            "grid_auto_rows": null,
            "grid_gap": null,
            "max_width": null,
            "order": null,
            "_view_module_version": "1.2.0",
            "grid_template_areas": null,
            "object_position": null,
            "object_fit": null,
            "grid_auto_columns": null,
            "margin": null,
            "display": null,
            "left": null
          }
        },
        "3e643b6d91b84f82ac7e63fc7f8a75ff": {
          "model_module": "@jupyter-widgets/controls",
          "model_name": "DescriptionStyleModel",
          "state": {
            "_view_name": "StyleView",
            "_model_name": "DescriptionStyleModel",
            "description_width": "",
            "_view_module": "@jupyter-widgets/base",
            "_model_module_version": "1.5.0",
            "_view_count": null,
            "_view_module_version": "1.2.0",
            "_model_module": "@jupyter-widgets/controls"
          }
        },
        "02b4b00714a240439fdf56526c6dc90b": {
          "model_module": "@jupyter-widgets/base",
          "model_name": "LayoutModel",
          "state": {
            "_view_name": "LayoutView",
            "grid_template_rows": null,
            "right": null,
            "justify_content": null,
            "_view_module": "@jupyter-widgets/base",
            "overflow": null,
            "_model_module_version": "1.2.0",
            "_view_count": null,
            "flex_flow": null,
            "width": null,
            "min_width": null,
            "border": null,
            "align_items": null,
            "bottom": null,
            "_model_module": "@jupyter-widgets/base",
            "top": null,
            "grid_column": null,
            "overflow_y": null,
            "overflow_x": null,
            "grid_auto_flow": null,
            "grid_area": null,
            "grid_template_columns": null,
            "flex": null,
            "_model_name": "LayoutModel",
            "justify_items": null,
            "grid_row": null,
            "max_height": null,
            "align_content": null,
            "visibility": null,
            "align_self": null,
            "height": null,
            "min_height": null,
            "padding": null,
            "grid_auto_rows": null,
            "grid_gap": null,
            "max_width": null,
            "order": null,
            "_view_module_version": "1.2.0",
            "grid_template_areas": null,
            "object_position": null,
            "object_fit": null,
            "grid_auto_columns": null,
            "margin": null,
            "display": null,
            "left": null
          }
        },
        "525997ee2d4049c79ff24c800220c20f": {
          "model_module": "@jupyter-widgets/controls",
          "model_name": "HBoxModel",
          "state": {
            "_view_name": "HBoxView",
            "_dom_classes": [],
            "_model_name": "HBoxModel",
            "_view_module": "@jupyter-widgets/controls",
            "_model_module_version": "1.5.0",
            "_view_count": null,
            "_view_module_version": "1.5.0",
            "box_style": "",
            "layout": "IPY_MODEL_76324af2515a4422aa03ce181b0140b4",
            "_model_module": "@jupyter-widgets/controls",
            "children": [
              "IPY_MODEL_4d645e7091fb4afaaf60c79ee6798029",
              "IPY_MODEL_89d2a9e68dcd47028ae5958d34c4b770"
            ]
          }
        },
        "76324af2515a4422aa03ce181b0140b4": {
          "model_module": "@jupyter-widgets/base",
          "model_name": "LayoutModel",
          "state": {
            "_view_name": "LayoutView",
            "grid_template_rows": null,
            "right": null,
            "justify_content": null,
            "_view_module": "@jupyter-widgets/base",
            "overflow": null,
            "_model_module_version": "1.2.0",
            "_view_count": null,
            "flex_flow": null,
            "width": null,
            "min_width": null,
            "border": null,
            "align_items": null,
            "bottom": null,
            "_model_module": "@jupyter-widgets/base",
            "top": null,
            "grid_column": null,
            "overflow_y": null,
            "overflow_x": null,
            "grid_auto_flow": null,
            "grid_area": null,
            "grid_template_columns": null,
            "flex": null,
            "_model_name": "LayoutModel",
            "justify_items": null,
            "grid_row": null,
            "max_height": null,
            "align_content": null,
            "visibility": null,
            "align_self": null,
            "height": null,
            "min_height": null,
            "padding": null,
            "grid_auto_rows": null,
            "grid_gap": null,
            "max_width": null,
            "order": null,
            "_view_module_version": "1.2.0",
            "grid_template_areas": null,
            "object_position": null,
            "object_fit": null,
            "grid_auto_columns": null,
            "margin": null,
            "display": null,
            "left": null
          }
        },
        "4d645e7091fb4afaaf60c79ee6798029": {
          "model_module": "@jupyter-widgets/controls",
          "model_name": "FloatProgressModel",
          "state": {
            "_view_name": "ProgressView",
            "style": "IPY_MODEL_8ba8fd00eed341a593f9b56373bcfedd",
            "_dom_classes": [],
            "description": "Downloading: 100%",
            "_model_name": "FloatProgressModel",
            "bar_style": "success",
            "max": 267967963,
            "_view_module": "@jupyter-widgets/controls",
            "_model_module_version": "1.5.0",
            "value": 267967963,
            "_view_count": null,
            "_view_module_version": "1.5.0",
            "orientation": "horizontal",
            "min": 0,
            "description_tooltip": null,
            "_model_module": "@jupyter-widgets/controls",
            "layout": "IPY_MODEL_7e4079fc117a4ec09f752126c280b987"
          }
        },
        "89d2a9e68dcd47028ae5958d34c4b770": {
          "model_module": "@jupyter-widgets/controls",
          "model_name": "HTMLModel",
          "state": {
            "_view_name": "HTMLView",
            "style": "IPY_MODEL_3c04f48b226f45e48013b06f0a6df909",
            "_dom_classes": [],
            "description": "",
            "_model_name": "HTMLModel",
            "placeholder": "​",
            "_view_module": "@jupyter-widgets/controls",
            "_model_module_version": "1.5.0",
            "value": " 268M/268M [00:06&lt;00:00, 40.4MB/s]",
            "_view_count": null,
            "_view_module_version": "1.5.0",
            "description_tooltip": null,
            "_model_module": "@jupyter-widgets/controls",
            "layout": "IPY_MODEL_128e3ab0769c463b97964b0f55b7d132"
          }
        },
        "8ba8fd00eed341a593f9b56373bcfedd": {
          "model_module": "@jupyter-widgets/controls",
          "model_name": "ProgressStyleModel",
          "state": {
            "_view_name": "StyleView",
            "_model_name": "ProgressStyleModel",
            "description_width": "initial",
            "_view_module": "@jupyter-widgets/base",
            "_model_module_version": "1.5.0",
            "_view_count": null,
            "_view_module_version": "1.2.0",
            "bar_color": null,
            "_model_module": "@jupyter-widgets/controls"
          }
        },
        "7e4079fc117a4ec09f752126c280b987": {
          "model_module": "@jupyter-widgets/base",
          "model_name": "LayoutModel",
          "state": {
            "_view_name": "LayoutView",
            "grid_template_rows": null,
            "right": null,
            "justify_content": null,
            "_view_module": "@jupyter-widgets/base",
            "overflow": null,
            "_model_module_version": "1.2.0",
            "_view_count": null,
            "flex_flow": null,
            "width": null,
            "min_width": null,
            "border": null,
            "align_items": null,
            "bottom": null,
            "_model_module": "@jupyter-widgets/base",
            "top": null,
            "grid_column": null,
            "overflow_y": null,
            "overflow_x": null,
            "grid_auto_flow": null,
            "grid_area": null,
            "grid_template_columns": null,
            "flex": null,
            "_model_name": "LayoutModel",
            "justify_items": null,
            "grid_row": null,
            "max_height": null,
            "align_content": null,
            "visibility": null,
            "align_self": null,
            "height": null,
            "min_height": null,
            "padding": null,
            "grid_auto_rows": null,
            "grid_gap": null,
            "max_width": null,
            "order": null,
            "_view_module_version": "1.2.0",
            "grid_template_areas": null,
            "object_position": null,
            "object_fit": null,
            "grid_auto_columns": null,
            "margin": null,
            "display": null,
            "left": null
          }
        },
        "3c04f48b226f45e48013b06f0a6df909": {
          "model_module": "@jupyter-widgets/controls",
          "model_name": "DescriptionStyleModel",
          "state": {
            "_view_name": "StyleView",
            "_model_name": "DescriptionStyleModel",
            "description_width": "",
            "_view_module": "@jupyter-widgets/base",
            "_model_module_version": "1.5.0",
            "_view_count": null,
            "_view_module_version": "1.2.0",
            "_model_module": "@jupyter-widgets/controls"
          }
        },
        "128e3ab0769c463b97964b0f55b7d132": {
          "model_module": "@jupyter-widgets/base",
          "model_name": "LayoutModel",
          "state": {
            "_view_name": "LayoutView",
            "grid_template_rows": null,
            "right": null,
            "justify_content": null,
            "_view_module": "@jupyter-widgets/base",
            "overflow": null,
            "_model_module_version": "1.2.0",
            "_view_count": null,
            "flex_flow": null,
            "width": null,
            "min_width": null,
            "border": null,
            "align_items": null,
            "bottom": null,
            "_model_module": "@jupyter-widgets/base",
            "top": null,
            "grid_column": null,
            "overflow_y": null,
            "overflow_x": null,
            "grid_auto_flow": null,
            "grid_area": null,
            "grid_template_columns": null,
            "flex": null,
            "_model_name": "LayoutModel",
            "justify_items": null,
            "grid_row": null,
            "max_height": null,
            "align_content": null,
            "visibility": null,
            "align_self": null,
            "height": null,
            "min_height": null,
            "padding": null,
            "grid_auto_rows": null,
            "grid_gap": null,
            "max_width": null,
            "order": null,
            "_view_module_version": "1.2.0",
            "grid_template_areas": null,
            "object_position": null,
            "object_fit": null,
            "grid_auto_columns": null,
            "margin": null,
            "display": null,
            "left": null
          }
        }
      }
    }
  },
  "cells": [
    {
      "cell_type": "code",
      "metadata": {
        "id": "klVMXa8juRxA",
        "colab_type": "code",
        "colab": {
          "base_uri": "https://localhost:8080/",
          "height": 829
        },
        "outputId": "ef8d379c-7eac-4a07-d6a6-b921decb1ba1"
      },
      "source": [
        "! pip install -U sentence-transformers\n"
      ],
      "execution_count": 2,
      "outputs": [
        {
          "output_type": "stream",
          "text": [
            "Collecting sentence-transformers\n",
            "\u001b[?25l  Downloading https://files.pythonhosted.org/packages/b9/46/b7d6c37d92d1bd65319220beabe4df845434930e3f30e42d3cfaecb74dc4/sentence-transformers-0.2.6.1.tar.gz (55kB)\n",
            "\u001b[K     |████████████████████████████████| 61kB 2.2MB/s \n",
            "\u001b[?25hCollecting transformers>=2.8.0\n",
            "\u001b[?25l  Downloading https://files.pythonhosted.org/packages/9c/35/1c3f6e62d81f5f0daff1384e6d5e6c5758682a8357ebc765ece2b9def62b/transformers-3.0.0-py3-none-any.whl (754kB)\n",
            "\u001b[K     |████████████████████████████████| 757kB 8.8MB/s \n",
            "\u001b[?25hRequirement already satisfied, skipping upgrade: tqdm in /usr/local/lib/python3.6/dist-packages (from sentence-transformers) (4.41.1)\n",
            "Requirement already satisfied, skipping upgrade: torch>=1.0.1 in /usr/local/lib/python3.6/dist-packages (from sentence-transformers) (1.5.1+cu101)\n",
            "Requirement already satisfied, skipping upgrade: numpy in /usr/local/lib/python3.6/dist-packages (from sentence-transformers) (1.18.5)\n",
            "Requirement already satisfied, skipping upgrade: scikit-learn in /usr/local/lib/python3.6/dist-packages (from sentence-transformers) (0.22.2.post1)\n",
            "Requirement already satisfied, skipping upgrade: scipy in /usr/local/lib/python3.6/dist-packages (from sentence-transformers) (1.4.1)\n",
            "Requirement already satisfied, skipping upgrade: nltk in /usr/local/lib/python3.6/dist-packages (from sentence-transformers) (3.2.5)\n",
            "Collecting sacremoses\n",
            "\u001b[?25l  Downloading https://files.pythonhosted.org/packages/7d/34/09d19aff26edcc8eb2a01bed8e98f13a1537005d31e95233fd48216eed10/sacremoses-0.0.43.tar.gz (883kB)\n",
            "\u001b[K     |████████████████████████████████| 890kB 28.6MB/s \n",
            "\u001b[?25hRequirement already satisfied, skipping upgrade: regex!=2019.12.17 in /usr/local/lib/python3.6/dist-packages (from transformers>=2.8.0->sentence-transformers) (2019.12.20)\n",
            "Requirement already satisfied, skipping upgrade: dataclasses; python_version < \"3.7\" in /usr/local/lib/python3.6/dist-packages (from transformers>=2.8.0->sentence-transformers) (0.7)\n",
            "Requirement already satisfied, skipping upgrade: filelock in /usr/local/lib/python3.6/dist-packages (from transformers>=2.8.0->sentence-transformers) (3.0.12)\n",
            "Collecting tokenizers==0.8.0-rc4\n",
            "\u001b[?25l  Downloading https://files.pythonhosted.org/packages/e8/bd/e5abec46af977c8a1375c1dca7cb1e5b3ec392ef279067af7f6bc50491a0/tokenizers-0.8.0rc4-cp36-cp36m-manylinux1_x86_64.whl (3.0MB)\n",
            "\u001b[K     |████████████████████████████████| 3.0MB 37.4MB/s \n",
            "\u001b[?25hRequirement already satisfied, skipping upgrade: packaging in /usr/local/lib/python3.6/dist-packages (from transformers>=2.8.0->sentence-transformers) (20.4)\n",
            "Collecting sentencepiece\n",
            "\u001b[?25l  Downloading https://files.pythonhosted.org/packages/d4/a4/d0a884c4300004a78cca907a6ff9a5e9fe4f090f5d95ab341c53d28cbc58/sentencepiece-0.1.91-cp36-cp36m-manylinux1_x86_64.whl (1.1MB)\n",
            "\u001b[K     |████████████████████████████████| 1.1MB 38.0MB/s \n",
            "\u001b[?25hRequirement already satisfied, skipping upgrade: requests in /usr/local/lib/python3.6/dist-packages (from transformers>=2.8.0->sentence-transformers) (2.23.0)\n",
            "Requirement already satisfied, skipping upgrade: future in /usr/local/lib/python3.6/dist-packages (from torch>=1.0.1->sentence-transformers) (0.16.0)\n",
            "Requirement already satisfied, skipping upgrade: joblib>=0.11 in /usr/local/lib/python3.6/dist-packages (from scikit-learn->sentence-transformers) (0.15.1)\n",
            "Requirement already satisfied, skipping upgrade: six in /usr/local/lib/python3.6/dist-packages (from nltk->sentence-transformers) (1.12.0)\n",
            "Requirement already satisfied, skipping upgrade: click in /usr/local/lib/python3.6/dist-packages (from sacremoses->transformers>=2.8.0->sentence-transformers) (7.1.2)\n",
            "Requirement already satisfied, skipping upgrade: pyparsing>=2.0.2 in /usr/local/lib/python3.6/dist-packages (from packaging->transformers>=2.8.0->sentence-transformers) (2.4.7)\n",
            "Requirement already satisfied, skipping upgrade: certifi>=2017.4.17 in /usr/local/lib/python3.6/dist-packages (from requests->transformers>=2.8.0->sentence-transformers) (2020.6.20)\n",
            "Requirement already satisfied, skipping upgrade: chardet<4,>=3.0.2 in /usr/local/lib/python3.6/dist-packages (from requests->transformers>=2.8.0->sentence-transformers) (3.0.4)\n",
            "Requirement already satisfied, skipping upgrade: idna<3,>=2.5 in /usr/local/lib/python3.6/dist-packages (from requests->transformers>=2.8.0->sentence-transformers) (2.9)\n",
            "Requirement already satisfied, skipping upgrade: urllib3!=1.25.0,!=1.25.1,<1.26,>=1.21.1 in /usr/local/lib/python3.6/dist-packages (from requests->transformers>=2.8.0->sentence-transformers) (1.24.3)\n",
            "Building wheels for collected packages: sentence-transformers, sacremoses\n",
            "  Building wheel for sentence-transformers (setup.py) ... \u001b[?25l\u001b[?25hdone\n",
            "  Created wheel for sentence-transformers: filename=sentence_transformers-0.2.6.1-cp36-none-any.whl size=74031 sha256=e87a2e49f8e7e774b17b2ae247a7c8c908d5cddb9c448f08d60c6649b931a2aa\n",
            "  Stored in directory: /root/.cache/pip/wheels/d7/fa/17/2b081a8cd8b0a86753fb0e9826b3cc19f0207062c0b2da7008\n",
            "  Building wheel for sacremoses (setup.py) ... \u001b[?25l\u001b[?25hdone\n",
            "  Created wheel for sacremoses: filename=sacremoses-0.0.43-cp36-none-any.whl size=893260 sha256=5b23293f7e69b737d9ee034b76ca6961f5d87b8f01083097bb9460791dd23614\n",
            "  Stored in directory: /root/.cache/pip/wheels/29/3c/fd/7ce5c3f0666dab31a50123635e6fb5e19ceb42ce38d4e58f45\n",
            "Successfully built sentence-transformers sacremoses\n",
            "Installing collected packages: sacremoses, tokenizers, sentencepiece, transformers, sentence-transformers\n",
            "Successfully installed sacremoses-0.0.43 sentence-transformers-0.2.6.1 sentencepiece-0.1.91 tokenizers-0.8.0rc4 transformers-3.0.0\n"
          ],
          "name": "stdout"
        }
      ]
    },
    {
      "cell_type": "code",
      "metadata": {
        "id": "t3fTN4JwSu7d",
        "colab_type": "code",
        "colab": {}
      },
      "source": [
        "import numpy as np\n",
        "import pandas as pd\n",
        "import torch\n",
        "import transformers as ppb \n",
        "import pickle"
      ],
      "execution_count": 3,
      "outputs": []
    },
    {
      "cell_type": "code",
      "metadata": {
        "id": "Ilxldm-hocDr",
        "colab_type": "code",
        "colab": {
          "base_uri": "https://localhost:8080/",
          "height": 166,
          "referenced_widgets": [
            "ab3e5d6badfc438e97dab99fee55e121",
            "1b3d2c09b58642b683d7e68ee4d414aa",
            "0f326c4fc6594bd689a4b209646e2212",
            "8feab968f3b4492784a9db96fb2c7cd9",
            "9feb9b0c0de14cb3a1ca13da5ee2ea2f",
            "9b81dc6af12d4364ba4995da8c354d2e",
            "3959e1a7ca194bfe8d2a1fb93626ffde",
            "37e49ef4972e4af783ba90cd300e0ca4",
            "4b9c3fed0f124eeb9b01ee38df0a42be",
            "1fb4606cfbc54dc5870ab85aafe70506",
            "11903dac952a476f816011af76de483e",
            "ab35949d124d490bac7811661c508ebf",
            "dba1cff660734b209a38a9aa9d9e3385",
            "4e1e3f7f52c747dca9312975c2d8e008",
            "3e643b6d91b84f82ac7e63fc7f8a75ff",
            "02b4b00714a240439fdf56526c6dc90b",
            "525997ee2d4049c79ff24c800220c20f",
            "76324af2515a4422aa03ce181b0140b4",
            "4d645e7091fb4afaaf60c79ee6798029",
            "89d2a9e68dcd47028ae5958d34c4b770",
            "8ba8fd00eed341a593f9b56373bcfedd",
            "7e4079fc117a4ec09f752126c280b987",
            "3c04f48b226f45e48013b06f0a6df909",
            "128e3ab0769c463b97964b0f55b7d132"
          ]
        },
        "outputId": "278b1af7-84ef-4d68-c38c-a2c6b68bebfc"
      },
      "source": [
        "config = ppb.DistilBertConfig(max_position_embeddings=512)\n",
        "model_class, tokenizer_class, pretrained_weights = (ppb.DistilBertModel(config), ppb.DistilBertTokenizer, 'distilbert-base-uncased')\n",
        "tokenizer = tokenizer_class.from_pretrained(pretrained_weights)\n",
        "model = model_class.from_pretrained(pretrained_weights)\n"
      ],
      "execution_count": 4,
      "outputs": [
        {
          "output_type": "display_data",
          "data": {
            "application/vnd.jupyter.widget-view+json": {
              "model_id": "ab3e5d6badfc438e97dab99fee55e121",
              "version_minor": 0,
              "version_major": 2
            },
            "text/plain": [
              "HBox(children=(FloatProgress(value=0.0, description='Downloading', max=231508.0, style=ProgressStyle(descripti…"
            ]
          },
          "metadata": {
            "tags": []
          }
        },
        {
          "output_type": "stream",
          "text": [
            "\n"
          ],
          "name": "stdout"
        },
        {
          "output_type": "display_data",
          "data": {
            "application/vnd.jupyter.widget-view+json": {
              "model_id": "4b9c3fed0f124eeb9b01ee38df0a42be",
              "version_minor": 0,
              "version_major": 2
            },
            "text/plain": [
              "HBox(children=(FloatProgress(value=0.0, description='Downloading', max=442.0, style=ProgressStyle(description_…"
            ]
          },
          "metadata": {
            "tags": []
          }
        },
        {
          "output_type": "stream",
          "text": [
            "\n"
          ],
          "name": "stdout"
        },
        {
          "output_type": "display_data",
          "data": {
            "application/vnd.jupyter.widget-view+json": {
              "model_id": "525997ee2d4049c79ff24c800220c20f",
              "version_minor": 0,
              "version_major": 2
            },
            "text/plain": [
              "HBox(children=(FloatProgress(value=0.0, description='Downloading', max=267967963.0, style=ProgressStyle(descri…"
            ]
          },
          "metadata": {
            "tags": []
          }
        },
        {
          "output_type": "stream",
          "text": [
            "\n"
          ],
          "name": "stdout"
        }
      ]
    },
    {
      "cell_type": "code",
      "metadata": {
        "id": "V9xWNb_QmsnM",
        "colab_type": "code",
        "colab": {
          "base_uri": "https://localhost:8080/",
          "height": 125
        },
        "outputId": "df392901-02d4-40fd-b83a-9aafa3425c4a"
      },
      "source": [
        "from google.colab import drive\n",
        "drive.mount('/content/drive')"
      ],
      "execution_count": 6,
      "outputs": [
        {
          "output_type": "stream",
          "text": [
            "Go to this URL in a browser: https://accounts.google.com/o/oauth2/auth?client_id=947318989803-6bn6qk8qdgf4n4g3pfee6491hc0brc4i.apps.googleusercontent.com&redirect_uri=urn%3aietf%3awg%3aoauth%3a2.0%3aoob&response_type=code&scope=email%20https%3a%2f%2fwww.googleapis.com%2fauth%2fdocs.test%20https%3a%2f%2fwww.googleapis.com%2fauth%2fdrive%20https%3a%2f%2fwww.googleapis.com%2fauth%2fdrive.photos.readonly%20https%3a%2f%2fwww.googleapis.com%2fauth%2fpeopleapi.readonly\n",
            "\n",
            "Enter your authorization code:\n",
            "··········\n",
            "Mounted at /content/drive\n"
          ],
          "name": "stdout"
        }
      ]
    },
    {
      "cell_type": "code",
      "metadata": {
        "id": "Wln6ag2CLKk7",
        "colab_type": "code",
        "colab": {
          "base_uri": "https://localhost:8080/",
          "height": 35
        },
        "outputId": "177cacf6-fb89-4698-eff1-f082ffab968b"
      },
      "source": [
        "# cd content/"
      ],
      "execution_count": 7,
      "outputs": [
        {
          "output_type": "stream",
          "text": [
            "/content\n"
          ],
          "name": "stdout"
        }
      ]
    },
    {
      "cell_type": "code",
      "metadata": {
        "id": "6Tz9wugZnIGB",
        "colab_type": "code",
        "colab": {
          "base_uri": "https://localhost:8080/",
          "height": 35
        },
        "outputId": "0040de0c-b16d-4493-e127-827fc91dac50"
      },
      "source": [
        "# cd drive/My\\ Drive/raw_data/  "
      ],
      "execution_count": 7,
      "outputs": [
        {
          "output_type": "stream",
          "text": [
            "/content/drive/My Drive/raw_data\n"
          ],
          "name": "stdout"
        }
      ]
    },
    {
      "cell_type": "code",
      "metadata": {
        "id": "on8rfuHqFA-4",
        "colab_type": "code",
        "colab": {}
      },
      "source": [
        "with open(\"Onehack.pickle\", 'rb') as pickle_file:\n",
        "  data = pickle.load(pickle_file)"
      ],
      "execution_count": 8,
      "outputs": []
    },
    {
      "cell_type": "code",
      "metadata": {
        "id": "wMIzTeeJn31z",
        "colab_type": "code",
        "colab": {
          "base_uri": "https://localhost:8080/",
          "height": 1000
        },
        "outputId": "4dac9d02-fa4e-4440-fdbd-090d3bfc4775"
      },
      "source": [
        "# label=[]\n",
        "tokens=[]\n",
        "category=[]\n",
        "batch_num=0\n",
        "tokenout=[]\n",
        "\n",
        "for batch in range(0,len(data)-100,100):  \n",
        "  print(batch)\n",
        "  batch_num+=1\n",
        "  # label=[]\n",
        "  tokens=[]\n",
        "  # category=[]\n",
        "  for topic in range(batch,batch+100):\n",
        "\n",
        "    # label.append(slug[topic]['slug'])\n",
        "    tokens.append(tokenizer.encode(data[topic][-1], max_length=512,pad_to_max_length=True,truncation=True,add_special_tokens=True))\n",
        "    category.append(data[topic][1])\n",
        "    if (topic == batch+99):\n",
        "\n",
        "      tokenout.append(tokens)\n",
        "      input_ids = torch.tensor(np.array(tokens))\n",
        "\n",
        "      with torch.no_grad():\n",
        "        last_hidden_states = model(input_ids)\n",
        "\n",
        "      if (batch_num==1):\n",
        "        features = last_hidden_states[0][:,0,:].numpy()\n",
        "      \n",
        "      else:\n",
        "        features = np.concatenate((features,last_hidden_states[0][:,0,:].numpy()),axis=0)\n",
        "      \n",
        "      print(\"Done with Batch:\",batch_num)\n",
        "      \n",
        "with open(\"Onehack_features.pickle\", \"wb\") as output_file:\n",
        "  pickle.dump(features, output_file)\n",
        "\n",
        "#label = np.asarray(label).reshape(-1,1)\n",
        "category = np.asarray(category).reshape(-1,1)\n",
        "tokens = np.asarray(tokens)\n",
        "\n",
        "pd.DataFrame(tokenout).to_csv(\"Onehack_tokens.csv\")\n",
        "#pd.DataFrame(label).to_csv(\"bnzlabels.csv\")\n",
        "pd.DataFrame(category).to_csv(\"Onehack_category.csv\")\n",
        "      "
      ],
      "execution_count": 12,
      "outputs": [
        {
          "output_type": "stream",
          "text": [
            "0\n",
            "Done with Batch: 1\n",
            "100\n",
            "Done with Batch: 2\n",
            "200\n",
            "Done with Batch: 3\n",
            "300\n",
            "Done with Batch: 4\n",
            "400\n",
            "Done with Batch: 5\n",
            "500\n",
            "Done with Batch: 6\n",
            "600\n",
            "Done with Batch: 7\n",
            "700\n",
            "Done with Batch: 8\n",
            "800\n",
            "Done with Batch: 9\n",
            "900\n",
            "Done with Batch: 10\n",
            "1000\n",
            "Done with Batch: 11\n",
            "1100\n",
            "Done with Batch: 12\n",
            "1200\n",
            "Done with Batch: 13\n",
            "1300\n",
            "Done with Batch: 14\n",
            "1400\n",
            "Done with Batch: 15\n",
            "1500\n",
            "Done with Batch: 16\n",
            "1600\n",
            "Done with Batch: 17\n",
            "1700\n",
            "Done with Batch: 18\n",
            "1800\n",
            "Done with Batch: 19\n",
            "1900\n",
            "Done with Batch: 20\n",
            "2000\n",
            "Done with Batch: 21\n",
            "2100\n",
            "Done with Batch: 22\n",
            "2200\n",
            "Done with Batch: 23\n",
            "2300\n",
            "Done with Batch: 24\n",
            "2400\n",
            "Done with Batch: 25\n",
            "2500\n",
            "Done with Batch: 26\n",
            "2600\n",
            "Done with Batch: 27\n",
            "2700\n",
            "Done with Batch: 28\n",
            "2800\n",
            "Done with Batch: 29\n",
            "2900\n",
            "Done with Batch: 30\n",
            "3000\n",
            "Done with Batch: 31\n",
            "3100\n",
            "Done with Batch: 32\n",
            "3200\n",
            "Done with Batch: 33\n",
            "3300\n",
            "Done with Batch: 34\n",
            "3400\n",
            "Done with Batch: 35\n",
            "3500\n",
            "Done with Batch: 36\n",
            "3600\n",
            "Done with Batch: 37\n",
            "3700\n",
            "Done with Batch: 38\n",
            "3800\n",
            "Done with Batch: 39\n",
            "3900\n",
            "Done with Batch: 40\n",
            "4000\n",
            "Done with Batch: 41\n",
            "4100\n",
            "Done with Batch: 42\n",
            "4200\n",
            "Done with Batch: 43\n",
            "4300\n",
            "Done with Batch: 44\n",
            "4400\n",
            "Done with Batch: 45\n",
            "4500\n",
            "Done with Batch: 46\n",
            "4600\n",
            "Done with Batch: 47\n",
            "4700\n",
            "Done with Batch: 48\n",
            "4800\n",
            "Done with Batch: 49\n",
            "4900\n",
            "Done with Batch: 50\n",
            "5000\n",
            "Done with Batch: 51\n",
            "5100\n",
            "Done with Batch: 52\n",
            "5200\n",
            "Done with Batch: 53\n",
            "5300\n",
            "Done with Batch: 54\n",
            "5400\n",
            "Done with Batch: 55\n",
            "5500\n",
            "Done with Batch: 56\n",
            "5600\n",
            "Done with Batch: 57\n",
            "5700\n",
            "Done with Batch: 58\n",
            "5800\n",
            "Done with Batch: 59\n",
            "5900\n",
            "Done with Batch: 60\n",
            "6000\n",
            "Done with Batch: 61\n",
            "6100\n",
            "Done with Batch: 62\n",
            "6200\n",
            "Done with Batch: 63\n",
            "6300\n",
            "Done with Batch: 64\n",
            "6400\n",
            "Done with Batch: 65\n",
            "6500\n",
            "Done with Batch: 66\n",
            "6600\n",
            "Done with Batch: 67\n",
            "6700\n",
            "Done with Batch: 68\n",
            "6800\n",
            "Done with Batch: 69\n",
            "6900\n",
            "Done with Batch: 70\n",
            "7000\n",
            "Done with Batch: 71\n",
            "7100\n",
            "Done with Batch: 72\n",
            "7200\n",
            "Done with Batch: 73\n",
            "7300\n",
            "Done with Batch: 74\n",
            "7400\n",
            "Done with Batch: 75\n",
            "7500\n",
            "Done with Batch: 76\n",
            "7600\n",
            "Done with Batch: 77\n",
            "7700\n",
            "Done with Batch: 78\n",
            "7800\n",
            "Done with Batch: 79\n",
            "7900\n",
            "Done with Batch: 80\n",
            "8000\n",
            "Done with Batch: 81\n",
            "8100\n",
            "Done with Batch: 82\n",
            "8200\n",
            "Done with Batch: 83\n",
            "8300\n",
            "Done with Batch: 84\n"
          ],
          "name": "stdout"
        }
      ]
    },
    {
      "cell_type": "code",
      "metadata": {
        "id": "GKYgP7eYo_vC",
        "colab_type": "code",
        "colab": {}
      },
      "source": [
        "from scipy.spatial.distance import cdist\n",
        "Y = cdist(features, features, 'cosine')"
      ],
      "execution_count": 13,
      "outputs": []
    },
    {
      "cell_type": "code",
      "metadata": {
        "id": "g9FWptPt9SLp",
        "colab_type": "code",
        "colab": {
          "base_uri": "https://localhost:8080/",
          "height": 35
        },
        "outputId": "71a217a2-2971-448d-ddb0-6043698b9be1"
      },
      "source": [
        "# cd .."
      ],
      "execution_count": 14,
      "outputs": [
        {
          "output_type": "stream",
          "text": [
            "/content/drive/My Drive\n"
          ],
          "name": "stdout"
        }
      ]
    },
    {
      "cell_type": "code",
      "metadata": {
        "id": "8Sgd6Jck-9A5",
        "colab_type": "code",
        "colab": {
          "base_uri": "https://localhost:8080/",
          "height": 35
        },
        "outputId": "ae398fe5-00e4-4e05-d528-f533bdf2a93f"
      },
      "source": [
        "# cd raw_data/"
      ],
      "execution_count": 15,
      "outputs": [
        {
          "output_type": "stream",
          "text": [
            "/content/drive/My Drive/raw_data\n"
          ],
          "name": "stdout"
        }
      ]
    },
    {
      "cell_type": "code",
      "metadata": {
        "id": "xljnvz7Kywak",
        "colab_type": "code",
        "colab": {}
      },
      "source": [
        "with open(\"Onehack.pickle\", 'rb') as pickle_file:\n",
        "  text = pickle.load(pickle_file)"
      ],
      "execution_count": 16,
      "outputs": []
    },
    {
      "cell_type": "code",
      "metadata": {
        "id": "C27qfk8m1Nhc",
        "colab_type": "code",
        "colab": {}
      },
      "source": [
        "def recommend():\n",
        "  val = int( input(\"Enter a number between 0 and 8400:\"))\n",
        "  print('')\n",
        "  print(\"The article you've chosen:\",data[val])\n",
        "\n",
        "  similar_articles =  np.argsort(Y[val][:])[:11]\n",
        "  print('')\n",
        "  print(\"Few Articles you might like reading:\")\n",
        "  print('')\n",
        "  for i in similar_articles[1:]:\n",
        "    print(data[i])"
      ],
      "execution_count": 17,
      "outputs": []
    },
    {
      "cell_type": "code",
      "metadata": {
        "id": "3mlrPvZLILRU",
        "colab_type": "code",
        "colab": {
          "base_uri": "https://localhost:8080/",
          "height": 319
        },
        "outputId": "d95ceac7-ce5f-42b3-a25b-d6f612376d6c"
      },
      "source": [
        "recommend()"
      ],
      "execution_count": 18,
      "outputs": [
        {
          "output_type": "stream",
          "text": [
            "Enter a number between 0 and 800:1000\n",
            "\n",
            "The article you've chosen: ['https://onehack.us/t/cmd-commands-massive-list-all-windows-users-hackers-should-know/89062', ' Tutorials &amp; Methods ', ['tutorial', 'hackers', 'cmd-commands', 'massive-list', 'windows-users'], 'Hello, OneHackers’Here I am introducing the most known and powerful CMD Command Prompts that every Noob or expert should know, to make your task easier that everyone does on a regular basis. Probably, a few of commands expertise already know, but let noobs take maximum advantage they can to become a pro, kindly proceed and start reading, Note: this list collected from specific resources, there is not accurate list order & thanks to all of them who written detailed description for specific commands.The Windows command prompt is a feature that’s been a core part of the Windows operating system for a long time. There are some CMD commands that are so useful and easy to use that even regular users see the Windows command prompt as a key part of the operating system.There are always rumors that it will be phased out at some point, but that’s unlikely to happen any time soon.The following are 21 of the best CMD commands you should know if you want to have more control over your Windows PC.One of the most powerful tools in the CMD command library is the ASSOC command.Your computer associates certain file extensions with certain programs. This is how your computer knows to open Adobe when you double click a PDF file, or Microsoft Word when you double click a DOC file.You can view all the file associations your computer knows about by typing ASSOC in the command window. You’ll see the file extension and the program it’s associated with.You can set the association by typing something like assoc .doc=Word.Document.8 .Sometimes when files are changed over time, it’s hard to remember what the differences were between versions. You may not know that a CMD command offers the ability to compare files and see all differences, but it’s true.The FC command performs either an ascii or a binary file comparison and will list all of the differences that it finds.Fc /a File1.txt File2.txt will compare two ascii files.Fc /b Picture1.jpg Picture2.jpg will do a binary compare on two images.Network troubleshooting is never simple, but one command that makes it much easier is IPCONFIG .Using this command in the CMD command prompt returns detailed information about your current network adapter connection including:This information can help you troubleshoot router issues and other connection issues you could be having with your network adapter.Concerned that you could have malware running on your computer that’s connecting to internet locations without you knowing about it?If you run a NETSTAT command in the command prompt, you can get a list of all active TCP connections from your computer.An IT Analyst’s best friend is the PING command. Running this command sends test packets over the network to the target system.You can use the PING command to test whether your computer can access another computer, a server, or even a website. It can help with revealing network disconnections. It also provides transit time for the packets in milliseconds, so it also reveals a bad network connection as well.TRACERT is a fascinating Windows Command to use. If you’re ever curious to see the path your internet traffic takes to get from your browser to a remote system like Google servers, you can use TRACERT to see it.The command stands for “Trace Route”, which sends packets out to a remote destination (server or website), and provides you with all of the following information:TRACERT can reveal how the routes of your internet requests change depending on where you’re accessing the web. It also helps with troubleshooting a router or switch on a local network that may be problematic.Are you frustrated with how quickly your laptop seems to run out of power? It could be that your power settings are configured as efficiently as possible. There’s a windows CMD command called POWERCFG (power configuration) that can help. Run the command prompt as an administrator and type powercfg – energy to get a full power efficiency report.The process can take up to about a minute, but when it’s done, you’ll see whether there are any warnings or errors that might help you improve the power efficiency of your system.View the energy-report.html file to see the details of those errors and warnings.The SHUTDOWN command is a pretty versatile command that lets you shutdown the computer but control the behavior of that shutdown. It’s commonly used as a scheduled task or part of an IT batch job after patches have been applied to a computer system.Typing shutdown /i from the command prompt will initiate a shutdown, but it’ll upon a GUI to give the user an option on whether to restart or do a full shutdown. If you don’t want to have any GUI pop up, you can just issue a shutdown /s command.There is a long list of other parameters you can use to do a log off, hibernate, restart, and more. Just type shutdown without any arguments to see them all.If you need to know what brand of network card you have, processor details, or the exact version of your Windows OS, the SYSTEMINFO command can help.This command polls your system and pulls the most important information about your system. It lists the information in a clean format that’s easy to read.You can also type msinfo32 in Run command to get system information.If you’re ever concerned that a virus or some other software might have corrupted your core system files, there’s a Windows command that can scan those files and ensure their integrity.You need to launch CMD as administrator (right-click and choose Run as Administrator ). Typing SFC /SCANNOW will check the integrity of all protected system files. If a problem is found, the files will be repaired with backed-up system files.The SFC command also lets you do:The scan can take up to 10 or 15 minutes, so give it time.If you want to map a new drive, you could always open File Explorer, right-click on This PC, and go through the Map Network Drive wizard. However, using the NET USE command, you can do the same thing with one command string.For example, if you have a shared folder on a computer on your network called [\\\\OTHER-COMPUTER\\\\SHARE](file://other-computer/SHARE/), you can map this as your own Z: drive by typing the command:Net use Z: “[\\\\OTHER-COMPUTER\\\\SHARE](file://other-computer/SHARE)” /persistent:yesThe persistent switch tells your computer that you want this drive remapped every time you log back into your computer.While the SFC command only checks the integrity of core system files, you can use the CHKDSK command to scan an entire drive.The command to check the C: drive and repair any problems, launch the command window as an administrator and type CHKDSK /f C: .This command checks for things like:The command can fix any disk errors (if possible). When the command is finished, you’ll see a status of the scan and what actions were taken.Windows comes with a wizard for creating scheduled tasks. For example, maybe you have a BAT file stored on C:\\\\temp that you want to run every day at noon.You’d have to click through the Scheduled Task wizard to configure this. Or you can type a single SCHTASKS command to set it up.SCHTASKS /Create /SC HOURLY /MO 12 /TR Example /TN c:\\\\temp\\\\File1.batThe scheduled switch accepts arguments like minute, hourly, daily, and monthly. Then you specify the frequency with the /MO command.If you typed the command correctly, you’ll see the response, SUCCESS: The scheduled task “Example” has successfully been created .In Windows, you can change file attributes by right-clicking on a file and finding the right property to change. However, instead of hunting around for the file attribute, you can use the ATTRIB command to set the file attributes.For example, if you type: ATTRIB +R +H C:\\\\temp\\\\File1.bat , it’ll set File1.bat as a hidden, read-only file.There is no response when it’s successful, so unless you see an error message, the command worked.DxDiag is a diagnostics tool used to test DirectX functionality and troubleshoot video- or sound-related hardware problems, helpful in troubleshooting technical concerns with a computer, results to get detailed information about the DirectX components and drivers installed on your computer. DirectX Diagnostic can save text files with the scan results as well.As you can see, there are some powerful and useful things you can do with the Windows command prompt, if you know the right commands.Believe it or not, there are even more commands that will give you the ability to do some things you probably never realized just by typing a simple command.Here are similar and a few more: and here are the most known ones: To learn more and become a pro, Check out the full list of  included in the latest version of the Windows OS.Another great article. Thanks a lot I still remember the time when you have to load Windows 3.11 and you have to work through the CMD back them.(Yeah I know, I am THAT old )Powered by , best viewed with JavaScript enabled \\xa0 ']\n",
            "\n",
            "Few Articles you might like reading:\n",
            "\n",
            "['https://onehack.us/t/how-to-open-command-prompt-in-folder-using-windows-explorer/88013', ' Tutorials &amp; Methods ', ['tutorial', 'command-prompt', 'windows-explorer'], 'The Command Prompt is an incredibly useful way to perform certain tasks. For example, if you want to run a program with special parameters, the Command Prompt is one fast way to do it. The problem is that navigating the directory structure of a modern computer can be a real pain when using Command Prompt. Especially since Windows 10 supports such long folder and program names.The good news is that you can open Command Prompt directly from inside a Windows Explorer window. Taking you directly to that folder location!One important point about opening the command prompt in a folder is that we’re referring specifically to the Windows Command Prompt, rather than PowerShell. Although both programs look similar, being a text-command interface, they are actually very different.Command Prompt is a simple, lightweight text interface for Windows. In contrast, PowerShell is a complex, powerful command-line tool that lets power users do in-depth system management of the computer, among a long list of other handy abilities.Command Prompt uses the “CMD.exe” while PowerShell uses “powershell.exe”, so they are entirely separate. Although some of the functionality overlaps, the two programs may use different commands to accomplish the same job. This article is only about the Command Prompt, but some of the shortcuts will also work for PowerShell. We’ll indicate when this is the case.When you open a Windows Explorer folder, you’ll see an address bar similar to that in a web browser. By default, it shows the path of the current folder. You can see it here.If you click on this address bar, you can type in text. By typing “cmd” and hitting Enter, you’ll open up the command prompt at that location.This will also work if you type “powershell” instead of “cmd”. Taking you directly to the Windows PowerShell prompt at that folder.In early versions of Windows 10, there was a context menu entry called “Open command window here” which would open the Command Prompt in the folder location you specify. For example, if you right-click on a folder and use this command, the Command Prompt starts at the current folder location.After the 2017 Creator’s Update for Windows 10, Microsoft removed this option. Why? It’s most likely down to an effort from Microsoft to push people away from using the Command Prompt towards using PowerShell.Getting this command back is not very difficult, but it does require some tinkering in the Windows Registry. If you don’t feel comfortable doing that, it’s best to skip this method, but if you really want that context menu option back, here’s what to do.First, click Start and type regedit. Then click on the regedit program entry.With the registry editor open, look for the following registry key at this path:HKEY_CLASSES_ROOT\\\\Directory\\\\shell\\\\cmdThis is where things might start to feel a little risky, but we aren’t doing anything that will break your computer. But make sure you follow these exact instructions!Right-click on the key and click Permissions in the context menu.In the dialogue box that opens up, click Advanced.At the top of the advanced settings window, you’ll see the listed owner of the key. Click the Change option.Next, type your username and then click check names to validate it. Then click OK .Finally, make sure the Replace owner on subcontainers and objects box is selected before clicking OK .Now we’re back on the permissions page. Select Administrators under Group or user names and select Allow next to Full control . Then click OK .Now we have to restore the context menu entry for the Command Prompt.Back inside the CMD window, all we have to do is change the “DWORD” from “ HideBasedOnVelocityiD ” to “ ShowBasedOnVelocityId ”. Just right-click on it and choose rename, then change the name of the DWORD.If all has gone as planned, you should now see the “Open command window here” option, when you SHIFT+right-click an item in the Windows Explorer window.This next method of opening the Command Prompt from a Windows Explorer window involves navigating to where the Command Prompt program itself is stored and running it directly from there. This is still useful when, for one reason or another, other means of opening Command Prompt don’t work.You can find “cmd.exe” in C:\\\\Windows\\\\System32. If you want to run it with administrative privileges, simply right-click cmd.exe and choose Run as administrator . There are plenty of commands that require administrative privileges to work and this is one of the ways you can start the Command Prompt with those privileges without leaving Explorer.As they’ve done with HyperTerminal, Microsoft may choose to one day completely phase out Command Prompt, in favor of PowerShell. While that’s not a bad thing in itself, PowerShell could do with some polish to help non-power users who would have been fine with the Command Prompt to use common functions just as easily. Still, until the day Command Prompt actually does go the way of the Dodo, you can rest assured it’s only a few clicks away.(Source: helpdeskgeek)That’s old but gold.The same if you type “powershell” on the command bar, it launches powershell.Basically every command you type on that bar, opens the application using current path.Powered by , best viewed with JavaScript enabled \\xa0 ']\n",
            "['https://onehack.us/t/top-10-useful-windows-10-registry-hacks-you-should-know-windows-tips/65884', ' Tutorials &amp; Methods ', ['windows-tips', 'registry-hacks', '10-useful'], 'To help you improve your Windows 10 experience, here are many Windows 10 registry hacks worth trying. Before you start, one thing you should keep in mind is that you need to be careful to use  because messing with it could corrupt your Windows.Thus, it’s recommended you to follow the instructions precisely and make clear what you are doing. In addition, you had better perform a backup of Windows to restore your system in case it crashed.Speaking of backup, there is a piece of reliable and professional  — MiniTool ShadowMaker. It is pretty safe and easy to back up your system. Besides, this tool allows you to back up files and folders, disks and partitions.In addition, it supports restoring your system image to the original device and other computers. What’s more, MiniTool ShadowMaker enables you to  to other locations.You can download MiniTool ShadowMaker Trial from the following button or choose to .Now, let’s see how to back up your Windows system.Step 1: Decide a Backup ModeLaunch MiniTool ShadowMaker and click Keep Trial .Then click Connect in This Computer to enter the main interface.Step 2: Choose Backup SourceGo to the Backup page.This software selects the system partition and system reserved partition by default.Step 3: Choose a Destination Path to Store Your SystemThen choose a destination path to store your system and click OK .Step 4: Start to Back upGo back to the following interface.You have two options: click Back up Now to start the backup process immediately or click Back up Later to delay the backup process.Here are all the steps of using MiniTool ShadowMaker to back up your system.After you have backed up the system, you can proceed to follow the top 10 Windows 10 registry tweaks to improve the performance of your system. First, you should open the Registry Editor application. Here are two methods for you.OneDrive is Microsoft’s cloud service that can be used to sync/upload/store files. If you are not a regular user of the OneDrive service in Windows, there is no need to remain it and you can delete it. To delete it from the  application using Registry Editor, follow the instructions given below:Step 1 : Navigate to the following path:Computer\\\\HKEY_CLASSES_ROOT\\\\CLSID{018D5C66–4533–4307–9B53–224DE2ED1FE6}Then the OneDrive option will be deleted from the File Explorer application. If you want it back, you should follow the steps above again and change Value data to 1 .Changing Windows apps and settings to dark mode is one of the Windows 10 registry tweaks. It’s better for your eyes to read white writing on a dark background rather than a light background. The steps are as follows:Step 1: Navigate to the following path and press the Enter key to open it.Computer\\\\HKEY_CURRENT_USER\\\\Software\\\\Microsoft\\\\Windows\\\\CurrentVersion\\\\Themes\\\\PersonalizeStep 2: Right-click an empty space in the right-side panel. Then select New > DWORD (32-bit) value .Restart your computer. Open the Settings application and you will see that the background is changed to the dark mode.Pagefile.sys acts as virtual RAM, and Windows uses it as RAM to store unused programs to reduce the pressure on actual RAM. You should not disable it, but you can delete it to save space and avoid any vulnerabilities.The size of the Pagefile.sys is almost close to the actual RAM, so depending on your RAM, it can take up a lot of space. You can delete Pagefile.sys at shutdown setting, which saves space but the shutdown time will become longer. Here is how to do that:Step 1: Navigate to the following path in Registry Editor:Computer\\\\HKEY_LOCAL_MACHINE\\\\SYSTEM\\\\CurrentControlSet\\\\Control\\\\Session Manager\\\\Memory ManagementStep 3: Set its Value data to 1 and click OK . Then restart your PC.Every time you shut down your PC, the pagefile will be deleted. You don’t need to worry about it because the pagefile will be created again when needed.In addition to the Windows 10 registry hacks above, there is another hack — open the last active window from on your taskbar. If you accidentally close the tabs/windows of an application, it can help you make them back. You just need to do a simple click. To do this:Step 1: Copy and paste this path in Registry Editor and press the Enter key.Computer\\\\HKEY_CURRENT_USER\\\\Software\\\\Microsoft\\\\Windows\\\\CurrentVersion\\\\Explorer\\\\AdvancedStep 2: Right-click the empty space and select New > DWORD(32-bit) .The Aero Shake feature allows you to minimize the other window by shaking nearby it. You may not have realized you even had this feature, but now that you know, you might not want it. To remove it, you should follow the steps below:Step 1: Navigate to the following path:Computer\\\\HKEY_CURRENT_USER\\\\Software\\\\Microsoft\\\\Windows\\\\CurrentVersion\\\\Explorer\\\\AdvancedWindows 10 Action Center sidebar provides handy quick-access buttons and notifications. However, if you don’t need it and are not comfortable with the sidebar, you can simply disable it. Thus, one of the Windows 10 registry hacks is to remove the Windows 10 Action Center sidebar:Step 1: Copy and paste this path in Windows 10 registry editor. Then press the Enter key.Computer\\\\HKEY_LOCAL_MACHINE\\\\SOFTWARE\\\\Microsoft\\\\Windows\\\\CurrentVersion\\\\ImmersiveShellStep 2: Right-click an empty space in the right-side pane, select New > DWORD (32-bit) , then name it UseActionCenterExperience . Then change its Value data to 0 and click OK .After, restart the PC, and you will see that the Action Center sidebar will be gone, and the notification panel will be much cleaner and smaller in size.You have full control of the context menu and you can customize it. The seventh Windows 10 hack is adding apps to the context menu. Here is how to do that:Step 1: Copy and paste this path:Computer\\\\HKEY_CLASSES_ROOT\\\\Directory\\\\Background\\\\shellStep 4: Then right-click the Default file to choose the Modify option. Type Notepad.exe in the Value field and click OK .Now, right-click on the desktop and you can see the Notepad option right there.You can use the Winver command to check the registered owner of the Windows.If you always want Windows to ask you to confirm deleting the file, here is a dialogue hack for you. This confirmation dialog actually helps securely delete the file. The steps are as follows:Step 1: Navigate or copy-paste this path:HKEY_CURRENT_USER\\\\Software\\\\Microsoft\\\\Windows\\\\CurrentVersion\\\\PoliciesThen it will prompt up this dialog box for confirmation whenever you try to delete any file from the Windows.You have got 9 Windows 10 registry hacks. Here is the last one for you — you can also increase the Windows tabs’ current border width. Windows provide a default amount of tiny border around the tabs or Explorer windows. Here is how to change it.Step 1: Go to the following path:HKEY_CURRENT_USER\\\\Control Panel\\\\Desktop\\\\WindowMetricsStep 2: Find the key file named BorderWidth .Here is all the information about the top 10 Windows 10 registry hacks.This post has introduced the top 10 Windows 10 registry tweaks for you. All of them can improve the performance of your system and make you have a better experience when you use the PC. Click to tweetTo sum up, you can use the Windows 10 registry tweaks to improve the performance of your system. Before you do, you should use MiniTool ShadowMaker to back up your system to avoid something wrong with it.If you have any problem with MiniTool product, send an email to .Powered by , best viewed with JavaScript enabled \\xa0 ']\n",
            "['https://onehack.us/t/how-to-create-custom-keyboard-shortcuts-for-anything-in-windows-8-10-easy-method/62268', ' Tutorials &amp; Methods ', ['windows-10-tips', 'tips-tricks', 'keyboard-shortcuts', 'create-shortcuts', 'custom-shortcuts'], 'Speed up your workflow and get rid of repetitive tasksWant to know how to create keyboard shortcuts to do anything on Windows 10? This guide will help. Surprisingly, it’s quite easy to create a quick keybind that can open programs, perform repeatable tasks, and speed up your workflow.I’ll suggest a number of different options you can use to make keyboard shortcuts and provide some examples of how you can use them to their max potential.I can see this shortcut option being useful for a large number of Windows 10 users. It’s quick and easy to set it up so that a quick shortcut can open any executable file. Here’s how to do it.First, download the . It’s free to use. It’s a bit old, but it works and it’s clean. Once downloaded, go through the installer wizard, then launch WinHotKey. In WinHotKey, click New HotKey in the top left.In the new window that appears, give the hotkey a name. After, choose what combination you’d like to trigger the shortcut. For example, I chose to do a Windows+F2. After, you can click the Browse option to find the location of the executable you’d like to open.Alternatively, you can just copy and paste the location. WinHotKey will automatically grab the application icon so that you are given a visual context about it. You can now open your program with the hotkey you’ve specified.You must make sure that your keyboard shortcut doesn’t conflict with any existing shortcuts, either Windows defaults or from within the WinHotKey interface. For example, Alt+F4 couldn’t be used. It’s best to stick to Windows + ’X’ combinations to avoid conflicts.If you consistently type the same sentences or words, you can automate it with WinHotKey too. To do this, click New Hotkey in WinHotKey, then click the drop-down box under I want WinHotKey to and select Type some text.Now, type or paste the text into the box at the bottom of the new hotkey window. Finally, make sure to choose a new keyboard shortcut you haven’t used before.There isn’t a limit on how many characters you use with this shortcut, but if there is a line break in anything you paste, it will end there. So, it’s best for copying single paragraphs, things like hashtags for Instagram or social links for YouTube descriptions.WinHotKey can also be used to quickly open specific folders and documents within Windows 10. You can simply select the Open a Document or Open a Folder options under the I want WinHotKey to dropdown box and then follow the same steps as above.This time though, you’ll need to browse to a specific file or application. If you choose the open document option, most documents will work, so long as you have a supporting application defaulted to open those kinds of files. From my testing, I could get Photoshop, office apps like Excel, PDF files, and text files.If a file didn’t work, Windows 10 will ask you to choose a default application for that file type, and then future hotkeys with that file type would then also work.AutoHotkey is another application for Windows 10 that can help you to create more complex keyboard shortcuts. This software can be used to automate a large number of different tasks. You can  for free.Once you’ve downloaded it, extract the file to a memorable location. Then, in the directory, double click an .ahk file, then when asked, choose to browse what application should be used to open such files. Next, browse and navigate to AutoHotkeyU64. This will allow you to run AutoHotkey scripts by double-clicking them.It’s very easy to use emojis on a smartphone, but there isn’t any easy way to do this on a computer by default. With Autohotkey, you can set up a number of emoji shortcuts. Here’s how to do it.Creating a hotkey extension can be quite complex, but thankfully there are dozens of great AutoHotkey scripts on the internet. For creating emojis, .On the page shared above, click the Raw button to be taken to a raw text file. Next, press Ctrl+A to select the entire code. Then press Ctrl+C to copy it all. After, open a Notepad file and paste the code there.Now, click File in Notepad, then click Save as. Navigate to the directory you extracted Autohotkey. Next, click the Save as type drop-down box and select All files. Now, name it Emoji.ahk and click Save.To use this hotkey script, you’ll need to double click it each time you start your PC. After, you can type emoji codes like smiley: to automatically use emojis. At any time, you can refer back to the Github link above to see which codes are used for each emoji.The potential for more advanced Autohotkey scripts is quite impressive. You can read up on some of the . Some examples include the following:I hope that this guide on using Windows keyboard shortcuts has been useful. Did you learn anything? I hope so. Stay tuned more!I’m a fan of AutoHotKey after switching from a MacBook Pro to a Windows laptop - the problem was that I loved the MacOS keyboard shortcuts because they were so easy on my fingers, whereas Windows shortcuts were hurting my fingers, so I used AHK to remap all the shortcuts like those on a Mac (e.g. instead of Ctrl+C/V/X, I now use Alt+C/V/X because the fingers stay close together)Powered by , best viewed with JavaScript enabled \\xa0 ']\n",
            "['https://onehack.us/t/how-to-capture-images-and-annotate-them-quickly-with-draft-notes/84721', ' Tutorials &amp; Methods ', ['tutorial', 'capture-images', 'draft-notes'], 'These days a lot of classes and conferences are being held through video streams. If you are taking part in one, and wish to save something important, using a screen grabber program maybe a good idea.Draft Notes serves not just as a screenshot tool, but also as a quick annotation utility. The application is portable. When you run Draft Notes, it opens a command window and the program’s interface. Closing the command-line window exits the application as well, instead you should minimize the window so it doesn’t block the screen capture partially.Most screenshot tools let you select the area by drawing a box with the mouse, Draft Notes does this slightly differently. You’ll need to move the program’s interface to be on top of the area that you wish to capture. That’s why the GUI is transparent. Click inside the interface to capture the content, and Draft Notes will prompt you to save the image. Screenshots can be saved in JPG, BMP or PNG formats.Sure, this may appear to be a weird way. But Draft Notes isn’t your average screenshot tool, it’s meant to be an annotation tool, i.e. the second you capture screenshots, you can add annotations quickly. Once you put it to use, it does makes sense.This one is pretty important. Let’s say you placed the capture window in the top left corner of your screen, and took a screenshot. And then you moved it to a different location to take another screenshot, Draft Notes will still capture the area that you selected for the first screenshot, not the one where you moved it to.This is not a bug. If you’re watching a webinar or something, and want to save content from it (for e.g. slides from a presentation) you don’t want Draft Notes’ interface over the stream’s window obstructing your view. So, you can set the program to capture a screen grab of the stream once, move it aside, and continue capturing content from the selected area even if the interface is on a different part of the screen.On the other hand if you want to select a new area, right-click in Draft Notes’ interface, and click “Set Grab Area”. Now, draw a box over the content that you’d like to save, while holding the Ctrl key. Or just restart the program and place it over different are, that works too.When a screenshot has been captured, it is displayed in the program’s interface. Click and drag an area that you wish to add a note or caption to, and let go of the mouse button. Draft Notes automatically adds a text box at the end of the line that you drew, and you can type something inside the box. This is the annotation tool of the program.Essentially, the entire process from capturing the screenshot and annotating it, takes just a few seconds. And the added advantage of saving subsequent captures instantly is very handy.Note: The captured screenshot may appear blurry in the preview, but it isn’t so. The preview pane is more of an image viewer that scales the view in an odd way (when you drag the corners of the window to resize it), the saved screenshot retains the crisp quality as expected.Draft Notes can automatically add text content from the clipboard to the annotation box that you add to screen grabs. You can disable this behavior from the context menu. It also houses an option disable the interface’s transparency, but I found the non-opaque GUI to be a hindrance while lining it up over the area I wanted to take a snapshot of. On the other hand, disabling the transparency is useful when you want to see the preview of the captured shot.The biggest drawback in Draft Notes is the lack of an unlimited undo option. But to make up for this, it offers non-destructive editing. When you save an image for the first time, it uses the name as “the prefix” to autosave all future screenshots for that session. This maybe useful if you’re taking part in an online class or conference, because you don’t have to constantly bring up the “Save” dialog. If a screenshot is captured, the original image will not be affected when you edit it. A new image that ends with the suffix “_n” is automatically created, and this contains the edits you made.Draft Notes can be used with your existing images as well, so you can use it to annotate on older screenshots if required. Use the mouse wheel to navigate to the previous or next image in a folder. There is a toolbar is on the right edge of the screen. It has options to draw a polygon, line + arrow, rectangle and a text only mode. You may change the color of the text and the font size as well.The application is open source, and the executable is about 3.12MB in size.The interface and capturing methods takes some time get used to, but given that Draft Notes is fairly new, hopefully it will be improved in the future. It’s an interesting application, but only for those who want to annotate content quickly.Source: ghacksPowered by , best viewed with JavaScript enabled \\xa0 ']\n",
            "['https://onehack.us/t/automate-metasploit-with-easysploit-easy-to-use-faster/63454', ' Tutorials &amp; Methods ', ['metasploit', 'automate', 'easysploit'], 'I bet you are a lazy person! That’s why you are here.It’s okay to be lazy. Most lazy people get creative minds to make tough work easy. Maybe that’s why someone lazy made the Easysploit tool for Metasploit Automation. Not so many people like typing lines of commands all time. This tool can be a little solution.The tool comes with some options to create payload for Windows, Android, MacOS, Linux, and Web. Also, it gives options for some Windows, Vista, XP exploits. But these exploits are not useful because probably most of the people on this universe run latest versions of OS after the Wannacrypt attack.If you want to use Easysploit the only job left for you is choosing the options and let Easysploit do the rest.Let’s see the tool works or not.Fire up your Kali Linux Machine, open up the terminal, change the directory to the Desktop and download or clone the tool from .cd Desktop/git clone Extract the zip and open up the extracted folder. Here you can see a script named installer.sh. That is what we want. This is basically a shell script. Launch the tool with the command-Bash installer.shOkay, the script is successfully installed. Type ’ easysploit ’ anywhere in the terminal to launch the tool. Let’s test one option. We will choose option 1 to test it on Windows.The process is simple we do all the time with a RAT to create a server. But still, let’s have a look at the process.If you want it to work over WAN, you need a static IP and a router with port forwarding capability.Choose option 1. Now it will create a payload with the name test.exe and save it on the path root/Desktop . And creates a listener automatically without asking. The payload name can be changed in the codes of the shell script.Now you need to send the payload to the victim and make him click on the payload. Use Social Engineering methods to make him click. After getting a response, you will be connected to the machine. Now use the Metasploit commands to control the compromised machine.Important Note: The update v3.1 has an issue that it fails to validate the Lhost. But don’t leave without checking if the creator resolved the issue or not. We are so sorry that we couldn’t show you the process. But as soon the creator resolves the issue we will update our article.These tools are really fun. Metasploit needs very long commands and not every student are able to remember them. We can sort out this problem a little by tools like Easysploit.The tool is really good. Easy to use and clean interface. We should thank the creator of this tool. We found the tool very good. What’s your opinion? Rate the tool from 1-10 in the comment box below.As the tool is in development you may found many issues. Ask in the comment box and we will try our best to give the solution.The tutorial is only for educational purpose. Illegal use of them can lead to punishment. Use them at your own risk. If you are using it for pen-testing, make sure you’ve taken written permission from the owner.thanks for sharing ! Powered by , best viewed with JavaScript enabled \\xa0 ']\n",
            "['https://onehack.us/t/bruteforce-a-login-page-using-blazy-tool/93354', ' Tutorials &amp; Methods ', ['hacking-tools', 'hacking-tutorials'], 'Blazy is a python script to bruteforce login pages. The script takes input from usernames.txt and passwords.txt and try every possible combination to find the correct authentication credentials. It can also check for login bypass via SQL injection and CSRF.Common usernames and passwords can be downladed online. kali linux has a built in tool called CRUNCH which can generate every possible usernames and password according to your need. git clone  cd Blazy pip install -r requirements.txtInside the downloaded folder you can see two files username and password, Replace it with your custom wordlist or common wordlist.now in the terminal type:python blazy.pynow paste the url of your target login page. depending on the network speed and password strength, this may take quite a while.Has anyone tried this stuff? Please help me because am stuck somewhere: All this app does (if it works at all, as you can see on the git issues page for this app, which also has had no updates in over a year) is try one combo of username and pw after another.And it does so using a username and pw text file that you need to provide it. So somehow you would have to find a giant (and I mean GIANT) combo list that provides all the combinations for usernames and passwords that you can come up with. The pws of course, need to be in 6 characters, using uppercase and lowercase letters, as well as digits, and a few additional special characters. (This is assuming the website does not require a 8-digit pw, as has become standard. And that you know what special characters the site forbids or allows.)Once you have the files with these millions of combos, you can let this app work for a few years straight and see if can find the username and password. Make sure to pray every day of those years that the website you are trying has zero security and people managing it cannot see that something is trying combos on this single log in page every second for many years.As you know the poster tells you on “Feature Number 8” that this app provides “100% accurate results.” (That is, after telling you in “Feature Number 5” that it provides “90% accurate results.”) Putting aside the question of that missing 10%, the poster is quite correct; but only assuming you provide the correct username and pw in that GIANT list I was talking about.See? All very simple, right? No wonder the tool is called “Blazy” as in blazing fast—that is, if your idea of blazing fast is taking four years non-stop to brute force a log in page.Let us know how it goes. Hopefully we all will be still around in four years.that’s a 3 years old tool…: Good point. That is what I was saying. Brute forcing does not work these days.Powered by , best viewed with JavaScript enabled \\xa0 ']\n",
            "['https://onehack.us/t/how-to-install-a-new-operating-system-in-vmware-workstation-pro-step-by-step/61765', ' Tutorials &amp; Methods ', ['installation', 'vmware-workstation', 'operating-system'], 'VMware Workstation Pro is paid virtualization software that lets you run another operating system inside your current one. Want to use Linux for some situations but you’ve only got a Windows 10 computer? No problem — use VMware Workstation on Windows to install Ubuntu.This program even lets you run multiple operating systems at the same time. If all you have is Windows 10 but you like to play old Windows XP games and also use a few programs that only work on a Mac, just load up the XP or Mac virtual machine, make it full screen, and use it just like you would if it were the only OS you had.The process to install a new operating system in VMware Workstation is fairly straightforward because the setup wizard makes things super easy. Below are step-by-step screenshots showing everything you need to know, from the initial setup screen all the way to booting into the new operating system.Tip: Also be sure to read the section at the very bottom of this page for some first-install tips.Step 1 : Go to File > New Virtual Machine .Step 2 : Select Typical (recommended) , and then press Next .Step 3 : Pick how to install the operating system.Select Installer disc if the operating system is in the disc drive. Otherwise, choose Installer disc image file (iso) if you have a file that contains the OS, like a Windows 10 ISO or an ISO for macOS.Step 4 : Choose precisely where the OS files are located.If you selected to install the operating system from a disc, choose the correct disc drive from the drop-down menu. For an ISO install, select Browse and locate the ISO image.Step 5 : Press Next to proceed to the screen where you name the new virtual machine and pick where its files should be stored. Fill out that information and then select Next again.Important: Be sure to pick a location that can handle the possibly ultra-large files created by the operating system as you use it. You might end up needing hundreds of gigabytes if you use this VM heavily. Storing it on an external hard drive is a good idea if your local hard drive doesn’t have the space.Note: For some operating system setups, you’ll be asked to enter the product key used to activate it. You should be able to skip through that step if you want to enter the key later.Step 6 : Define how storage should take place with this virtual machine, and then press Next .You can change the maximum size of the virtual hard drive from the small box. From the bottom of this window are two options: Store virtual disk as a single file and Store virtual disk into multiple files .Pick the second option if you think you might one day move the VMware hard drive to a different computer, but take note of the text on that screen that mentions a possible performance reduction of using multiple files with a large hard drive.In other words, if you plan to store lots of data in this VM, select the “single file” option, otherwise go with “multiple files.”Step 7 : Select Customize Hardware and make any necessary changes. You can change details about the memory, processors, disc drive, network adapter, USB controller, sound card, printer, and display.For example, the Memory section is how you specify how much physical RAM the virtual machine is allotted. If you later decide that you’ve given too little memory to the VM, it might perform slowly. Similarly, if you give too much, your host computer will perform sluggishly and will have a difficult time even using the VM.VMware Workstation recommends a specific amount based on how much you have installed, but you can adjust the memory to anything you like (though it’s best to stick to the recommended level). Different operating systems require different amounts of memory (e.g., Windows 10 needs more than Windows 2000).Network Adapter is an important component here that you might end up having to adjust later if your virtual machine doesn’t have internet access. There are multiple options, and some may or may not work properly depending on how your host computer is set up and how the guest OS (the VM) works. You can skip this for now to have the default option chosen for you.Step 8 : Choose Close to exit the Hardware screen, and then press Finish .VMware Workstation will create the virtual disk you specified in Step 6 and then turn on the virtual machine automatically. This process might take a while, but you can watch the progress bar for an estimation of when it will finish.Step 9 : Follow any on-screen prompts to begin the OS installation. For example, if you see Press any key to boot from CD or DVD , do that to start the OS setup.Step 10 : Follow the directions for your specific operating system install to add the OS to VMware Workstation.The VM > Snapshot option is how you “freeze” the current state of the VM so that you can return to that same state again later. You might need to do this if the operating system fails later on, you get lots of viruses that can’t be cleaned, or you simply want to start over from a fresh install.We recommend making a new snapshot the moment the operating system is fully installed and you get logged in, but before you make any changes to the VM.However, even after that, consider installing all the operating system updates and any of your necessary programs, like your favorite web browser and antivirus software, Adobe Flash, etc., and then make another snapshot. Restoring the VM back to a state that includes those items will save you time not having to reinstall all of them.Once the operating system has been installed and is running, go to VM > Settings to adjust any hardware settings you changed or didn’t change from Step 7. Some options are only editable when the virtual machine is off.At any time when the VMware virtual machine is on, you can shut it down or restart it from the VM > Power menu. This is also how you suspend the VM, which means to pause it so that you can resume at that exact same point the next time you access it. This is different from powering it on from an off state where you have to log back in again, open programs and files, etc.ALL SET!Powered by , best viewed with JavaScript enabled \\xa0 ']\n",
            "['https://onehack.us/t/he-hardware-read-write-utility-is-an-advanced-system-diagnostic-tool-for-windows/81961', ' Tools &amp; Scripts ', ['tool', 'windows', 'he', 'diagnostic-tool'], 'How many devices are installed on your computer? What’s the name of the installed driver and version for each? Not everyone needs to know or wants to know, but if you need to dig a bit deeper, you may find third-party tools useful for that task.HE - Hardware Read & Write Utility is an advanced system diagnostic tool for Windows that can answer those questions and more. Now, this is not a system monitoring tool. Feel free to check out Thilmera7 or DesktopInfo if you want to monitor your computer’s CPU, Memory usage and other hardware metrics.Hardware Read & Write Utility has a 2-pane GUI. The side-panel on the left lists the various components in your computer, it’s called the Device Manager. The list includes Processor, Memory, Display, Storage, USB, PCI, Operating System and more.Select a component and its details are displayed on the right pane. This differs for each part. For e.g. click on the processor tab, and you will see its name, model, frequency at the top, while the rest of the pane has the technical information about the part.The USB diagnostic tool lists devices which you have connected and those that were previously used on the computer, just like Windows Device Manager’s “Show Hidden Devices”, but Hardware Read & Write Utility presents the information in an easy-to-read manner.The application also tells you the serial number and/or the part number of components, so if you ever need to replace something, you can use it to get the information before you order a new part.The Operating System (misspelled in the GUI) has its own list of tools. You can use these to view a summary of the system like the operating system’s information, BIOS, Power Status, etc. The Windows Devices tab lists each device installed on your system along with the driver version details. The Process tab is a Task Manager, which you can use to monitor running processes. Other informative tools in the program include managing the Services, Software, Startup, Event Log, Network Adapter properties, to name a few.The toolbar at the top of Hardware Read & Write Utility’s interface, can be used to navigate the sidebar and to refresh the list. Generate a summary of your system’s hardware by clicking on the paper icon. Hardware Read & Write Utility opens a new window to display the report in the built-in viewer. You can read the summary, search for keywords, zoom in or out. And since it’s displayed in plain-text, you may copy and paste it into a text editor too.Worth it, follow the tutorial here:HE - Hardware Read & Write Utility is an advanced system diagnostic tool for Windows. You can use it to generate a report of all components on your PC.HE - Hardware Read & Write Utility is an advanced system diagnostic tool for Windows. You can use it to generate a report of all components on your PC.Powered by , best viewed with JavaScript enabled \\xa0 ']\n",
            "['https://onehack.us/t/sysanalyzer-automated-malcode-analysis-system-malware-tool/66653', ' Tools &amp; Scripts ', ['sysanalyzer', 'automated-malcode', 'analysis-system'], 'Are you curious is there malware on your system machine ?, because sometimes the computer is rise in temperature or slows without doing a game or run a heavy program. If something like that happens on your computer, you have to worried about malware issues on the system. But, don’t worry you can check and analyze malcode or malware in your system with a tool called “ SysAnalyzer “.SysAnalyzer is an open-source application that was designed to give malcode analysis an automated tool to quickly collect, compare, and report on the actions a binary took while running on the system.A full installer for the application is available and can be downloaded here . The application supports windows 2000 – windows 10. Including x64 support.The main components of SysAnalyzer work off of comparing snapshots of the system over a user-specified time interval. The reason a snapshot mechanism was used compared to a live logging implementation is to reduce the amount of data that analysts must wade through when conducting their analysis. By using a snapshot system, we can effectively present viewers with only the persistent changes found on the system since the application was first to run.While this mechanism does help to eliminate a lot of the possible noise caused by other applications, or inconsequential runtime nuances, it also opens up the possibility for missing key data. Because of this SysAnalyzer also gives the analyst the option to include several forms of live logging into the analysis procedure.When first run, SysAnalyzer will present the user with the following configuration wizard:The executable path textbox represents the file under analysis. It can be filled in either byFor files which must open in a viewer such as DOC or PDF files, specify the viewer app in the executable textbox, and the file itself in the arguments textbox.there are handful of options available on the screen for optional live logging components such as full packet capture, API logger, and sniff hit. you can also run it as another user.These options are saved to a configuration file and do not need to be entered each time. Note that users can also select the “Skip” link in order to proceed to the main interface where they can manually control the snapshot tools.note that the API logger option is generally stable but not entirely so in every case. I generally reserved this option for when I need more information than a standard analysis provides.Once these options are filled in and the user selects the “Start button” the options will be applied, a base snapshot of the system taken, and the executable launched.Note: SysAnalyzer is not a sandboxing utility. Target executables are run in a fully live test on the system. If you are testing malicious code, you must realize you will be infecting your test system.SysAnalyzer’s is designed to take snapshots of the following system attributes:Powered by , best viewed with JavaScript enabled \\xa0 ']\n",
            "['https://onehack.us/t/best-registry-tweaks-to-enable-hidden-features-on-windows-10/54274', ' Tutorials &amp; Methods ', ['windows-registry', 'tweaks'], 'Did you know Windows 10 has several hidden features and settings that reside within the operating system? But can’t be accessed through any normal because they’re hidden out of sight, And the only way to access them is by means of the Windows registry editor . If you are looking for the Windows 10 hidden features, Here we have some Windows 10 Registry Tweaks To Enable the Hidden Gems . Let’s see how to enable and use these hidden attractive windows features.To Open Windows registry editor, Press Windows + R, type regedit and ok. Now apply tweaks below to enable hidden features of Windows 10.Note: Before you edit any part of your system registry, always make a backup of all keys that you intend to edit. You can do this in the Registry editor windows click on file selecting Export. Which saves into a .reg file that can be run to re-apply the old value of that key.But the easier method is to make a System Restore point, which saves the state of your system, including a snapshot of the registry. If anything goes wrong while making changes on windows registry. You can simply Perform System Restore to revert back windows into the previous working state.Did you know you can add your favorite app to the right-click context menu for quick access? Yes, you can create registry keys to add specific apps to it. We’ll use Notepad as an example.When you shut down or restart Windows, the operating system instructs all running processes to terminate. Sometimes, though, a program won’t do that – and it might be for a good reason, such as an open “save file” dialog that needs your attention. Often, though, the cause is just a badly written program that doesn’t close down promptly like it should. If you don’t like waiting, you can tell Windows to forcibly kill all processes when it’s time to restart. To do so, navigate to HKCU\\\\USER\\\\Control Panel\\\\DesktopThe way Windows 10 organizes open apps, it bunches all open windows of a given app under the same taskbar icon, which you then click to bring up thumbnails of all the open windows contained therein.This is reasonably useful, but you may well prefer it if clicking the taskbar icon took you straight to the last window you had open within the app – cutting out the thumbnail faff.To do this, go to the Registry Editor and navigate to:HKEY_CURRENT_USER\\\\SOFTWARE\\\\Microsoft\\\\Windows\\\\Current\\\\Version\\\\Explorer\\\\AdvancedHere, right-click an empty space in the right-hand pane, select “New -> DWORD (32-bit) Value”, then name it “LastActiveClick”. Right-click your newly created registry entry, and change the “Value data” to “1”.By default, Windows 10 TTaskbarcomes with Aero glass transparency effect but the transparency level is not very high. You can increase the transparency level of Windows 10 Taskbar. And can add an extra clear transparency effect to the Taskbar By Editing some Windows 10 Registry Tweaks. To Do This Navigate to fallowing Registry key :HKEY_LOCAL_MACHINE\\\\SOFTWARE\\\\Microsoft\\\\Windows\\\\CurrentVersion\\\\Explorer\\\\AdvancedNote: If you want to restore Taskbar default transparency level in future, delete the DWORDUseOLEDTaskbarTransparency .A lot of people find the new Action Center to be convenient and useful. But if you’re one who finds it intrusive and unnecessary, then this quick Registry edit tweak will disable it. Open Windows Registry Editor and Navigate to the following key:HKEY_CURRENT_USER\\\\ SOFTWARE\\\\Policies\\\\Microsoft\\\\Windows\\\\Explorer\\\\policyNote: If you don’t have a Policies key, Then you’ll have to create one manually. To do this right click on Explorer key and select new. And rename the newly created key Policy .Before you login windows 10, you may notice spotlight images display there on background, If you are looking for disable the login background picture in Windows 10, Here the registry tweak to disable the login background picture in Windows 10.The This PC location has been a part of Windows since 8.1, but the annoying thing is that there’s no easy way to remove the default folders like Desktop, Documents, Downloads, Music, Pictures, Videos. For people who don’t use these folders, this is an unnecessary inconvenience. To disable these, you’ll have to navigate to six different registry keys, each one corresponding to one of the six folders in This PC. The locations areHKEY_LOCAL_MACHINE\\\\SOFTWARE\\\\Microsoft\\\\Windows\\\\CurrentVersion\\\\Explorer\\\\FolderDescriptions <FOLDER-GUID>\\\\ PropertyBag.Substitute the above with one of these:Under each one’s PropertyBag key, you’ll see a string value named ThisPCPolicy . (The Desktop folder is the only one that doesn’t have this value by default, so you’ll need to create it manually.) If ThisPCPolicy is set to Show, then the folder is visible. If you change it to Hide, then the folder will be invisible. That’s all!When your computer doesn’t have enough physical RAM, it uses a portion of your hard drive as virtual memory in the form of a pagefile. The thing is, this pagefile still remains on your hard drive after you shut down, and that leaves it prone to tampering. It’s possible to set Windows to delete the pagefile whenever the system shuts down, but this can increase the time it takes to shut down by several minutes, depending on how big your pagefile actually is (anywhere from 2 GB to 16 GB). Only you can decide if the security trade-off is worth it. How you can enable this setting Navigate to HKEY_LOCAL_MACHINE\\\\SYSTEM\\\\CurrentControlSet\\\\Control\\\\SessionManager\\\\Memory Managementin the registry and make sure you have the Memory Management key selected. Right-click on the ClearPageFileAtShutDown DWORD key, select Modify and set its value to 1.Restart your PC and now Windows will wipe the pagefile every time you shut down.Microsoft has added a new horizontal UI for volume control slider in Windows 10, Which is shown when you click on the Sound icon in Taskbar notification area. If you don’t like the new UI, you can restore previous vertical volume control slider using the following method:Negivate to HKEY_LOCAL_MACHINE\\\\Software\\\\Microsoft\\\\WindowsNT\\\\CurrentVersionYou can disable the new Modern (Metro) style Battery fly-out and restore Old classic Battery info UI in Windows 10 Taskbar Notification Area To Do This navigate to HKEY_LOCAL_MACHINE\\\\Software\\\\Microsoft\\\\Windows\\\\CurrentVersion\\\\Immersive\\\\ShellWindows 10 comes with a new calendar and clock if you want to restore your clock and calendar to windows 7 clock calendar fallow The registry tweak to change your calendar and clock as shown bellow In Registry Editor, go to the following key:HKEY_LOCAL_MACHINE\\\\Software\\\\Microsoft\\\\Windows\\\\CurrentVersion\\\\ImmersiveShellIf you don’t use OneDrive or shifted to another cloud storage service after Microsoft decided to downgrade its storage packages, then there is no point of its icon hanging around in the File Explorer. The following image shows how to get rid of it. In the registry editor go to:HKEY_CLASSES_ROOT\\\\CLSID{018D5C66-4533-4307-9B53-224DE2ED1FE6}Double-click on “System.IsPinnedToNameSpaceTree” in the right panel and change its value to “0.” This will immediately remove the OneDrive icon. If not, restart the PC.Powered by , best viewed with JavaScript enabled \\xa0 ']\n"
          ],
          "name": "stdout"
        }
      ]
    },
    {
      "cell_type": "code",
      "metadata": {
        "id": "htxRpn6j-uPz",
        "colab_type": "code",
        "colab": {
          "base_uri": "https://localhost:8080/",
          "height": 35
        },
        "outputId": "8bf890ce-9670-4aee-ef77-670d99e58865"
      },
      "source": [
        "len(data)"
      ],
      "execution_count": 19,
      "outputs": [
        {
          "output_type": "execute_result",
          "data": {
            "text/plain": [
              "8446"
            ]
          },
          "metadata": {
            "tags": []
          },
          "execution_count": 19
        }
      ]
    },
    {
      "cell_type": "code",
      "metadata": {
        "id": "lbHNEoAG8JqX",
        "colab_type": "code",
        "colab": {}
      },
      "source": [
        ""
      ],
      "execution_count": null,
      "outputs": []
    }
  ]
}