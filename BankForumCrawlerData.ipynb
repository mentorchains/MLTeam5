{
  "nbformat": 4,
  "nbformat_minor": 0,
  "metadata": {
    "colab": {
      "name": "BankForumCrawlerData.ipynb",
      "provenance": [],
      "collapsed_sections": []
    },
    "kernelspec": {
      "name": "python3",
      "display_name": "Python 3"
    }
  },
  "cells": [
    {
      "cell_type": "code",
      "metadata": {
        "id": "5CccOl7qEZxe",
        "colab_type": "code",
        "colab": {}
      },
      "source": [
        "import requests\n",
        "import json\n",
        "import pprint\n",
        "import pickle\n",
        "from bs4 import BeautifulSoup\n"
      ],
      "execution_count": 2,
      "outputs": []
    },
    {
      "cell_type": "code",
      "metadata": {
        "id": "jKc2u96a9XEX",
        "colab_type": "code",
        "colab": {
          "base_uri": "https://localhost:8080/",
          "height": 638
        },
        "outputId": "a69628d1-f811-4f02-82dc-0c166feae30d"
      },
      "source": [
        "i = 0\n",
        "all_submissions = []\n",
        "crawler_condition = True\n",
        "while crawler_condition == True:\n",
        "    print(i)\n",
        "    url = \"https://community.bnz.co.nz/latest.json?no_definitions=true&page=\"+str(i)\n",
        "    r = (requests.get(url)).text\n",
        "    raw_dictionary = json.loads(r)\n",
        "\n",
        "    #contains info of 30 submissions bc there are 30 submissions on a page\n",
        "    submissions_on_page = raw_dictionary['topic_list']['topics']\n",
        "    if len(submissions_on_page) <= 0:\n",
        "        crawler_condition = False\n",
        "        break\n",
        "    else:\n",
        "        for submission in submissions_on_page:\n",
        "            dic = {}\n",
        "            dic[\"id\"] = submission[\"id\"]\n",
        "            dic[\"title\"] = submission[\"title\"]\n",
        "            dic[\"slug\"] = submission[\"slug\"]\n",
        "            dic[\"posts\"] = submission[\"posts_count\"]\n",
        "            dic[\"replies\"] = submission[\"reply_count\"]\n",
        "            dic[\"highest_post_number\"] = submission[\"highest_post_number\"]\n",
        "            dic[\"created_at\"] = submission[\"created_at\"]\n",
        "            dic[\"last_posted_at\"] = submission[\"last_posted_at\"]\n",
        "            dic[\"bumped\"] = submission[\"bumped\"]\n",
        "            dic[\"bumped_at\"] = submission[\"bumped_at\"]\n",
        "            dic[\"unseen\"] = submission[\"unseen\"]\n",
        "            dic[\"pinned\"] = submission[\"pinned\"]\n",
        "            dic[\"visible\"] = submission[\"visible\"]\n",
        "            dic[\"closed\"] = submission[\"closed\"]\n",
        "            dic[\"archived\"] = submission[\"archived\"]\n",
        "            dic[\"views\"] = submission[\"views\"]\n",
        "            dic[\"like_count\"] = submission[\"like_count\"]\n",
        "            dic[\"has_summary\"] = submission[\"has_summary\"]\n",
        "            dic[\"category_id\"] = submission[\"category_id\"]\n",
        "            dic[\"pinned_globally\"] = submission[\"pinned_globally\"]\n",
        "            dic[\"featured_link\"] = submission[\"featured_link\"]\n",
        "            dic[\"has_accepted_answer\"] = submission[\"has_accepted_answer\"]\n",
        "            all_submissions.append(dic)\n",
        "        i += 1\n",
        "\n"
      ],
      "execution_count": 6,
      "outputs": [
        {
          "output_type": "stream",
          "text": [
            "0\n",
            "1\n",
            "2\n",
            "3\n",
            "4\n",
            "5\n",
            "6\n",
            "7\n",
            "8\n",
            "9\n",
            "10\n",
            "11\n",
            "12\n",
            "13\n",
            "14\n",
            "15\n",
            "16\n",
            "17\n",
            "18\n",
            "19\n",
            "20\n",
            "21\n",
            "22\n",
            "23\n",
            "24\n",
            "25\n",
            "26\n",
            "27\n",
            "28\n",
            "29\n",
            "30\n",
            "31\n",
            "32\n",
            "33\n",
            "34\n",
            "35\n",
            "36\n"
          ],
          "name": "stdout"
        }
      ]
    },
    {
      "cell_type": "code",
      "metadata": {
        "id": "VlMk03469Xk9",
        "colab_type": "code",
        "colab": {}
      },
      "source": [
        "with open(\"all_submissions\", \"wb\") as output_file:\n",
        "     pickle.dump(all_submissions, output_file)"
      ],
      "execution_count": 7,
      "outputs": []
    }
  ]
}