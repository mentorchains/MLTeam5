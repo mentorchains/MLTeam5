{
  "nbformat": 4,
  "nbformat_minor": 0,
  "metadata": {
    "colab": {
      "name": "Breadtopia_MLModels.ipynb",
      "provenance": [],
      "toc_visible": true
    },
    "kernelspec": {
      "name": "python3",
      "display_name": "Python 3"
    }
  },
  "cells": [
    {
      "cell_type": "code",
      "metadata": {
        "id": "Eh-rSDOSWb4o",
        "colab_type": "code",
        "colab": {
          "base_uri": "https://localhost:8080/",
          "height": 34
        },
        "outputId": "4c6fcbed-d437-48f5-91da-45d28622e967"
      },
      "source": [
        "from google.colab import drive\n",
        "drive.mount('/content/drive')"
      ],
      "execution_count": null,
      "outputs": [
        {
          "output_type": "stream",
          "text": [
            "Drive already mounted at /content/drive; to attempt to forcibly remount, call drive.mount(\"/content/drive\", force_remount=True).\n"
          ],
          "name": "stdout"
        }
      ]
    },
    {
      "cell_type": "code",
      "metadata": {
        "id": "08aVHjOAWhzg",
        "colab_type": "code",
        "colab": {
          "base_uri": "https://localhost:8080/",
          "height": 130
        },
        "outputId": "95bc2885-db7e-443e-823d-d86e61314490"
      },
      "source": [
        "cd /content/drive/My\\ Drive/"
      ],
      "execution_count": null,
      "outputs": [
        {
          "output_type": "error",
          "ename": "SyntaxError",
          "evalue": "ignored",
          "traceback": [
            "\u001b[0;36m  File \u001b[0;32m\"<ipython-input-24-83ee2ea6af80>\"\u001b[0;36m, line \u001b[0;32m1\u001b[0m\n\u001b[0;31m    cd /content/drive/My\\ Drive/\u001b[0m\n\u001b[0m                                ^\u001b[0m\n\u001b[0;31mSyntaxError\u001b[0m\u001b[0;31m:\u001b[0m unexpected character after line continuation character\n"
          ]
        }
      ]
    },
    {
      "cell_type": "code",
      "metadata": {
        "id": "wVDfMahGHtMn",
        "colab_type": "code",
        "colab": {
          "base_uri": "https://localhost:8080/",
          "height": 34
        },
        "outputId": "543197cd-04cd-48c6-e15a-1d4aa31f57a1"
      },
      "source": [
        "cd CategoryAutomation"
      ],
      "execution_count": null,
      "outputs": [
        {
          "output_type": "stream",
          "text": [
            "/content/drive/My Drive/CategoryAutomation\n"
          ],
          "name": "stdout"
        }
      ]
    },
    {
      "cell_type": "code",
      "metadata": {
        "id": "Q0un3HfVHuWx",
        "colab_type": "code",
        "colab": {
          "base_uri": "https://localhost:8080/",
          "height": 34
        },
        "outputId": "a9e59333-b498-448f-dee3-d9417b0c58e6"
      },
      "source": [
        "ls"
      ],
      "execution_count": null,
      "outputs": [
        {
          "output_type": "stream",
          "text": [
            "Onehack_category.csv  Onehack_features.pickle  Onehack.pickle  \u001b[0m\u001b[01;34msample_data\u001b[0m/\n"
          ],
          "name": "stdout"
        }
      ]
    },
    {
      "cell_type": "code",
      "metadata": {
        "id": "6lTkkigTW2Pi",
        "colab_type": "code",
        "colab": {}
      },
      "source": [
        "import pickle\n",
        "import pandas as pd\n",
        "with open(\"breadtopia_features.pickle\", 'rb') as pickle_file:\n",
        "  X = pickle.load(pickle_file)"
      ],
      "execution_count": null,
      "outputs": []
    },
    {
      "cell_type": "code",
      "metadata": {
        "id": "PKNy2fUVXW2R",
        "colab_type": "code",
        "colab": {}
      },
      "source": [
        "y = pd.read_csv (\"breadtopia_category.csv\")\n",
        "X = pd.DataFrame(X)"
      ],
      "execution_count": null,
      "outputs": []
    },
    {
      "cell_type": "code",
      "metadata": {
        "id": "M6T8OWQSYuYf",
        "colab_type": "code",
        "colab": {
          "base_uri": "https://localhost:8080/",
          "height": 218
        },
        "outputId": "9c345e23-8e5b-4427-c7d7-8061467f3de9"
      },
      "source": [
        "y = y.drop('Unnamed: 0',1)\n",
        "num_classes = len(y['0'].unique())\n",
        "y['0'].value_counts().sort_values()"
      ],
      "execution_count": null,
      "outputs": [
        {
          "output_type": "execute_result",
          "data": {
            "text/plain": [
              "mockmill-100-and-possibly-200-gritty-flour                                     1\n",
              "help-i-used-bleached-flour-in-my-sourdough-starter-by-accident                 1\n",
              "did-i-wreck-my-sourdough-starter                                               1\n",
              "questions-re-mailing-bread                                                     1\n",
              "how-batistine-made-bread                                                       1\n",
              "                                                                              ..\n",
              "best-bread-i-ever-made-seeded-spelt-sourdough-w-roasted-walnuts-and-raisins    1\n",
              "oblong-cloche-bread-baker                                                      1\n",
              "freezing-dough                                                                 2\n",
              "making-sourdough-more-sour                                                     2\n",
              "ancient-grain-zucchini-chocolate-chip-muffins                                  2\n",
              "Name: 0, Length: 1397, dtype: int64"
            ]
          },
          "metadata": {
            "tags": []
          },
          "execution_count": 3
        }
      ]
    },
    {
      "cell_type": "code",
      "metadata": {
        "id": "0BmNbUHL1yCE",
        "colab_type": "code",
        "colab": {
          "base_uri": "https://localhost:8080/",
          "height": 252
        },
        "outputId": "701af45a-e1e5-4b9f-bbc1-be67712076e9"
      },
      "source": [
        "print(y)"
      ],
      "execution_count": null,
      "outputs": [
        {
          "output_type": "stream",
          "text": [
            "                                             0\n",
            "0             whole-grain-sourdough-date-rolls\n",
            "1               sourdough-waffles-and-pancakes\n",
            "2                        how-to-make-a-starter\n",
            "3     a-dedicated-category-to-making-a-starter\n",
            "4                           sourdough-ciabatta\n",
            "...                                        ...\n",
            "1395  mostly-spelt-whole-grain-sourdough-bread\n",
            "1396                            hamburger-buns\n",
            "1397                          a-true-dough-nut\n",
            "1398   what-the-staff-of-life-means-to-one-man\n",
            "1399                        holiday-gift-ideas\n",
            "\n",
            "[1400 rows x 1 columns]\n"
          ],
          "name": "stdout"
        }
      ]
    },
    {
      "cell_type": "code",
      "metadata": {
        "id": "LB4bZOgwgOGD",
        "colab_type": "code",
        "colab": {
          "base_uri": "https://localhost:8080/",
          "height": 269
        },
        "outputId": "dc014d9e-8f08-4819-cee9-2245955d2638"
      },
      "source": [
        "import matplotlib.pyplot as plt\n",
        "y['0'].value_counts().sort_values().plot(kind = 'barh')\n",
        "plt.show()"
      ],
      "execution_count": null,
      "outputs": [
        {
          "output_type": "display_data",
          "data": {
            "image/png": "[encoded data removed]",
            "text/plain": [
              "<Figure size 432x288 with 1 Axes>"
            ]
          },
          "metadata": {
            "tags": [],
            "needs_background": "light"
          }
        }
      ]
    },
    {
      "cell_type": "code",
      "metadata": {
        "id": "izel_9JefxsY",
        "colab_type": "code",
        "colab": {}
      },
      "source": [
        "drop_cat=[]\n",
        "counts = dict(y['0'].value_counts())\n",
        "for cat in counts.keys():\n",
        "  if counts[cat]<2:\n",
        "    drop_cat.append(cat)"
      ],
      "execution_count": null,
      "outputs": []
    },
    {
      "cell_type": "code",
      "metadata": {
        "id": "fsbnD2F6m25t",
        "colab_type": "code",
        "colab": {
          "base_uri": "https://localhost:8080/",
          "height": 34
        },
        "outputId": "d9b06e63-6a35-48fa-c1ed-5b0a772f0c25"
      },
      "source": [
        "Data = pd.concat([y,X],axis=1)\n",
        "print(Data.shape)\n",
        "for cat in drop_cat:\n",
        "  Data.drop(Data.loc[Data['0'] == cat].index, inplace=True)"
      ],
      "execution_count": null,
      "outputs": [
        {
          "output_type": "stream",
          "text": [
            "(1400, 769)\n"
          ],
          "name": "stdout"
        }
      ]
    },
    {
      "cell_type": "code",
      "metadata": {
        "id": "PDBWQuKEpotQ",
        "colab_type": "code",
        "colab": {
          "base_uri": "https://localhost:8080/",
          "height": 34
        },
        "outputId": "530fadb2-4d83-44de-ef1f-c6fbddd69bcf"
      },
      "source": [
        "Data.shape"
      ],
      "execution_count": null,
      "outputs": [
        {
          "output_type": "execute_result",
          "data": {
            "text/plain": [
              "(6, 769)"
            ]
          },
          "metadata": {
            "tags": []
          },
          "execution_count": 8
        }
      ]
    },
    {
      "cell_type": "code",
      "metadata": {
        "id": "JV4HxeT9nf2q",
        "colab_type": "code",
        "colab": {}
      },
      "source": [
        "y = Data['0']\n",
        "X = Data.drop('0',axis=1)"
      ],
      "execution_count": null,
      "outputs": []
    },
    {
      "cell_type": "code",
      "metadata": {
        "id": "mRBtrBl1qAcP",
        "colab_type": "code",
        "colab": {}
      },
      "source": [
        "num_classes = len(y.unique())"
      ],
      "execution_count": null,
      "outputs": []
    },
    {
      "cell_type": "code",
      "metadata": {
        "id": "CQ0k9MUPpjWC",
        "colab_type": "code",
        "colab": {
          "base_uri": "https://localhost:8080/",
          "height": 265
        },
        "outputId": "1b7c124c-7a91-45ee-b319-1070fe92a842"
      },
      "source": [
        "y.value_counts().sort_values().plot(kind = 'barh')\n",
        "plt.show()"
      ],
      "execution_count": null,
      "outputs": [
        {
          "output_type": "display_data",
          "data": {
            "image/png": "[encoded data removed]",
            "text/plain": [
              "<Figure size 432x288 with 1 Axes>"
            ]
          },
          "metadata": {
            "tags": [],
            "needs_background": "light"
          }
        }
      ]
    },
    {
      "cell_type": "code",
      "metadata": {
        "id": "RQcZj2AiY2Kk",
        "colab_type": "code",
        "colab": {}
      },
      "source": [
        "from sklearn.model_selection import train_test_split\n",
        "\n",
        "# Split into training and test sets\n",
        "X_train, X_test, y_train, y_test = train_test_split(X, y, test_size=0.33)"
      ],
      "execution_count": null,
      "outputs": []
    },
    {
      "cell_type": "code",
      "metadata": {
        "id": "Y98AW3P1bS8d",
        "colab_type": "code",
        "colab": {}
      },
      "source": [
        "from xgboost import XGBClassifier\n",
        "\n",
        "# Create a classifier\n",
        "xgb = XGBClassifier(booster='gbtree', objective='multi:softprob', eval_metric=\"auc\", num_class=num_classes)"
      ],
      "execution_count": null,
      "outputs": []
    },
    {
      "cell_type": "code",
      "metadata": {
        "id": "xVwTJmoTdJ09",
        "colab_type": "code",
        "colab": {
          "base_uri": "https://localhost:8080/",
          "height": 34
        },
        "outputId": "083caa24-55c6-4f0f-e3ff-15fa44b2df29"
      },
      "source": [
        "from sklearn.metrics import roc_auc_score\n",
        "from sklearn import preprocessing\n",
        "\n",
        "xgb.fit(X_train,y_train)\n",
        "# Use trained model to predict output of test dataset\n",
        "val = xgb.predict(X_test)\n",
        "\n",
        "lb = preprocessing.LabelBinarizer()\n",
        "lb.fit(y_test)\n",
        "\n",
        "y_test_lb = lb.transform(y_test)\n",
        "val_lb = lb.transform(val)\n",
        "\n",
        "roc_auc_score(y_test_lb, val_lb, average='macro')"
      ],
      "execution_count": null,
      "outputs": [
        {
          "output_type": "execute_result",
          "data": {
            "text/plain": [
              "0.5"
            ]
          },
          "metadata": {
            "tags": []
          },
          "execution_count": 14
        }
      ]
    },
    {
      "cell_type": "code",
      "metadata": {
        "id": "dDFXVmq0quk2",
        "colab_type": "code",
        "colab": {
          "base_uri": "https://localhost:8080/",
          "height": 104
        },
        "outputId": "a03f1e83-4d3d-4a66-9742-d641be3fab48"
      },
      "source": [
        "from imblearn.over_sampling import SMOTE"
      ],
      "execution_count": null,
      "outputs": [
        {
          "output_type": "stream",
          "text": [
            "/usr/local/lib/python3.6/dist-packages/sklearn/externals/six.py:31: FutureWarning: The module is deprecated in version 0.21 and will be removed in version 0.23 since we've dropped support for Python 2.7. Please rely on the official version of six (https://pypi.org/project/six/).\n",
            "  \"(https://pypi.org/project/six/).\", FutureWarning)\n",
            "/usr/local/lib/python3.6/dist-packages/sklearn/utils/deprecation.py:144: FutureWarning: The sklearn.neighbors.base module is  deprecated in version 0.22 and will be removed in version 0.24. The corresponding classes / functions should instead be imported from sklearn.neighbors. Anything that cannot be imported from sklearn.neighbors is now part of the private API.\n",
            "  warnings.warn(message, FutureWarning)\n"
          ],
          "name": "stderr"
        }
      ]
    },
    {
      "cell_type": "code",
      "metadata": {
        "id": "ZhYYlgSFrOWo",
        "colab_type": "code",
        "colab": {
          "base_uri": "https://localhost:8080/",
          "height": 358
        },
        "outputId": "9cb6e9be-860d-4678-eb21-c63edfb1cc2f"
      },
      "source": [
        "X_train,y_train = SMOTE().fit_sample(X_train, y_train)"
      ],
      "execution_count": null,
      "outputs": [
        {
          "output_type": "stream",
          "text": [
            "/usr/local/lib/python3.6/dist-packages/sklearn/utils/deprecation.py:87: FutureWarning: Function safe_indexing is deprecated; safe_indexing is deprecated in version 0.22 and will be removed in version 0.24.\n",
            "  warnings.warn(msg, category=FutureWarning)\n"
          ],
          "name": "stderr"
        },
        {
          "output_type": "error",
          "ename": "ValueError",
          "evalue": "ignored",
          "traceback": [
            "\u001b[0;31m---------------------------------------------------------------------------\u001b[0m",
            "\u001b[0;31mValueError\u001b[0m                                Traceback (most recent call last)",
            "\u001b[0;32m<ipython-input-16-f5d49604a166>\u001b[0m in \u001b[0;36m<module>\u001b[0;34m()\u001b[0m\n\u001b[0;32m----> 1\u001b[0;31m \u001b[0mX_train\u001b[0m\u001b[0;34m,\u001b[0m\u001b[0my_train\u001b[0m \u001b[0;34m=\u001b[0m \u001b[0mSMOTE\u001b[0m\u001b[0;34m(\u001b[0m\u001b[0;34m)\u001b[0m\u001b[0;34m.\u001b[0m\u001b[0mfit_sample\u001b[0m\u001b[0;34m(\u001b[0m\u001b[0mX_train\u001b[0m\u001b[0;34m,\u001b[0m \u001b[0my_train\u001b[0m\u001b[0;34m)\u001b[0m\u001b[0;34m\u001b[0m\u001b[0;34m\u001b[0m\u001b[0m\n\u001b[0m",
            "\u001b[0;32m/usr/local/lib/python3.6/dist-packages/imblearn/base.py\u001b[0m in \u001b[0;36mfit_resample\u001b[0;34m(self, X, y)\u001b[0m\n\u001b[1;32m     83\u001b[0m             self.sampling_strategy, y, self._sampling_type)\n\u001b[1;32m     84\u001b[0m \u001b[0;34m\u001b[0m\u001b[0m\n\u001b[0;32m---> 85\u001b[0;31m         \u001b[0moutput\u001b[0m \u001b[0;34m=\u001b[0m \u001b[0mself\u001b[0m\u001b[0;34m.\u001b[0m\u001b[0m_fit_resample\u001b[0m\u001b[0;34m(\u001b[0m\u001b[0mX\u001b[0m\u001b[0;34m,\u001b[0m \u001b[0my\u001b[0m\u001b[0;34m)\u001b[0m\u001b[0;34m\u001b[0m\u001b[0;34m\u001b[0m\u001b[0m\n\u001b[0m\u001b[1;32m     86\u001b[0m \u001b[0;34m\u001b[0m\u001b[0m\n\u001b[1;32m     87\u001b[0m         \u001b[0;32mif\u001b[0m \u001b[0mbinarize_y\u001b[0m\u001b[0;34m:\u001b[0m\u001b[0;34m\u001b[0m\u001b[0;34m\u001b[0m\u001b[0m\n",
            "\u001b[0;32m/usr/local/lib/python3.6/dist-packages/imblearn/over_sampling/_smote.py\u001b[0m in \u001b[0;36m_fit_resample\u001b[0;34m(self, X, y)\u001b[0m\n\u001b[1;32m    794\u001b[0m     \u001b[0;32mdef\u001b[0m \u001b[0m_fit_resample\u001b[0m\u001b[0;34m(\u001b[0m\u001b[0mself\u001b[0m\u001b[0;34m,\u001b[0m \u001b[0mX\u001b[0m\u001b[0;34m,\u001b[0m \u001b[0my\u001b[0m\u001b[0;34m)\u001b[0m\u001b[0;34m:\u001b[0m\u001b[0;34m\u001b[0m\u001b[0;34m\u001b[0m\u001b[0m\n\u001b[1;32m    795\u001b[0m         \u001b[0mself\u001b[0m\u001b[0;34m.\u001b[0m\u001b[0m_validate_estimator\u001b[0m\u001b[0;34m(\u001b[0m\u001b[0;34m)\u001b[0m\u001b[0;34m\u001b[0m\u001b[0;34m\u001b[0m\u001b[0m\n\u001b[0;32m--> 796\u001b[0;31m         \u001b[0;32mreturn\u001b[0m \u001b[0mself\u001b[0m\u001b[0;34m.\u001b[0m\u001b[0m_sample\u001b[0m\u001b[0;34m(\u001b[0m\u001b[0mX\u001b[0m\u001b[0;34m,\u001b[0m \u001b[0my\u001b[0m\u001b[0;34m)\u001b[0m\u001b[0;34m\u001b[0m\u001b[0;34m\u001b[0m\u001b[0m\n\u001b[0m\u001b[1;32m    797\u001b[0m \u001b[0;34m\u001b[0m\u001b[0m\n\u001b[1;32m    798\u001b[0m     \u001b[0;32mdef\u001b[0m \u001b[0m_sample\u001b[0m\u001b[0;34m(\u001b[0m\u001b[0mself\u001b[0m\u001b[0;34m,\u001b[0m \u001b[0mX\u001b[0m\u001b[0;34m,\u001b[0m \u001b[0my\u001b[0m\u001b[0;34m)\u001b[0m\u001b[0;34m:\u001b[0m\u001b[0;34m\u001b[0m\u001b[0;34m\u001b[0m\u001b[0m\n",
            "\u001b[0;32m/usr/local/lib/python3.6/dist-packages/imblearn/over_sampling/_smote.py\u001b[0m in \u001b[0;36m_sample\u001b[0;34m(self, X, y)\u001b[0m\n\u001b[1;32m    810\u001b[0m \u001b[0;34m\u001b[0m\u001b[0m\n\u001b[1;32m    811\u001b[0m             \u001b[0mself\u001b[0m\u001b[0;34m.\u001b[0m\u001b[0mnn_k_\u001b[0m\u001b[0;34m.\u001b[0m\u001b[0mfit\u001b[0m\u001b[0;34m(\u001b[0m\u001b[0mX_class\u001b[0m\u001b[0;34m)\u001b[0m\u001b[0;34m\u001b[0m\u001b[0;34m\u001b[0m\u001b[0m\n\u001b[0;32m--> 812\u001b[0;31m             \u001b[0mnns\u001b[0m \u001b[0;34m=\u001b[0m \u001b[0mself\u001b[0m\u001b[0;34m.\u001b[0m\u001b[0mnn_k_\u001b[0m\u001b[0;34m.\u001b[0m\u001b[0mkneighbors\u001b[0m\u001b[0;34m(\u001b[0m\u001b[0mX_class\u001b[0m\u001b[0;34m,\u001b[0m \u001b[0mreturn_distance\u001b[0m\u001b[0;34m=\u001b[0m\u001b[0;32mFalse\u001b[0m\u001b[0;34m)\u001b[0m\u001b[0;34m[\u001b[0m\u001b[0;34m:\u001b[0m\u001b[0;34m,\u001b[0m \u001b[0;36m1\u001b[0m\u001b[0;34m:\u001b[0m\u001b[0;34m]\u001b[0m\u001b[0;34m\u001b[0m\u001b[0;34m\u001b[0m\u001b[0m\n\u001b[0m\u001b[1;32m    813\u001b[0m             X_new, y_new = self._make_samples(X_class, y.dtype, class_sample,\n\u001b[1;32m    814\u001b[0m                                               X_class, nns, n_samples, 1.0)\n",
            "\u001b[0;32m/usr/local/lib/python3.6/dist-packages/sklearn/neighbors/_base.py\u001b[0m in \u001b[0;36mkneighbors\u001b[0;34m(self, X, n_neighbors, return_distance)\u001b[0m\n\u001b[1;32m    616\u001b[0m                 \u001b[0;34m\"Expected n_neighbors <= n_samples, \"\u001b[0m\u001b[0;34m\u001b[0m\u001b[0;34m\u001b[0m\u001b[0m\n\u001b[1;32m    617\u001b[0m                 \u001b[0;34m\" but n_samples = %d, n_neighbors = %d\"\u001b[0m \u001b[0;34m%\u001b[0m\u001b[0;34m\u001b[0m\u001b[0;34m\u001b[0m\u001b[0m\n\u001b[0;32m--> 618\u001b[0;31m                 \u001b[0;34m(\u001b[0m\u001b[0mn_samples_fit\u001b[0m\u001b[0;34m,\u001b[0m \u001b[0mn_neighbors\u001b[0m\u001b[0;34m)\u001b[0m\u001b[0;34m\u001b[0m\u001b[0;34m\u001b[0m\u001b[0m\n\u001b[0m\u001b[1;32m    619\u001b[0m             )\n\u001b[1;32m    620\u001b[0m \u001b[0;34m\u001b[0m\u001b[0m\n",
            "\u001b[0;31mValueError\u001b[0m: Expected n_neighbors <= n_samples,  but n_samples = 1, n_neighbors = 6"
          ]
        }
      ]
    },
    {
      "cell_type": "code",
      "metadata": {
        "id": "m3sl4n4_uonE",
        "colab_type": "code",
        "colab": {
          "base_uri": "https://localhost:8080/",
          "height": 34
        },
        "outputId": "500cd15a-bc0f-439b-9214-038b9d45bf54"
      },
      "source": [
        "X_train.shape"
      ],
      "execution_count": null,
      "outputs": [
        {
          "output_type": "execute_result",
          "data": {
            "text/plain": [
              "(12850, 768)"
            ]
          },
          "metadata": {
            "tags": []
          },
          "execution_count": 19
        }
      ]
    },
    {
      "cell_type": "code",
      "metadata": {
        "id": "spEenGdEvPcp",
        "colab_type": "code",
        "colab": {
          "base_uri": "https://localhost:8080/",
          "height": 265
        },
        "outputId": "7ea5d4cc-d191-4d76-95dd-ec13520b8fcb"
      },
      "source": [
        "pd.DataFrame(y_train)[0].value_counts().sort_values().plot(kind = 'barh')\n",
        "plt.show()"
      ],
      "execution_count": null,
      "outputs": [
        {
          "output_type": "display_data",
          "data": {
            "image/png": "[encoded data removed]",
            "text/plain": [
              "<Figure size 432x288 with 1 Axes>"
            ]
          },
          "metadata": {
            "tags": [],
            "needs_background": "light"
          }
        }
      ]
    },
    {
      "cell_type": "code",
      "metadata": {
        "id": "Wby1Wa23wVsZ",
        "colab_type": "code",
        "colab": {
          "base_uri": "https://localhost:8080/",
          "height": 34
        },
        "outputId": "4875656b-790f-426b-8c50-67a357a0e081"
      },
      "source": [
        "from sklearn.metrics import roc_auc_score\n",
        "from sklearn import preprocessing\n",
        "\n",
        "xgb.fit(X_train,y_train)\n",
        "# Use trained model to predict output of test dataset\n",
        "val = xgb.predict(X_test)\n",
        "\n",
        "lb = preprocessing.LabelBinarizer()\n",
        "lb.fit(y_test)\n",
        "\n",
        "y_test_lb = lb.transform(y_test)\n",
        "val_lb = lb.transform(val)\n",
        "\n",
        "roc_auc_score(y_test_lb, val_lb, average='macro')"
      ],
      "execution_count": null,
      "outputs": [
        {
          "output_type": "execute_result",
          "data": {
            "text/plain": [
              "0.5"
            ]
          },
          "metadata": {
            "tags": []
          },
          "execution_count": 17
        }
      ]
    },
    {
      "cell_type": "code",
      "metadata": {
        "id": "MKm7ZN1WGs9x",
        "colab_type": "code",
        "colab": {}
      },
      "source": [
        "from sklearn.metrics import classification_report, confusion_matrix, accuracy_score"
      ],
      "execution_count": null,
      "outputs": []
    },
    {
      "cell_type": "code",
      "metadata": {
        "id": "g02DB3c3CcO8",
        "colab_type": "code",
        "colab": {
          "base_uri": "https://localhost:8080/",
          "height": 34
        },
        "outputId": "db0da794-a573-49e0-9cb8-5aa7abe13881"
      },
      "source": [
        "from sklearn.ensemble import RandomForestClassifier\n",
        "model1 = RandomForestClassifier(n_estimators=200, max_depth=None, random_state=0)\n",
        "model1.fit(X_train, y_train)\n",
        "y_pred1 = model1.predict(X_test)\n",
        "print(accuracy_score(y_test, y_pred1))"
      ],
      "execution_count": null,
      "outputs": [
        {
          "output_type": "stream",
          "text": [
            "0.5\n"
          ],
          "name": "stdout"
        }
      ]
    },
    {
      "cell_type": "code",
      "metadata": {
        "id": "5g9C5sYCHgK9",
        "colab_type": "code",
        "colab": {
          "base_uri": "https://localhost:8080/",
          "height": 34
        },
        "outputId": "234b9d7b-7802-44ad-cfe9-3f85145928f3"
      },
      "source": [
        "from sklearn import svm\n",
        "clf = svm.SVC(decision_function_shape='ovr')\n",
        "clf.fit(X_train, y_train)\n",
        "y_pred3 = clf.predict(X_test)\n",
        "print(accuracy_score(y_test, y_pred3))"
      ],
      "execution_count": null,
      "outputs": [
        {
          "output_type": "stream",
          "text": [
            "0.0\n"
          ],
          "name": "stdout"
        }
      ]
    },
    {
      "cell_type": "code",
      "metadata": {
        "id": "RGzQdApxer_m",
        "colab_type": "code",
        "colab": {
          "base_uri": "https://localhost:8080/",
          "height": 87
        },
        "outputId": "432cc91e-26b7-46db-8e85-dbb9655919df"
      },
      "source": [
        "lin_clf = svm.LinearSVC()\n",
        "lin_clf.fit(X_train, y_train)\n",
        "y_pred = lin_clf.predict(X_test)\n",
        "print(accuracy_score(y_test, y_pred))"
      ],
      "execution_count": null,
      "outputs": [
        {
          "output_type": "stream",
          "text": [
            "0.0\n"
          ],
          "name": "stdout"
        },
        {
          "output_type": "stream",
          "text": [
            "/usr/local/lib/python3.6/dist-packages/sklearn/svm/_base.py:947: ConvergenceWarning: Liblinear failed to converge, increase the number of iterations.\n",
            "  \"the number of iterations.\", ConvergenceWarning)\n"
          ],
          "name": "stderr"
        }
      ]
    },
    {
      "cell_type": "code",
      "metadata": {
        "id": "dCXYKum4uYNZ",
        "colab_type": "code",
        "colab": {
          "base_uri": "https://localhost:8080/",
          "height": 34
        },
        "outputId": "41117d25-b869-4821-92c8-4f0f817daa3c"
      },
      "source": [
        "from sklearn.ensemble import AdaBoostClassifier\n",
        "AdaBst = AdaBoostClassifier(n_estimators=100, random_state=0)\n",
        "AdaBst.fit(X_train, y_train)\n",
        "val = AdaBst.predict(X_test)\n",
        "\n",
        "lb = preprocessing.LabelBinarizer()\n",
        "lb.fit(y_test)\n",
        "\n",
        "y_test_lb = lb.transform(y_test)\n",
        "val_lb = lb.transform(val)\n",
        "\n",
        "roc_auc_score(y_test_lb, val_lb, average='macro')"
      ],
      "execution_count": null,
      "outputs": [
        {
          "output_type": "execute_result",
          "data": {
            "text/plain": [
              "0.5"
            ]
          },
          "metadata": {
            "tags": []
          },
          "execution_count": 22
        }
      ]
    },
    {
      "cell_type": "markdown",
      "metadata": {
        "id": "dt_VVgEPaDBk",
        "colab_type": "text"
      },
      "source": [
        "# **TFIDF Approach**\n",
        "\n",
        "---\n",
        "\n"
      ]
    },
    {
      "cell_type": "code",
      "metadata": {
        "id": "PI0fJo6VUYHy",
        "colab_type": "code",
        "colab": {}
      },
      "source": [
        "with open(\"Onehack.pickle\", 'rb') as pickle_file:\n",
        "  raw_data = pickle.load(pickle_file)"
      ],
      "execution_count": null,
      "outputs": []
    },
    {
      "cell_type": "code",
      "metadata": {
        "id": "Sm1pZid1aNpU",
        "colab_type": "code",
        "colab": {
          "base_uri": "https://localhost:8080/",
          "height": 255
        },
        "outputId": "bb2e1e59-9da9-476c-c56c-efa929997c52"
      },
      "source": [
        "#Build the same dataframe with the raw text information to then turn into TFIDF values\n",
        "categories = []\n",
        "texts = []\n",
        "for i in raw_data:\n",
        "  categories.append(i[1])\n",
        "  texts.append(i[3])\n",
        "\n",
        "selected_dictionary = {'categories': categories, 'texts': texts}\n",
        "df = pd.DataFrame(selected_dictionary , columns = ['categories', 'texts'])\n",
        "print(df)"
      ],
      "execution_count": null,
      "outputs": [
        {
          "output_type": "stream",
          "text": [
            "                               categories                                              texts\n",
            "0                      Away and Freebies   Thanks Thank you Powered by , best viewed with...\n",
            "1      Money Making Methods &amp; Guides   At this point, some people call this project (...\n",
            "2                      Away and Freebies   Thanks man!Thank you!!Powered by , best viewed...\n",
            "3                      Away and Freebies   Hello 1Hackers, been a while. Burnt my compute...\n",
            "4                Tutorials &amp; Methods   Save Files from any URL to Google Drive Faster...\n",
            "...                                   ...                                                ...\n",
            "8441             Tutorials &amp; Methods   How to Rip and Convert DVD to MP4:• Fire up DV...\n",
            "8442             Tutorials &amp; Methods   Hello everyone! In this post i want to share w...\n",
            "8443             Tutorials &amp; Methods   This is an exclusive VIP method to get your we...\n",
            "8444             Tutorials &amp; Methods   UPDATE: ok I am getting paid and I am converti...\n",
            "8445             Tutorials &amp; Methods   It seems like everyone has a website or blog t...\n",
            "\n",
            "[8446 rows x 2 columns]\n"
          ],
          "name": "stdout"
        }
      ]
    },
    {
      "cell_type": "code",
      "metadata": {
        "id": "XGlBQwVxdzwB",
        "colab_type": "code",
        "colab": {
          "base_uri": "https://localhost:8080/"
        },
        "outputId": "1ee98400-879c-4189-97af-ba07134f310a"
      },
      "source": [
        "from sklearn.feature_extraction.text import TfidfVectorizer\n",
        "tfidf = TfidfVectorizer().fit_transform(texts)\n",
        "print(len(texts), tfidf.shape)\n",
        "print(type(tfidf))"
      ],
      "execution_count": null,
      "outputs": [
        {
          "output_type": "stream",
          "text": [
            "8446 (8446, 72841)\n",
            "<class 'scipy.sparse.csr.csr_matrix'>\n"
          ],
          "name": "stdout"
        }
      ]
    },
    {
      "cell_type": "code",
      "metadata": {
        "id": "kLc27dy1hO1B",
        "colab_type": "code",
        "colab": {}
      },
      "source": [
        "from sklearn.model_selection import train_test_split\n",
        "X = tfidf\n",
        "y = categories\n",
        "\n",
        "X_train, X_test, y_train, y_test = train_test_split(X, y, test_size=0.20, random_state = 0)"
      ],
      "execution_count": null,
      "outputs": []
    },
    {
      "cell_type": "code",
      "metadata": {
        "id": "ud8SHQqqh9Hb",
        "colab_type": "code",
        "colab": {
          "base_uri": "https://localhost:8080/",
          "height": 34
        },
        "outputId": "92f21a23-2371-4591-ee48-70998046f74f"
      },
      "source": [
        "from sklearn.naive_bayes import MultinomialNB\n",
        "from sklearn.metrics import classification_report, confusion_matrix, accuracy_score\n",
        "model2 = MultinomialNB()\n",
        "model2.fit(X_train, y_train)\n",
        "y_pred = model2.predict(X_test)\n",
        "#print(confusion_matrix(y_test,y_pred))\n",
        "#print(classification_report(y_test,y_pred))\n",
        "print(accuracy_score(y_test, y_pred))"
      ],
      "execution_count": null,
      "outputs": [
        {
          "output_type": "stream",
          "text": [
            "0.6396449704142012\n"
          ],
          "name": "stdout"
        }
      ]
    },
    {
      "cell_type": "code",
      "metadata": {
        "id": "KCB_-yMwl397",
        "colab_type": "code",
        "colab": {
          "base_uri": "https://localhost:8080/",
          "height": 51
        },
        "outputId": "eab9fa22-48a6-41f0-8a49-6b55de3a1819"
      },
      "source": [
        "#Lets try optimizing this tfidf classifier by getting rid of lesser used categories\n",
        "print(df['categories'].value_counts().sort_values())\n",
        "\n",
        "#indexNames = df.loc[(df['categories'] == \"Special Day &amp; Event\")].index\n",
        "#& (df['categories'] == 'Forum Rules, Instructions &amp; Updates') & (df['categories'] == 'Barter System') & (df['categories'] == 'Feedback &amp; Thoughts') & (df['categories'] == \"Scammer's List\") & (df['categories'] == 'Life Lessons &amp; Experience' & (df['categories'] == 'Money Making Methods &amp; Guides')].index\n",
        "#df.drop(indexNames , inplace=True)\n",
        "\n",
        "df = df[df.categories != \"Special Day &amp; Event\"]\n",
        "\n",
        "print(df['categories'].value_counts().sort_values())"
      ],
      "execution_count": null,
      "outputs": [
        {
          "output_type": "stream",
          "text": [
            "Series([], Name: categories, dtype: int64)\n",
            "Series([], Name: categories, dtype: int64)\n"
          ],
          "name": "stdout"
        }
      ]
    },
    {
      "cell_type": "code",
      "metadata": {
        "id": "2wlAHspSozQ4",
        "colab_type": "code",
        "colab": {
          "base_uri": "https://localhost:8080/",
          "height": 153
        },
        "outputId": "e45540f5-ce67-42c5-c88c-9313614d3eb0"
      },
      "source": [
        "'''\n",
        "drop_cat=[]\n",
        "counts = dict(df['categories'].value_counts())\n",
        "for cat in counts.keys():\n",
        "  if counts[cat]<500:\n",
        "    drop_cat.append(cat)\n",
        "\n",
        "Data = pd.concat([y,X],axis=1)\n",
        "'''\n",
        "print(df.shape)\n",
        "for cat in drop_cat:\n",
        "  df.drop(df.loc[df['categories'] == cat].index, inplace=True)\n",
        "\n",
        "print(df['categories'].value_counts().sort_values())\n",
        "df.shape"
      ],
      "execution_count": null,
      "outputs": [
        {
          "output_type": "stream",
          "text": [
            "(8185, 2)\n",
            " Tools &amp; Scripts             507\n",
            " News &amp; Articles             920\n",
            " Discussion &amp; Solutions     1058\n",
            " Tutorials &amp; Methods        1858\n",
            "Away and Freebies               3842\n",
            "Name: categories, dtype: int64\n"
          ],
          "name": "stdout"
        },
        {
          "output_type": "execute_result",
          "data": {
            "text/plain": [
              "(8185, 2)"
            ]
          },
          "metadata": {
            "tags": []
          },
          "execution_count": 15
        }
      ]
    },
    {
      "cell_type": "code",
      "metadata": {
        "id": "6x0Be0-DBcWl",
        "colab_type": "code",
        "colab": {
          "base_uri": "https://localhost:8080/",
          "height": 419
        },
        "outputId": "c444f62f-5c7a-4594-a8a0-2f9455d24d4d"
      },
      "source": [
        "df"
      ],
      "execution_count": null,
      "outputs": [
        {
          "output_type": "execute_result",
          "data": {
            "text/html": [
              "<div>\n",
              "<style scoped>\n",
              "    .dataframe tbody tr th:only-of-type {\n",
              "        vertical-align: middle;\n",
              "    }\n",
              "\n",
              "    .dataframe tbody tr th {\n",
              "        vertical-align: top;\n",
              "    }\n",
              "\n",
              "    .dataframe thead th {\n",
              "        text-align: right;\n",
              "    }\n",
              "</style>\n",
              "<table border=\"1\" class=\"dataframe\">\n",
              "  <thead>\n",
              "    <tr style=\"text-align: right;\">\n",
              "      <th></th>\n",
              "      <th>categories</th>\n",
              "      <th>texts</th>\n",
              "    </tr>\n",
              "  </thead>\n",
              "  <tbody>\n",
              "    <tr>\n",
              "      <th>0</th>\n",
              "      <td>Away and Freebies</td>\n",
              "      <td>Thanks Thank you Powered by , best viewed with...</td>\n",
              "    </tr>\n",
              "    <tr>\n",
              "      <th>2</th>\n",
              "      <td>Away and Freebies</td>\n",
              "      <td>Thanks man!Thank you!!Powered by , best viewed...</td>\n",
              "    </tr>\n",
              "    <tr>\n",
              "      <th>3</th>\n",
              "      <td>Away and Freebies</td>\n",
              "      <td>Hello 1Hackers, been a while. Burnt my compute...</td>\n",
              "    </tr>\n",
              "    <tr>\n",
              "      <th>4</th>\n",
              "      <td>Tutorials &amp;amp; Methods</td>\n",
              "      <td>Save Files from any URL to Google Drive Faster...</td>\n",
              "    </tr>\n",
              "    <tr>\n",
              "      <th>5</th>\n",
              "      <td>Discussion &amp;amp; Solutions</td>\n",
              "      <td>I want to learn c#…can anyone suggest me perfe...</td>\n",
              "    </tr>\n",
              "    <tr>\n",
              "      <th>...</th>\n",
              "      <td>...</td>\n",
              "      <td>...</td>\n",
              "    </tr>\n",
              "    <tr>\n",
              "      <th>8441</th>\n",
              "      <td>Tutorials &amp;amp; Methods</td>\n",
              "      <td>How to Rip and Convert DVD to MP4:• Fire up DV...</td>\n",
              "    </tr>\n",
              "    <tr>\n",
              "      <th>8442</th>\n",
              "      <td>Tutorials &amp;amp; Methods</td>\n",
              "      <td>Hello everyone! In this post i want to share w...</td>\n",
              "    </tr>\n",
              "    <tr>\n",
              "      <th>8443</th>\n",
              "      <td>Tutorials &amp;amp; Methods</td>\n",
              "      <td>This is an exclusive VIP method to get your we...</td>\n",
              "    </tr>\n",
              "    <tr>\n",
              "      <th>8444</th>\n",
              "      <td>Tutorials &amp;amp; Methods</td>\n",
              "      <td>UPDATE: ok I am getting paid and I am converti...</td>\n",
              "    </tr>\n",
              "    <tr>\n",
              "      <th>8445</th>\n",
              "      <td>Tutorials &amp;amp; Methods</td>\n",
              "      <td>It seems like everyone has a website or blog t...</td>\n",
              "    </tr>\n",
              "  </tbody>\n",
              "</table>\n",
              "<p>8185 rows × 2 columns</p>\n",
              "</div>"
            ],
            "text/plain": [
              "                        categories                                              texts\n",
              "0               Away and Freebies   Thanks Thank you Powered by , best viewed with...\n",
              "2               Away and Freebies   Thanks man!Thank you!!Powered by , best viewed...\n",
              "3               Away and Freebies   Hello 1Hackers, been a while. Burnt my compute...\n",
              "4         Tutorials &amp; Methods   Save Files from any URL to Google Drive Faster...\n",
              "5      Discussion &amp; Solutions   I want to learn c#…can anyone suggest me perfe...\n",
              "...                            ...                                                ...\n",
              "8441      Tutorials &amp; Methods   How to Rip and Convert DVD to MP4:• Fire up DV...\n",
              "8442      Tutorials &amp; Methods   Hello everyone! In this post i want to share w...\n",
              "8443      Tutorials &amp; Methods   This is an exclusive VIP method to get your we...\n",
              "8444      Tutorials &amp; Methods   UPDATE: ok I am getting paid and I am converti...\n",
              "8445      Tutorials &amp; Methods   It seems like everyone has a website or blog t...\n",
              "\n",
              "[8185 rows x 2 columns]"
            ]
          },
          "metadata": {
            "tags": []
          },
          "execution_count": 17
        }
      ]
    },
    {
      "cell_type": "code",
      "metadata": {
        "id": "FuWJ-eWzgafl",
        "colab_type": "code",
        "colab": {
          "base_uri": "https://localhost:8080/",
          "height": 51
        },
        "outputId": "247e49c5-f0e5-4a6a-b904-a57ede4a6df3"
      },
      "source": [
        "import re\n",
        "import nltk\n",
        "nltk.download('wordnet')\n",
        "from nltk.stem import WordNetLemmatizer\n",
        "def preprocessing(forum_data):\n",
        "\n",
        "    forum_data = [[x[0], re.sub('\\n',' ',x[1])] for x in forum_data]\n",
        "    #forum_data = [[x[0], re.sub(r'\\W', ' ',x[1])] for x in forum_data]\n",
        "    forum_data = [[x[0], re.sub(r'\\s+[a-zA-Z]\\s+', ' ',x[1])] for x in forum_data]\n",
        "    forum_data = [[x[0], re.sub(r'\\^[a-zA-Z]\\s+',' ',x[1])] for x in forum_data]\n",
        "    forum_data = [[x[0], re.sub(r'\\s+',' ',x[1])] for x in forum_data]\n",
        "    forum_data = [[x[0], re.sub( r'^b\\s+',' ',x[1])] for x in forum_data]\n",
        "    forum_data = [[x[0], x[1].lower()] for x in forum_data]\n",
        "    forum_data = [[x[0], x[1].split()] for x in forum_data]\n",
        "    stemmer = WordNetLemmatizer()\n",
        "    forum_data = [[x[0], [stemmer.lemmatize(word) for word in x[1]]] for x in forum_data]\n",
        "    forum_data = [[x[0], ' '.join(x[1])] for x in forum_data]\n",
        "    return forum_data"
      ],
      "execution_count": null,
      "outputs": [
        {
          "output_type": "stream",
          "text": [
            "[nltk_data] Downloading package wordnet to /root/nltk_data...\n",
            "[nltk_data]   Unzipping corpora/wordnet.zip.\n"
          ],
          "name": "stdout"
        }
      ]
    }
  ]
}
