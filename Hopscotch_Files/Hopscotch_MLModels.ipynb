{
  "nbformat": 4,
  "nbformat_minor": 0,
  "metadata": {
    "colab": {
      "name": "Hopscotch_MLModels.ipynb",
      "provenance": [],
      "toc_visible": true
    },
    "kernelspec": {
      "name": "python3",
      "display_name": "Python 3"
    }
  },
  "cells": [
    {
      "cell_type": "code",
      "metadata": {
        "id": "Eh-rSDOSWb4o",
        "colab_type": "code",
        "colab": {
          "base_uri": "https://localhost:8080/",
          "height": 35
        },
        "outputId": "a6a0fb6b-f2f6-47c8-fc9c-cbd4a092c9e4"
      },
      "source": [
        "from google.colab import drive\n",
        "drive.mount('/content/drive')"
      ],
      "execution_count": null,
      "outputs": [
        {
          "output_type": "stream",
          "text": [
            "Drive already mounted at /content/drive; to attempt to forcibly remount, call drive.mount(\"/content/drive\", force_remount=True).\n"
          ],
          "name": "stdout"
        }
      ]
    },
    {
      "cell_type": "code",
      "metadata": {
        "id": "08aVHjOAWhzg",
        "colab_type": "code",
        "colab": {
          "base_uri": "https://localhost:8080/",
          "height": 52
        },
        "outputId": "f3afcaa7-bed0-4d7d-b8bc-678d10dfda9e"
      },
      "source": [
        "cd drive/My\\ Drive/"
      ],
      "execution_count": null,
      "outputs": [
        {
          "output_type": "stream",
          "text": [
            "[Errno 2] No such file or directory: 'drive/My Drive/'\n",
            "/content/drive/My Drive/features22june\n"
          ],
          "name": "stdout"
        }
      ]
    },
    {
      "cell_type": "code",
      "metadata": {
        "id": "ueWMJ1_6WwFK",
        "colab_type": "code",
        "colab": {
          "base_uri": "https://localhost:8080/",
          "height": 52
        },
        "outputId": "a39345ce-2e50-4ed7-a043-0ee8e6c8830b"
      },
      "source": [
        "cd features22june/"
      ],
      "execution_count": null,
      "outputs": [
        {
          "output_type": "stream",
          "text": [
            "[Errno 2] No such file or directory: 'features22june/'\n",
            "/content/drive/My Drive/features22june\n"
          ],
          "name": "stdout"
        }
      ]
    },
    {
      "cell_type": "code",
      "metadata": {
        "id": "SjaO3izUXO5X",
        "colab_type": "code",
        "colab": {
          "base_uri": "https://localhost:8080/",
          "height": 123
        },
        "outputId": "8f25b579-d87a-4cb5-e7ca-fadcc25bd4f4"
      },
      "source": [
        "ls"
      ],
      "execution_count": null,
      "outputs": [
        {
          "output_type": "stream",
          "text": [
            "bnzcategory.csv     bnztokens.csv          Onehack_category.csv\n",
            "bnzcategory.gsheet  category.csv           Onehack_features.pickle\n",
            "bnzfcategory.csv    features               Onehack_tokens.csv\n",
            "bnzfeatures         features_with_cat_tag  tokens.csv\n",
            "bnzftokens.csv      labels.csv             tokens.gsheet\n",
            "bnzlabels.csv       labels.gsheet\n"
          ],
          "name": "stdout"
        }
      ]
    },
    {
      "cell_type": "code",
      "metadata": {
        "id": "6lTkkigTW2Pi",
        "colab_type": "code",
        "colab": {}
      },
      "source": [
        "import pickle\n",
        "import pandas as pd\n",
        "with open(\"Hopscotch_features.pickle\", 'rb') as pickle_file:\n",
        "  X = pickle.load(pickle_file)"
      ],
      "execution_count": 49,
      "outputs": []
    },
    {
      "cell_type": "code",
      "metadata": {
        "id": "PKNy2fUVXW2R",
        "colab_type": "code",
        "colab": {}
      },
      "source": [
        "y = pd.read_csv (\"Hopscotch_category.csv\")\n",
        "X = pd.DataFrame(X)"
      ],
      "execution_count": 50,
      "outputs": []
    },
    {
      "cell_type": "code",
      "metadata": {
        "id": "M6T8OWQSYuYf",
        "colab_type": "code",
        "colab": {
          "base_uri": "https://localhost:8080/",
          "height": 218
        },
        "outputId": "af7737b8-3b4e-475b-c2cc-9a96489cc654"
      },
      "source": [
        "y = y.drop('Unnamed: 0',1)\n",
        "num_classes = len(y['0'].unique())\n",
        "y['0'].value_counts().sort_values()"
      ],
      "execution_count": 51,
      "outputs": [
        {
          "output_type": "execute_result",
          "data": {
            "text/plain": [
              "hopscotch-draft-glitch                                    1\n",
              "how-to-make-character-silhouettes                         1\n",
              "how-to-make-an-object-point-to-an-object                  1\n",
              "mega-summer-camp-2018-join-now                            1\n",
              "how-do-you-make-an-account-that-s-not-a-school-account    1\n",
              "                                                         ..\n",
              "hi-i-m-new-here                                           2\n",
              "im-new-to-the-forum                                       3\n",
              "10-facts-about-me                                         3\n",
              "recycling-in-progress                                     3\n",
              "halloween-contest                                         3\n",
              "Name: 0, Length: 4877, dtype: int64"
            ]
          },
          "metadata": {
            "tags": []
          },
          "execution_count": 51
        }
      ]
    },
    {
      "cell_type": "code",
      "metadata": {
        "id": "LB4bZOgwgOGD",
        "colab_type": "code",
        "colab": {
          "base_uri": "https://localhost:8080/",
          "height": 195
        },
        "outputId": "6355f6f1-2e15-4d0f-d7a1-2e36fbfcda76"
      },
      "source": [
        "y['0'].value_counts().sort_values().plot(kind = 'barh')\n"
      ],
      "execution_count": 52,
      "outputs": [
        {
          "output_type": "execute_result",
          "data": {
            "text/plain": [
              "<matplotlib.axes._subplots.AxesSubplot at 0x7f5e50a09668>"
            ]
          },
          "metadata": {
            "tags": []
          },
          "execution_count": 52
        },
        {
          "output_type": "display_data",
          "data": {
            "image/png": "[encoded data removed]",
            "text/plain": [
              "<Figure size 432x288 with 1 Axes>"
            ]
          },
          "metadata": {
            "tags": [],
            "needs_background": "light"
          }
        }
      ]
    },
    {
      "cell_type": "code",
      "metadata": {
        "id": "izel_9JefxsY",
        "colab_type": "code",
        "colab": {}
      },
      "source": [
        "drop_cat=[]\n",
        "counts = dict(y['0'].value_counts())\n",
        "for cat in counts.keys():\n",
        "  if counts[cat]<3:\n",
        "    drop_cat.append(cat)"
      ],
      "execution_count": 53,
      "outputs": []
    },
    {
      "cell_type": "code",
      "metadata": {
        "id": "fsbnD2F6m25t",
        "colab_type": "code",
        "colab": {
          "base_uri": "https://localhost:8080/",
          "height": 34
        },
        "outputId": "3e83a032-f2e0-48f4-ae84-82bc12afd4e4"
      },
      "source": [
        "Data = pd.concat([y,X],axis=1)\n",
        "print(Data.shape)\n",
        "for cat in drop_cat:\n",
        "  Data.drop(Data.loc[Data['0'] == cat].index, inplace=True)"
      ],
      "execution_count": 54,
      "outputs": [
        {
          "output_type": "stream",
          "text": [
            "(4900, 769)\n"
          ],
          "name": "stdout"
        }
      ]
    },
    {
      "cell_type": "code",
      "metadata": {
        "id": "PDBWQuKEpotQ",
        "colab_type": "code",
        "colab": {
          "base_uri": "https://localhost:8080/",
          "height": 34
        },
        "outputId": "b9a905af-8e79-4b8a-c759-3e40c6221f0b"
      },
      "source": [
        "Data.shape"
      ],
      "execution_count": 55,
      "outputs": [
        {
          "output_type": "execute_result",
          "data": {
            "text/plain": [
              "(12, 769)"
            ]
          },
          "metadata": {
            "tags": []
          },
          "execution_count": 55
        }
      ]
    },
    {
      "cell_type": "code",
      "metadata": {
        "id": "JV4HxeT9nf2q",
        "colab_type": "code",
        "colab": {}
      },
      "source": [
        "y = Data['0']\n",
        "X = Data.drop('0',axis=1)"
      ],
      "execution_count": 56,
      "outputs": []
    },
    {
      "cell_type": "markdown",
      "metadata": {
        "id": "Mzo3FbPvKsPA",
        "colab_type": "text"
      },
      "source": [
        "# UNDER SAMPLING"
      ]
    },
    {
      "cell_type": "code",
      "metadata": {
        "id": "9Ocl0_MBZK0-",
        "colab_type": "code",
        "colab": {
          "base_uri": "https://localhost:8080/",
          "height": 171
        },
        "outputId": "70fa9f90-5568-49cf-ee89-5ebf6c32f90a"
      },
      "source": [
        "from imblearn.under_sampling import ClusterCentroids#undersampling\n",
        "cc = ClusterCentroids(random_state=0)\n",
        "X, y = cc.fit_resample(X, y)"
      ],
      "execution_count": 57,
      "outputs": [
        {
          "output_type": "stream",
          "text": [
            "/usr/local/lib/python3.6/dist-packages/sklearn/utils/deprecation.py:87: FutureWarning: Function safe_indexing is deprecated; safe_indexing is deprecated in version 0.22 and will be removed in version 0.24.\n",
            "  warnings.warn(msg, category=FutureWarning)\n",
            "/usr/local/lib/python3.6/dist-packages/imblearn/under_sampling/_prototype_generation/_cluster_centroids.py:156: ConvergenceWarning: Number of distinct clusters (1) found smaller than n_clusters (3). Possibly due to duplicate points in X.\n",
            "  self.estimator_.fit(X[y == target_class])\n",
            "/usr/local/lib/python3.6/dist-packages/imblearn/under_sampling/_prototype_generation/_cluster_centroids.py:156: ConvergenceWarning: Number of distinct clusters (1) found smaller than n_clusters (3). Possibly due to duplicate points in X.\n",
            "  self.estimator_.fit(X[y == target_class])\n",
            "/usr/local/lib/python3.6/dist-packages/imblearn/under_sampling/_prototype_generation/_cluster_centroids.py:156: ConvergenceWarning: Number of distinct clusters (1) found smaller than n_clusters (3). Possibly due to duplicate points in X.\n",
            "  self.estimator_.fit(X[y == target_class])\n"
          ],
          "name": "stderr"
        }
      ]
    },
    {
      "cell_type": "code",
      "metadata": {
        "id": "JGuFRppybuqp",
        "colab_type": "code",
        "colab": {}
      },
      "source": [
        "y=pd.DataFrame(y)"
      ],
      "execution_count": 59,
      "outputs": []
    },
    {
      "cell_type": "code",
      "metadata": {
        "id": "CQ0k9MUPpjWC",
        "colab_type": "code",
        "colab": {
          "base_uri": "https://localhost:8080/",
          "height": 282
        },
        "outputId": "f5f062f6-1f1f-4955-cb42-071d910b1b7e"
      },
      "source": [
        "y[0].value_counts().sort_values().plot(kind = 'barh')\n"
      ],
      "execution_count": 60,
      "outputs": [
        {
          "output_type": "execute_result",
          "data": {
            "text/plain": [
              "<matplotlib.axes._subplots.AxesSubplot at 0x7f5e4ada7278>"
            ]
          },
          "metadata": {
            "tags": []
          },
          "execution_count": 60
        },
        {
          "output_type": "display_data",
          "data": {
            "image/png": "[encoded data removed]",
            "text/plain": [
              "<Figure size 432x288 with 1 Axes>"
            ]
          },
          "metadata": {
            "tags": [],
            "needs_background": "light"
          }
        }
      ]
    },
    {
      "cell_type": "code",
      "metadata": {
        "id": "RQcZj2AiY2Kk",
        "colab_type": "code",
        "colab": {}
      },
      "source": [
        "from sklearn.model_selection import train_test_split\n",
        "from sklearn.metrics import confusion_matrix,classification_report\n",
        "from sklearn.model_selection import cross_val_score, GridSearchCV\n",
        "# Split into training and test sets\n",
        "X_train, X_test, y_train, y_test = train_test_split(X, y, test_size=0.20)"
      ],
      "execution_count": 61,
      "outputs": []
    },
    {
      "cell_type": "markdown",
      "metadata": {
        "id": "_eaKk3xqKmqG",
        "colab_type": "text"
      },
      "source": [
        "# XGBOOST"
      ]
    },
    {
      "cell_type": "code",
      "metadata": {
        "id": "Y98AW3P1bS8d",
        "colab_type": "code",
        "colab": {}
      },
      "source": [
        "from xgboost import XGBClassifier\n",
        "\n",
        "# Create a classifier\n",
        "xgb = XGBClassifier(booster='gbtree', objective='multi:softprob', eval_metric=\"auc\", num_class=num_classes)"
      ],
      "execution_count": 62,
      "outputs": []
    },
    {
      "cell_type": "code",
      "metadata": {
        "id": "xVwTJmoTdJ09",
        "colab_type": "code",
        "colab": {
          "base_uri": "https://localhost:8080/",
          "height": 121
        },
        "outputId": "86a82fa0-990e-4f34-b964-8056d19ff7a6"
      },
      "source": [
        "from sklearn.metrics import roc_auc_score\n",
        "from sklearn import preprocessing\n",
        "\n",
        "xgb.fit(X_train,y_train)\n",
        "# Use trained model to predict output of test dataset\n",
        "val = xgb.predict(X_test)\n",
        "\n",
        "lb = preprocessing.LabelBinarizer()\n",
        "lb.fit(y_test)\n",
        "\n",
        "y_test_lb = lb.transform(y_test)\n",
        "val_lb = lb.transform(val)\n",
        "\n",
        "roc_auc_score(y_test_lb, val_lb, average='macro')"
      ],
      "execution_count": 63,
      "outputs": [
        {
          "output_type": "stream",
          "text": [
            "/usr/local/lib/python3.6/dist-packages/sklearn/preprocessing/_label.py:235: DataConversionWarning: A column-vector y was passed when a 1d array was expected. Please change the shape of y to (n_samples, ), for example using ravel().\n",
            "  y = column_or_1d(y, warn=True)\n",
            "/usr/local/lib/python3.6/dist-packages/sklearn/preprocessing/_label.py:268: DataConversionWarning: A column-vector y was passed when a 1d array was expected. Please change the shape of y to (n_samples, ), for example using ravel().\n",
            "  y = column_or_1d(y, warn=True)\n"
          ],
          "name": "stderr"
        },
        {
          "output_type": "execute_result",
          "data": {
            "text/plain": [
              "1.0"
            ]
          },
          "metadata": {
            "tags": []
          },
          "execution_count": 63
        }
      ]
    },
    {
      "cell_type": "markdown",
      "metadata": {
        "id": "qM-BWws5K7VT",
        "colab_type": "text"
      },
      "source": [
        "# SVM"
      ]
    },
    {
      "cell_type": "code",
      "metadata": {
        "id": "G4BKwFH1K9GA",
        "colab_type": "code",
        "colab": {}
      },
      "source": [
        "import numpy as np\n",
        "import pylab as pl\n",
        "import pandas as pd\n",
        "import matplotlib.pyplot as plt \n",
        "import seaborn as sns\n",
        "from sklearn.utils import shuffle\n",
        "from sklearn.svm import SVC\n",
        "from sklearn.metrics import confusion_matrix,classification_report\n",
        "from sklearn.model_selection import cross_val_score, GridSearchCV\n",
        "from sklearn import preprocessing\n",
        "from sklearn.preprocessing import StandardScaler,MinMaxScaler\n"
      ],
      "execution_count": 64,
      "outputs": []
    },
    {
      "cell_type": "code",
      "metadata": {
        "id": "6oovn8VLo6Ji",
        "colab_type": "code",
        "colab": {}
      },
      "source": [
        "scaler = StandardScaler()\n",
        "X_train_scaled = scaler.fit_transform(X_train)\n",
        "X_test_scaled = scaler.transform(X_test)"
      ],
      "execution_count": 65,
      "outputs": []
    },
    {
      "cell_type": "code",
      "metadata": {
        "id": "YLuN0624pEJz",
        "colab_type": "code",
        "colab": {}
      },
      "source": [
        "scaler = MinMaxScaler()\n",
        "X_train_mm = scaler.fit_transform(X_train)\n",
        "X_test_mm = scaler.transform(X_test)"
      ],
      "execution_count": 66,
      "outputs": []
    },
    {
      "cell_type": "code",
      "metadata": {
        "id": "nIHjLD8oLCCS",
        "colab_type": "code",
        "colab": {
          "base_uri": "https://localhost:8080/",
          "height": 104
        },
        "outputId": "d499305c-3c62-40e1-9c2b-3c5776b97510"
      },
      "source": [
        "encoder = preprocessing.LabelEncoder()\n",
        "\n",
        "encoder.fit(y_train)\n",
        "Y_train = encoder.transform(y_train)\n",
        "\n",
        "encoder.fit(y_test)\n",
        "Y_test = encoder.transform(y_test)\n",
        "\n"
      ],
      "execution_count": 67,
      "outputs": [
        {
          "output_type": "stream",
          "text": [
            "/usr/local/lib/python3.6/dist-packages/sklearn/preprocessing/_label.py:235: DataConversionWarning: A column-vector y was passed when a 1d array was expected. Please change the shape of y to (n_samples, ), for example using ravel().\n",
            "  y = column_or_1d(y, warn=True)\n",
            "/usr/local/lib/python3.6/dist-packages/sklearn/preprocessing/_label.py:268: DataConversionWarning: A column-vector y was passed when a 1d array was expected. Please change the shape of y to (n_samples, ), for example using ravel().\n",
            "  y = column_or_1d(y, warn=True)\n"
          ],
          "name": "stderr"
        }
      ]
    },
    {
      "cell_type": "code",
      "metadata": {
        "id": "O88ksQHsLFNQ",
        "colab_type": "code",
        "colab": {}
      },
      "source": [
        "params_grid = [{'kernel': ['rbf'], 'gamma': [1e-3, 1e-4],\n",
        "                     'C': [1, 10, 100, 1000]},\n",
        "                    {'kernel': ['linear'], 'C': [1, 10, 100, 1000]}]"
      ],
      "execution_count": 68,
      "outputs": []
    },
    {
      "cell_type": "code",
      "metadata": {
        "id": "SeBR29BkLJWi",
        "colab_type": "code",
        "colab": {
          "base_uri": "https://localhost:8080/",
          "height": 289
        },
        "outputId": "96c78023-e906-438a-af90-ae2c0a626ef4"
      },
      "source": [
        "svm_model = GridSearchCV(SVC(), params_grid, cv=2)\n",
        "svm_model.fit(X_train_scaled, Y_train)"
      ],
      "execution_count": 69,
      "outputs": [
        {
          "output_type": "stream",
          "text": [
            "/usr/local/lib/python3.6/dist-packages/sklearn/model_selection/_split.py:667: UserWarning: The least populated class in y has only 1 members, which is less than n_splits=2.\n",
            "  % (min_groups, self.n_splits)), UserWarning)\n"
          ],
          "name": "stderr"
        },
        {
          "output_type": "execute_result",
          "data": {
            "text/plain": [
              "GridSearchCV(cv=2, error_score=nan,\n",
              "             estimator=SVC(C=1.0, break_ties=False, cache_size=200,\n",
              "                           class_weight=None, coef0=0.0,\n",
              "                           decision_function_shape='ovr', degree=3,\n",
              "                           gamma='scale', kernel='rbf', max_iter=-1,\n",
              "                           probability=False, random_state=None, shrinking=True,\n",
              "                           tol=0.001, verbose=False),\n",
              "             iid='deprecated', n_jobs=None,\n",
              "             param_grid=[{'C': [1, 10, 100, 1000], 'gamma': [0.001, 0.0001],\n",
              "                          'kernel': ['rbf']},\n",
              "                         {'C': [1, 10, 100, 1000], 'kernel': ['linear']}],\n",
              "             pre_dispatch='2*n_jobs', refit=True, return_train_score=False,\n",
              "             scoring=None, verbose=0)"
            ]
          },
          "metadata": {
            "tags": []
          },
          "execution_count": 69
        }
      ]
    },
    {
      "cell_type": "code",
      "metadata": {
        "id": "0vf6k0aJLMOq",
        "colab_type": "code",
        "colab": {
          "base_uri": "https://localhost:8080/",
          "height": 448
        },
        "outputId": "2fe5bbd4-88b5-4f4a-d69a-55a5f4a04099"
      },
      "source": [
        "print('Best score for training data:', svm_model.best_score_,\"\\n\") \n",
        "print('Best C:',svm_model.best_estimator_.C,\"\\n\") \n",
        "print('Best Kernel:',svm_model.best_estimator_.kernel,\"\\n\")\n",
        "print('Best Gamma:',svm_model.best_estimator_.gamma,\"\\n\")\n",
        "\n",
        "final_model = svm_model.best_estimator_\n",
        "Y_pred = final_model.predict(X_test_scaled)\n",
        "Y_pred_label = list(encoder.inverse_transform(Y_pred))"
      ],
      "execution_count": 70,
      "outputs": [
        {
          "output_type": "stream",
          "text": [
            "Best score for training data: 0.9 \n",
            "\n",
            "Best C: 1 \n",
            "\n",
            "Best Kernel: rbf \n",
            "\n",
            "Best Gamma: 0.001 \n",
            "\n"
          ],
          "name": "stdout"
        },
        {
          "output_type": "error",
          "ename": "ValueError",
          "evalue": "ignored",
          "traceback": [
            "\u001b[0;31m---------------------------------------------------------------------------\u001b[0m",
            "\u001b[0;31mValueError\u001b[0m                                Traceback (most recent call last)",
            "\u001b[0;32m<ipython-input-70-e555ab888605>\u001b[0m in \u001b[0;36m<module>\u001b[0;34m()\u001b[0m\n\u001b[1;32m      6\u001b[0m \u001b[0mfinal_model\u001b[0m \u001b[0;34m=\u001b[0m \u001b[0msvm_model\u001b[0m\u001b[0;34m.\u001b[0m\u001b[0mbest_estimator_\u001b[0m\u001b[0;34m\u001b[0m\u001b[0;34m\u001b[0m\u001b[0m\n\u001b[1;32m      7\u001b[0m \u001b[0mY_pred\u001b[0m \u001b[0;34m=\u001b[0m \u001b[0mfinal_model\u001b[0m\u001b[0;34m.\u001b[0m\u001b[0mpredict\u001b[0m\u001b[0;34m(\u001b[0m\u001b[0mX_test_scaled\u001b[0m\u001b[0;34m)\u001b[0m\u001b[0;34m\u001b[0m\u001b[0;34m\u001b[0m\u001b[0m\n\u001b[0;32m----> 8\u001b[0;31m \u001b[0mY_pred_label\u001b[0m \u001b[0;34m=\u001b[0m \u001b[0mlist\u001b[0m\u001b[0;34m(\u001b[0m\u001b[0mencoder\u001b[0m\u001b[0;34m.\u001b[0m\u001b[0minverse_transform\u001b[0m\u001b[0;34m(\u001b[0m\u001b[0mY_pred\u001b[0m\u001b[0;34m)\u001b[0m\u001b[0;34m)\u001b[0m\u001b[0;34m\u001b[0m\u001b[0;34m\u001b[0m\u001b[0m\n\u001b[0m",
            "\u001b[0;32m/usr/local/lib/python3.6/dist-packages/sklearn/preprocessing/_label.py\u001b[0m in \u001b[0;36minverse_transform\u001b[0;34m(self, y)\u001b[0m\n\u001b[1;32m    295\u001b[0m         \u001b[0;32mif\u001b[0m \u001b[0mlen\u001b[0m\u001b[0;34m(\u001b[0m\u001b[0mdiff\u001b[0m\u001b[0;34m)\u001b[0m\u001b[0;34m:\u001b[0m\u001b[0;34m\u001b[0m\u001b[0;34m\u001b[0m\u001b[0m\n\u001b[1;32m    296\u001b[0m             raise ValueError(\n\u001b[0;32m--> 297\u001b[0;31m                     \"y contains previously unseen labels: %s\" % str(diff))\n\u001b[0m\u001b[1;32m    298\u001b[0m         \u001b[0my\u001b[0m \u001b[0;34m=\u001b[0m \u001b[0mnp\u001b[0m\u001b[0;34m.\u001b[0m\u001b[0masarray\u001b[0m\u001b[0;34m(\u001b[0m\u001b[0my\u001b[0m\u001b[0;34m)\u001b[0m\u001b[0;34m\u001b[0m\u001b[0;34m\u001b[0m\u001b[0m\n\u001b[1;32m    299\u001b[0m         \u001b[0;32mreturn\u001b[0m \u001b[0mself\u001b[0m\u001b[0;34m.\u001b[0m\u001b[0mclasses_\u001b[0m\u001b[0;34m[\u001b[0m\u001b[0my\u001b[0m\u001b[0;34m]\u001b[0m\u001b[0;34m\u001b[0m\u001b[0;34m\u001b[0m\u001b[0m\n",
            "\u001b[0;31mValueError\u001b[0m: y contains previously unseen labels: [3]"
          ]
        }
      ]
    },
    {
      "cell_type": "code",
      "metadata": {
        "id": "xVORWTvXLPHc",
        "colab_type": "code",
        "colab": {
          "base_uri": "https://localhost:8080/",
          "height": 371
        },
        "outputId": "563790cc-46e7-4d9d-8739-960d69815927"
      },
      "source": [
        "print(confusion_matrix(y_test,Y_pred_label))\n",
        "print(\"\\n\")\n",
        "print(classification_report(y_test,Y_pred_label))\n",
        "\n",
        "print(\"Training set score for SVM: %f\" % final_model.score(X_train_scaled , Y_train))\n",
        "print(\"Testing  set score for SVM: %f\" % final_model.score(X_test_scaled  , Y_test ))\n",
        "\n"
      ],
      "execution_count": 71,
      "outputs": [
        {
          "output_type": "error",
          "ename": "ValueError",
          "evalue": "ignored",
          "traceback": [
            "\u001b[0;31m---------------------------------------------------------------------------\u001b[0m",
            "\u001b[0;31mValueError\u001b[0m                                Traceback (most recent call last)",
            "\u001b[0;32m<ipython-input-71-4cb21498d37f>\u001b[0m in \u001b[0;36m<module>\u001b[0;34m()\u001b[0m\n\u001b[0;32m----> 1\u001b[0;31m \u001b[0mprint\u001b[0m\u001b[0;34m(\u001b[0m\u001b[0mconfusion_matrix\u001b[0m\u001b[0;34m(\u001b[0m\u001b[0my_test\u001b[0m\u001b[0;34m,\u001b[0m\u001b[0mY_pred_label\u001b[0m\u001b[0;34m)\u001b[0m\u001b[0;34m)\u001b[0m\u001b[0;34m\u001b[0m\u001b[0;34m\u001b[0m\u001b[0m\n\u001b[0m\u001b[1;32m      2\u001b[0m \u001b[0mprint\u001b[0m\u001b[0;34m(\u001b[0m\u001b[0;34m\"\\n\"\u001b[0m\u001b[0;34m)\u001b[0m\u001b[0;34m\u001b[0m\u001b[0;34m\u001b[0m\u001b[0m\n\u001b[1;32m      3\u001b[0m \u001b[0mprint\u001b[0m\u001b[0;34m(\u001b[0m\u001b[0mclassification_report\u001b[0m\u001b[0;34m(\u001b[0m\u001b[0my_test\u001b[0m\u001b[0;34m,\u001b[0m\u001b[0mY_pred_label\u001b[0m\u001b[0;34m)\u001b[0m\u001b[0;34m)\u001b[0m\u001b[0;34m\u001b[0m\u001b[0;34m\u001b[0m\u001b[0m\n\u001b[1;32m      4\u001b[0m \u001b[0;34m\u001b[0m\u001b[0m\n\u001b[1;32m      5\u001b[0m \u001b[0mprint\u001b[0m\u001b[0;34m(\u001b[0m\u001b[0;34m\"Training set score for SVM: %f\"\u001b[0m \u001b[0;34m%\u001b[0m \u001b[0mfinal_model\u001b[0m\u001b[0;34m.\u001b[0m\u001b[0mscore\u001b[0m\u001b[0;34m(\u001b[0m\u001b[0mX_train_scaled\u001b[0m \u001b[0;34m,\u001b[0m \u001b[0mY_train\u001b[0m\u001b[0;34m)\u001b[0m\u001b[0;34m)\u001b[0m\u001b[0;34m\u001b[0m\u001b[0;34m\u001b[0m\u001b[0m\n",
            "\u001b[0;32m/usr/local/lib/python3.6/dist-packages/sklearn/metrics/_classification.py\u001b[0m in \u001b[0;36mconfusion_matrix\u001b[0;34m(y_true, y_pred, labels, sample_weight, normalize)\u001b[0m\n\u001b[1;32m    266\u001b[0m \u001b[0;34m\u001b[0m\u001b[0m\n\u001b[1;32m    267\u001b[0m     \"\"\"\n\u001b[0;32m--> 268\u001b[0;31m     \u001b[0my_type\u001b[0m\u001b[0;34m,\u001b[0m \u001b[0my_true\u001b[0m\u001b[0;34m,\u001b[0m \u001b[0my_pred\u001b[0m \u001b[0;34m=\u001b[0m \u001b[0m_check_targets\u001b[0m\u001b[0;34m(\u001b[0m\u001b[0my_true\u001b[0m\u001b[0;34m,\u001b[0m \u001b[0my_pred\u001b[0m\u001b[0;34m)\u001b[0m\u001b[0;34m\u001b[0m\u001b[0;34m\u001b[0m\u001b[0m\n\u001b[0m\u001b[1;32m    269\u001b[0m     \u001b[0;32mif\u001b[0m \u001b[0my_type\u001b[0m \u001b[0;32mnot\u001b[0m \u001b[0;32min\u001b[0m \u001b[0;34m(\u001b[0m\u001b[0;34m\"binary\"\u001b[0m\u001b[0;34m,\u001b[0m \u001b[0;34m\"multiclass\"\u001b[0m\u001b[0;34m)\u001b[0m\u001b[0;34m:\u001b[0m\u001b[0;34m\u001b[0m\u001b[0;34m\u001b[0m\u001b[0m\n\u001b[1;32m    270\u001b[0m         \u001b[0;32mraise\u001b[0m \u001b[0mValueError\u001b[0m\u001b[0;34m(\u001b[0m\u001b[0;34m\"%s is not supported\"\u001b[0m \u001b[0;34m%\u001b[0m \u001b[0my_type\u001b[0m\u001b[0;34m)\u001b[0m\u001b[0;34m\u001b[0m\u001b[0;34m\u001b[0m\u001b[0m\n",
            "\u001b[0;32m/usr/local/lib/python3.6/dist-packages/sklearn/metrics/_classification.py\u001b[0m in \u001b[0;36m_check_targets\u001b[0;34m(y_true, y_pred)\u001b[0m\n\u001b[1;32m     78\u001b[0m     \u001b[0my_pred\u001b[0m \u001b[0;34m:\u001b[0m \u001b[0marray\u001b[0m \u001b[0;32mor\u001b[0m \u001b[0mindicator\u001b[0m \u001b[0mmatrix\u001b[0m\u001b[0;34m\u001b[0m\u001b[0;34m\u001b[0m\u001b[0m\n\u001b[1;32m     79\u001b[0m     \"\"\"\n\u001b[0;32m---> 80\u001b[0;31m     \u001b[0mcheck_consistent_length\u001b[0m\u001b[0;34m(\u001b[0m\u001b[0my_true\u001b[0m\u001b[0;34m,\u001b[0m \u001b[0my_pred\u001b[0m\u001b[0;34m)\u001b[0m\u001b[0;34m\u001b[0m\u001b[0;34m\u001b[0m\u001b[0m\n\u001b[0m\u001b[1;32m     81\u001b[0m     \u001b[0mtype_true\u001b[0m \u001b[0;34m=\u001b[0m \u001b[0mtype_of_target\u001b[0m\u001b[0;34m(\u001b[0m\u001b[0my_true\u001b[0m\u001b[0;34m)\u001b[0m\u001b[0;34m\u001b[0m\u001b[0;34m\u001b[0m\u001b[0m\n\u001b[1;32m     82\u001b[0m     \u001b[0mtype_pred\u001b[0m \u001b[0;34m=\u001b[0m \u001b[0mtype_of_target\u001b[0m\u001b[0;34m(\u001b[0m\u001b[0my_pred\u001b[0m\u001b[0;34m)\u001b[0m\u001b[0;34m\u001b[0m\u001b[0;34m\u001b[0m\u001b[0m\n",
            "\u001b[0;32m/usr/local/lib/python3.6/dist-packages/sklearn/utils/validation.py\u001b[0m in \u001b[0;36mcheck_consistent_length\u001b[0;34m(*arrays)\u001b[0m\n\u001b[1;32m    210\u001b[0m     \u001b[0;32mif\u001b[0m \u001b[0mlen\u001b[0m\u001b[0;34m(\u001b[0m\u001b[0muniques\u001b[0m\u001b[0;34m)\u001b[0m \u001b[0;34m>\u001b[0m \u001b[0;36m1\u001b[0m\u001b[0;34m:\u001b[0m\u001b[0;34m\u001b[0m\u001b[0;34m\u001b[0m\u001b[0m\n\u001b[1;32m    211\u001b[0m         raise ValueError(\"Found input variables with inconsistent numbers of\"\n\u001b[0;32m--> 212\u001b[0;31m                          \" samples: %r\" % [int(l) for l in lengths])\n\u001b[0m\u001b[1;32m    213\u001b[0m \u001b[0;34m\u001b[0m\u001b[0m\n\u001b[1;32m    214\u001b[0m \u001b[0;34m\u001b[0m\u001b[0m\n",
            "\u001b[0;31mValueError\u001b[0m: Found input variables with inconsistent numbers of samples: [3, 2]"
          ]
        }
      ]
    },
    {
      "cell_type": "markdown",
      "metadata": {
        "id": "ZW9JUfN0cpMD",
        "colab_type": "text"
      },
      "source": [
        "# NN\n"
      ]
    },
    {
      "cell_type": "code",
      "metadata": {
        "id": "TJfeLdChdyi1",
        "colab_type": "code",
        "colab": {
          "base_uri": "https://localhost:8080/",
          "height": 34
        },
        "outputId": "a8237ab3-4b20-418d-ec18-8d66de5be395"
      },
      "source": [
        "from keras import models\n",
        "from keras import layers\n",
        "from keras.wrappers.scikit_learn import KerasClassifier\n",
        "from sklearn.model_selection import cross_val_score\n",
        "from sklearn.model_selection import KFold"
      ],
      "execution_count": 72,
      "outputs": [
        {
          "output_type": "stream",
          "text": [
            "Using TensorFlow backend.\n"
          ],
          "name": "stderr"
        }
      ]
    },
    {
      "cell_type": "code",
      "metadata": {
        "id": "fDr_uD1RcndM",
        "colab_type": "code",
        "colab": {}
      },
      "source": [
        "from keras.models import Sequential\n",
        "from keras.layers import Dense,Dropout\n",
        "from keras.optimizers import Adam\n",
        "\n",
        "def NN(X_train, y_train,X_test,epoch):\n",
        "\n",
        "    \n",
        "\n",
        "    model = Sequential([#Dropout(0.2, input_shape=(768,)),\n",
        "                                Dense(256, activation='relu', input_shape=(768,)),\n",
        "                                Dense(128, activation='relu'),\n",
        "                                Dense(4, activation='softmax'),\n",
        "                            ])\n",
        "\n",
        "    opt = Adam(lr=0.001)\n",
        "    model.compile( optimizer=opt, loss='categorical_crossentropy', metrics=['accuracy'])\n",
        "    model.fit(  X_train,  y_train,  epochs=epoch,  batch_size=256)\n",
        "    y_pred=model.predict(X_test)\n",
        "    #print('a',y_pred)\n",
        "    return y_pred\n",
        "       "
      ],
      "execution_count": 73,
      "outputs": []
    },
    {
      "cell_type": "code",
      "metadata": {
        "id": "Qz4Xu-m9jwMZ",
        "colab_type": "code",
        "colab": {}
      },
      "source": [
        "lb = preprocessing.LabelBinarizer()\n",
        "lb.fit(y_train)\n",
        "\n",
        "y_train_lb = lb.transform(y_train)"
      ],
      "execution_count": 74,
      "outputs": []
    },
    {
      "cell_type": "code",
      "metadata": {
        "id": "ZMPiXQCMhn9o",
        "colab_type": "code",
        "colab": {
          "base_uri": "https://localhost:8080/",
          "height": 1000
        },
        "outputId": "f8cf91e0-20e8-4c59-a19a-db207c540d95"
      },
      "source": [
        "# y_pred = NN(X_train,y_train_lb,X_test, 400)\n",
        "# y_pred = NN(X_train_scaled,y_train_lb,X_test_scaled, 200) #80\n",
        "y_pred = NN(X_train_mm,y_train_lb,X_test_mm, 500)"
      ],
      "execution_count": 75,
      "outputs": [
        {
          "output_type": "stream",
          "text": [
            "Epoch 1/500\n",
            "9/9 [==============================] - 0s 40ms/step - loss: 1.6222 - accuracy: 0.5556\n",
            "Epoch 2/500\n",
            "9/9 [==============================] - 0s 578us/step - loss: 0.6661 - accuracy: 0.8889\n",
            "Epoch 3/500\n",
            "9/9 [==============================] - 0s 1ms/step - loss: 0.2852 - accuracy: 0.8889\n",
            "Epoch 4/500\n",
            "9/9 [==============================] - 0s 799us/step - loss: 0.1618 - accuracy: 1.0000\n",
            "Epoch 5/500\n",
            "9/9 [==============================] - 0s 1ms/step - loss: 0.1074 - accuracy: 1.0000\n",
            "Epoch 6/500\n",
            "9/9 [==============================] - 0s 786us/step - loss: 0.0695 - accuracy: 1.0000\n",
            "Epoch 7/500\n",
            "9/9 [==============================] - 0s 1ms/step - loss: 0.0436 - accuracy: 1.0000\n",
            "Epoch 8/500\n",
            "9/9 [==============================] - 0s 927us/step - loss: 0.0282 - accuracy: 1.0000\n",
            "Epoch 9/500\n",
            "9/9 [==============================] - 0s 761us/step - loss: 0.0199 - accuracy: 1.0000\n",
            "Epoch 10/500\n",
            "9/9 [==============================] - 0s 889us/step - loss: 0.0149 - accuracy: 1.0000\n",
            "Epoch 11/500\n",
            "9/9 [==============================] - 0s 698us/step - loss: 0.0111 - accuracy: 1.0000\n",
            "Epoch 12/500\n",
            "9/9 [==============================] - 0s 739us/step - loss: 0.0079 - accuracy: 1.0000\n",
            "Epoch 13/500\n",
            "9/9 [==============================] - 0s 665us/step - loss: 0.0055 - accuracy: 1.0000\n",
            "Epoch 14/500\n",
            "9/9 [==============================] - 0s 766us/step - loss: 0.0038 - accuracy: 1.0000\n",
            "Epoch 15/500\n",
            "9/9 [==============================] - 0s 1ms/step - loss: 0.0026 - accuracy: 1.0000\n",
            "Epoch 16/500\n",
            "9/9 [==============================] - 0s 820us/step - loss: 0.0018 - accuracy: 1.0000\n",
            "Epoch 17/500\n",
            "9/9 [==============================] - 0s 877us/step - loss: 0.0013 - accuracy: 1.0000\n",
            "Epoch 18/500\n",
            "9/9 [==============================] - 0s 753us/step - loss: 0.0010 - accuracy: 1.0000\n",
            "Epoch 19/500\n",
            "9/9 [==============================] - 0s 899us/step - loss: 8.0911e-04 - accuracy: 1.0000\n",
            "Epoch 20/500\n",
            "9/9 [==============================] - 0s 734us/step - loss: 6.6085e-04 - accuracy: 1.0000\n",
            "Epoch 21/500\n",
            "9/9 [==============================] - 0s 855us/step - loss: 5.5402e-04 - accuracy: 1.0000\n",
            "Epoch 22/500\n",
            "9/9 [==============================] - 0s 807us/step - loss: 4.7464e-04 - accuracy: 1.0000\n",
            "Epoch 23/500\n",
            "9/9 [==============================] - 0s 714us/step - loss: 4.1394e-04 - accuracy: 1.0000\n",
            "Epoch 24/500\n",
            "9/9 [==============================] - 0s 689us/step - loss: 3.6522e-04 - accuracy: 1.0000\n",
            "Epoch 25/500\n",
            "9/9 [==============================] - 0s 731us/step - loss: 3.2531e-04 - accuracy: 1.0000\n",
            "Epoch 26/500\n",
            "9/9 [==============================] - 0s 723us/step - loss: 2.9262e-04 - accuracy: 1.0000\n",
            "Epoch 27/500\n",
            "9/9 [==============================] - 0s 765us/step - loss: 2.6536e-04 - accuracy: 1.0000\n",
            "Epoch 28/500\n",
            "9/9 [==============================] - 0s 1ms/step - loss: 2.4169e-04 - accuracy: 1.0000\n",
            "Epoch 29/500\n",
            "9/9 [==============================] - 0s 826us/step - loss: 2.2077e-04 - accuracy: 1.0000\n",
            "Epoch 30/500\n",
            "9/9 [==============================] - 0s 695us/step - loss: 2.0230e-04 - accuracy: 1.0000\n",
            "Epoch 31/500\n",
            "9/9 [==============================] - 0s 871us/step - loss: 1.8583e-04 - accuracy: 1.0000\n",
            "Epoch 32/500\n",
            "9/9 [==============================] - 0s 1ms/step - loss: 1.7110e-04 - accuracy: 1.0000\n",
            "Epoch 33/500\n",
            "9/9 [==============================] - 0s 1ms/step - loss: 1.5790e-04 - accuracy: 1.0000\n",
            "Epoch 34/500\n",
            "9/9 [==============================] - 0s 1ms/step - loss: 1.4606e-04 - accuracy: 1.0000\n",
            "Epoch 35/500\n",
            "9/9 [==============================] - 0s 1ms/step - loss: 1.3546e-04 - accuracy: 1.0000\n",
            "Epoch 36/500\n",
            "9/9 [==============================] - 0s 989us/step - loss: 1.2598e-04 - accuracy: 1.0000\n",
            "Epoch 37/500\n",
            "9/9 [==============================] - 0s 1ms/step - loss: 1.1757e-04 - accuracy: 1.0000\n",
            "Epoch 38/500\n",
            "9/9 [==============================] - 0s 1ms/step - loss: 1.1014e-04 - accuracy: 1.0000\n",
            "Epoch 39/500\n",
            "9/9 [==============================] - 0s 1ms/step - loss: 1.0348e-04 - accuracy: 1.0000\n",
            "Epoch 40/500\n",
            "9/9 [==============================] - 0s 802us/step - loss: 9.7558e-05 - accuracy: 1.0000\n",
            "Epoch 41/500\n",
            "9/9 [==============================] - 0s 1ms/step - loss: 9.2287e-05 - accuracy: 1.0000\n",
            "Epoch 42/500\n",
            "9/9 [==============================] - 0s 972us/step - loss: 8.7639e-05 - accuracy: 1.0000\n",
            "Epoch 43/500\n",
            "9/9 [==============================] - 0s 1ms/step - loss: 8.3348e-05 - accuracy: 1.0000\n",
            "Epoch 44/500\n",
            "9/9 [==============================] - 0s 985us/step - loss: 7.9573e-05 - accuracy: 1.0000\n",
            "Epoch 45/500\n",
            "9/9 [==============================] - 0s 1ms/step - loss: 7.6183e-05 - accuracy: 1.0000\n",
            "Epoch 46/500\n",
            "9/9 [==============================] - 0s 900us/step - loss: 7.3110e-05 - accuracy: 1.0000\n",
            "Epoch 47/500\n",
            "9/9 [==============================] - 0s 700us/step - loss: 7.0395e-05 - accuracy: 1.0000\n",
            "Epoch 48/500\n",
            "9/9 [==============================] - 0s 623us/step - loss: 6.7958e-05 - accuracy: 1.0000\n",
            "Epoch 49/500\n",
            "9/9 [==============================] - 0s 593us/step - loss: 6.5760e-05 - accuracy: 1.0000\n",
            "Epoch 50/500\n",
            "9/9 [==============================] - 0s 704us/step - loss: 6.3773e-05 - accuracy: 1.0000\n",
            "Epoch 51/500\n",
            "9/9 [==============================] - 0s 637us/step - loss: 6.1906e-05 - accuracy: 1.0000\n",
            "Epoch 52/500\n",
            "9/9 [==============================] - 0s 618us/step - loss: 6.0290e-05 - accuracy: 1.0000\n",
            "Epoch 53/500\n",
            "9/9 [==============================] - 0s 672us/step - loss: 5.8807e-05 - accuracy: 1.0000\n",
            "Epoch 54/500\n",
            "9/9 [==============================] - 0s 883us/step - loss: 5.7456e-05 - accuracy: 1.0000\n",
            "Epoch 55/500\n",
            "9/9 [==============================] - 0s 1ms/step - loss: 5.6184e-05 - accuracy: 1.0000\n",
            "Epoch 56/500\n",
            "9/9 [==============================] - 0s 932us/step - loss: 5.5059e-05 - accuracy: 1.0000\n",
            "Epoch 57/500\n",
            "9/9 [==============================] - 0s 870us/step - loss: 5.3972e-05 - accuracy: 1.0000\n",
            "Epoch 58/500\n",
            "9/9 [==============================] - 0s 887us/step - loss: 5.2992e-05 - accuracy: 1.0000\n",
            "Epoch 59/500\n",
            "9/9 [==============================] - 0s 764us/step - loss: 5.2065e-05 - accuracy: 1.0000\n",
            "Epoch 60/500\n",
            "9/9 [==============================] - 0s 897us/step - loss: 5.1204e-05 - accuracy: 1.0000\n",
            "Epoch 61/500\n",
            "9/9 [==============================] - 0s 2ms/step - loss: 5.0343e-05 - accuracy: 1.0000\n",
            "Epoch 62/500\n",
            "9/9 [==============================] - 0s 1ms/step - loss: 4.9615e-05 - accuracy: 1.0000\n",
            "Epoch 63/500\n",
            "9/9 [==============================] - 0s 1ms/step - loss: 4.8900e-05 - accuracy: 1.0000\n",
            "Epoch 64/500\n",
            "9/9 [==============================] - 0s 1ms/step - loss: 4.8171e-05 - accuracy: 1.0000\n",
            "Epoch 65/500\n",
            "9/9 [==============================] - 0s 1ms/step - loss: 4.7509e-05 - accuracy: 1.0000\n",
            "Epoch 66/500\n",
            "9/9 [==============================] - 0s 1ms/step - loss: 4.6887e-05 - accuracy: 1.0000\n",
            "Epoch 67/500\n",
            "9/9 [==============================] - 0s 843us/step - loss: 4.6277e-05 - accuracy: 1.0000\n",
            "Epoch 68/500\n",
            "9/9 [==============================] - 0s 844us/step - loss: 4.5681e-05 - accuracy: 1.0000\n",
            "Epoch 69/500\n",
            "9/9 [==============================] - 0s 832us/step - loss: 4.5152e-05 - accuracy: 1.0000\n",
            "Epoch 70/500\n",
            "9/9 [==============================] - 0s 1ms/step - loss: 4.4569e-05 - accuracy: 1.0000\n",
            "Epoch 71/500\n",
            "9/9 [==============================] - 0s 1ms/step - loss: 4.4052e-05 - accuracy: 1.0000\n",
            "Epoch 72/500\n",
            "9/9 [==============================] - 0s 1ms/step - loss: 4.3536e-05 - accuracy: 1.0000\n",
            "Epoch 73/500\n",
            "9/9 [==============================] - 0s 1ms/step - loss: 4.3085e-05 - accuracy: 1.0000\n",
            "Epoch 74/500\n",
            "9/9 [==============================] - 0s 1ms/step - loss: 4.2635e-05 - accuracy: 1.0000\n",
            "Epoch 75/500\n",
            "9/9 [==============================] - 0s 1ms/step - loss: 4.2172e-05 - accuracy: 1.0000\n",
            "Epoch 76/500\n",
            "9/9 [==============================] - 0s 682us/step - loss: 4.1708e-05 - accuracy: 1.0000\n",
            "Epoch 77/500\n",
            "9/9 [==============================] - 0s 804us/step - loss: 4.1311e-05 - accuracy: 1.0000\n",
            "Epoch 78/500\n",
            "9/9 [==============================] - 0s 1ms/step - loss: 4.0874e-05 - accuracy: 1.0000\n",
            "Epoch 79/500\n",
            "9/9 [==============================] - 0s 1ms/step - loss: 4.0437e-05 - accuracy: 1.0000\n",
            "Epoch 80/500\n",
            "9/9 [==============================] - 0s 1ms/step - loss: 4.0079e-05 - accuracy: 1.0000\n",
            "Epoch 81/500\n",
            "9/9 [==============================] - 0s 1ms/step - loss: 3.9695e-05 - accuracy: 1.0000\n",
            "Epoch 82/500\n",
            "9/9 [==============================] - 0s 1ms/step - loss: 3.9298e-05 - accuracy: 1.0000\n",
            "Epoch 83/500\n",
            "9/9 [==============================] - 0s 933us/step - loss: 3.8927e-05 - accuracy: 1.0000\n",
            "Epoch 84/500\n",
            "9/9 [==============================] - 0s 1ms/step - loss: 3.8582e-05 - accuracy: 1.0000\n",
            "Epoch 85/500\n",
            "9/9 [==============================] - 0s 1ms/step - loss: 3.8158e-05 - accuracy: 1.0000\n",
            "Epoch 86/500\n",
            "9/9 [==============================] - 0s 1ms/step - loss: 3.7774e-05 - accuracy: 1.0000\n",
            "Epoch 87/500\n",
            "9/9 [==============================] - 0s 1ms/step - loss: 3.7443e-05 - accuracy: 1.0000\n",
            "Epoch 88/500\n",
            "9/9 [==============================] - 0s 963us/step - loss: 3.7112e-05 - accuracy: 1.0000\n",
            "Epoch 89/500\n",
            "9/9 [==============================] - 0s 992us/step - loss: 3.6781e-05 - accuracy: 1.0000\n",
            "Epoch 90/500\n",
            "9/9 [==============================] - 0s 1ms/step - loss: 3.6516e-05 - accuracy: 1.0000\n",
            "Epoch 91/500\n",
            "9/9 [==============================] - 0s 543us/step - loss: 3.6132e-05 - accuracy: 1.0000\n",
            "Epoch 92/500\n",
            "9/9 [==============================] - 0s 1ms/step - loss: 3.5827e-05 - accuracy: 1.0000\n",
            "Epoch 93/500\n",
            "9/9 [==============================] - 0s 1ms/step - loss: 3.5536e-05 - accuracy: 1.0000\n",
            "Epoch 94/500\n",
            "9/9 [==============================] - 0s 1ms/step - loss: 3.5192e-05 - accuracy: 1.0000\n",
            "Epoch 95/500\n",
            "9/9 [==============================] - 0s 1ms/step - loss: 3.4861e-05 - accuracy: 1.0000\n",
            "Epoch 96/500\n",
            "9/9 [==============================] - 0s 889us/step - loss: 3.4490e-05 - accuracy: 1.0000\n",
            "Epoch 97/500\n",
            "9/9 [==============================] - 0s 1ms/step - loss: 3.4198e-05 - accuracy: 1.0000\n",
            "Epoch 98/500\n",
            "9/9 [==============================] - 0s 1ms/step - loss: 3.3854e-05 - accuracy: 1.0000\n",
            "Epoch 99/500\n",
            "9/9 [==============================] - 0s 1ms/step - loss: 3.3523e-05 - accuracy: 1.0000\n",
            "Epoch 100/500\n",
            "9/9 [==============================] - 0s 931us/step - loss: 3.3258e-05 - accuracy: 1.0000\n",
            "Epoch 101/500\n",
            "9/9 [==============================] - 0s 747us/step - loss: 3.2993e-05 - accuracy: 1.0000\n",
            "Epoch 102/500\n",
            "9/9 [==============================] - 0s 739us/step - loss: 3.2689e-05 - accuracy: 1.0000\n",
            "Epoch 103/500\n",
            "9/9 [==============================] - 0s 1ms/step - loss: 3.2344e-05 - accuracy: 1.0000\n",
            "Epoch 104/500\n",
            "9/9 [==============================] - 0s 1ms/step - loss: 3.2093e-05 - accuracy: 1.0000\n",
            "Epoch 105/500\n",
            "9/9 [==============================] - 0s 836us/step - loss: 3.1788e-05 - accuracy: 1.0000\n",
            "Epoch 106/500\n",
            "9/9 [==============================] - 0s 785us/step - loss: 3.1510e-05 - accuracy: 1.0000\n",
            "Epoch 107/500\n",
            "9/9 [==============================] - 0s 1ms/step - loss: 3.1179e-05 - accuracy: 1.0000\n",
            "Epoch 108/500\n",
            "9/9 [==============================] - 0s 1ms/step - loss: 3.0914e-05 - accuracy: 1.0000\n",
            "Epoch 109/500\n",
            "9/9 [==============================] - 0s 981us/step - loss: 3.0622e-05 - accuracy: 1.0000\n",
            "Epoch 110/500\n",
            "9/9 [==============================] - 0s 1ms/step - loss: 3.0357e-05 - accuracy: 1.0000\n",
            "Epoch 111/500\n",
            "9/9 [==============================] - 0s 939us/step - loss: 3.0093e-05 - accuracy: 1.0000\n",
            "Epoch 112/500\n",
            "9/9 [==============================] - 0s 1ms/step - loss: 2.9801e-05 - accuracy: 1.0000\n",
            "Epoch 113/500\n",
            "9/9 [==============================] - 0s 971us/step - loss: 2.9550e-05 - accuracy: 1.0000\n",
            "Epoch 114/500\n",
            "9/9 [==============================] - 0s 764us/step - loss: 2.9285e-05 - accuracy: 1.0000\n",
            "Epoch 115/500\n",
            "9/9 [==============================] - 0s 1ms/step - loss: 2.9007e-05 - accuracy: 1.0000\n",
            "Epoch 116/500\n",
            "9/9 [==============================] - 0s 1ms/step - loss: 2.8755e-05 - accuracy: 1.0000\n",
            "Epoch 117/500\n",
            "9/9 [==============================] - 0s 1ms/step - loss: 2.8477e-05 - accuracy: 1.0000\n",
            "Epoch 118/500\n",
            "9/9 [==============================] - 0s 1ms/step - loss: 2.8238e-05 - accuracy: 1.0000\n",
            "Epoch 119/500\n",
            "9/9 [==============================] - 0s 1ms/step - loss: 2.7987e-05 - accuracy: 1.0000\n",
            "Epoch 120/500\n",
            "9/9 [==============================] - 0s 1ms/step - loss: 2.7735e-05 - accuracy: 1.0000\n",
            "Epoch 121/500\n",
            "9/9 [==============================] - 0s 1ms/step - loss: 2.7536e-05 - accuracy: 1.0000\n",
            "Epoch 122/500\n",
            "9/9 [==============================] - 0s 1ms/step - loss: 2.7285e-05 - accuracy: 1.0000\n",
            "Epoch 123/500\n",
            "9/9 [==============================] - 0s 929us/step - loss: 2.7020e-05 - accuracy: 1.0000\n",
            "Epoch 124/500\n",
            "9/9 [==============================] - 0s 1ms/step - loss: 2.6834e-05 - accuracy: 1.0000\n",
            "Epoch 125/500\n",
            "9/9 [==============================] - 0s 962us/step - loss: 2.6583e-05 - accuracy: 1.0000\n",
            "Epoch 126/500\n",
            "9/9 [==============================] - 0s 943us/step - loss: 2.6344e-05 - accuracy: 1.0000\n",
            "Epoch 127/500\n",
            "9/9 [==============================] - 0s 950us/step - loss: 2.6159e-05 - accuracy: 1.0000\n",
            "Epoch 128/500\n",
            "9/9 [==============================] - 0s 876us/step - loss: 2.5934e-05 - accuracy: 1.0000\n",
            "Epoch 129/500\n",
            "9/9 [==============================] - 0s 992us/step - loss: 2.5709e-05 - accuracy: 1.0000\n",
            "Epoch 130/500\n",
            "9/9 [==============================] - 0s 1ms/step - loss: 2.5497e-05 - accuracy: 1.0000\n",
            "Epoch 131/500\n",
            "9/9 [==============================] - 0s 1ms/step - loss: 2.5285e-05 - accuracy: 1.0000\n",
            "Epoch 132/500\n",
            "9/9 [==============================] - 0s 939us/step - loss: 2.5086e-05 - accuracy: 1.0000\n",
            "Epoch 133/500\n",
            "9/9 [==============================] - 0s 2ms/step - loss: 2.4874e-05 - accuracy: 1.0000\n",
            "Epoch 134/500\n",
            "9/9 [==============================] - 0s 934us/step - loss: 2.4662e-05 - accuracy: 1.0000\n",
            "Epoch 135/500\n",
            "9/9 [==============================] - 0s 1ms/step - loss: 2.4517e-05 - accuracy: 1.0000\n",
            "Epoch 136/500\n",
            "9/9 [==============================] - 0s 1ms/step - loss: 2.4278e-05 - accuracy: 1.0000\n",
            "Epoch 137/500\n",
            "9/9 [==============================] - 0s 1ms/step - loss: 2.4040e-05 - accuracy: 1.0000\n",
            "Epoch 138/500\n",
            "9/9 [==============================] - 0s 1ms/step - loss: 2.3881e-05 - accuracy: 1.0000\n",
            "Epoch 139/500\n",
            "9/9 [==============================] - 0s 1ms/step - loss: 2.3722e-05 - accuracy: 1.0000\n",
            "Epoch 140/500\n",
            "9/9 [==============================] - 0s 1ms/step - loss: 2.3523e-05 - accuracy: 1.0000\n",
            "Epoch 141/500\n",
            "9/9 [==============================] - 0s 679us/step - loss: 2.3364e-05 - accuracy: 1.0000\n",
            "Epoch 142/500\n",
            "9/9 [==============================] - 0s 1ms/step - loss: 2.3192e-05 - accuracy: 1.0000\n",
            "Epoch 143/500\n",
            "9/9 [==============================] - 0s 1ms/step - loss: 2.3007e-05 - accuracy: 1.0000\n",
            "Epoch 144/500\n",
            "9/9 [==============================] - 0s 982us/step - loss: 2.2795e-05 - accuracy: 1.0000\n",
            "Epoch 145/500\n",
            "9/9 [==============================] - 0s 890us/step - loss: 2.2609e-05 - accuracy: 1.0000\n",
            "Epoch 146/500\n",
            "9/9 [==============================] - 0s 1ms/step - loss: 2.2424e-05 - accuracy: 1.0000\n",
            "Epoch 147/500\n",
            "9/9 [==============================] - 0s 963us/step - loss: 2.2252e-05 - accuracy: 1.0000\n",
            "Epoch 148/500\n",
            "9/9 [==============================] - 0s 892us/step - loss: 2.2106e-05 - accuracy: 1.0000\n",
            "Epoch 149/500\n",
            "9/9 [==============================] - 0s 1ms/step - loss: 2.1894e-05 - accuracy: 1.0000\n",
            "Epoch 150/500\n",
            "9/9 [==============================] - 0s 2ms/step - loss: 2.1735e-05 - accuracy: 1.0000\n",
            "Epoch 151/500\n",
            "9/9 [==============================] - 0s 779us/step - loss: 2.1537e-05 - accuracy: 1.0000\n",
            "Epoch 152/500\n",
            "9/9 [==============================] - 0s 1ms/step - loss: 2.1391e-05 - accuracy: 1.0000\n",
            "Epoch 153/500\n",
            "9/9 [==============================] - 0s 1ms/step - loss: 2.1245e-05 - accuracy: 1.0000\n",
            "Epoch 154/500\n",
            "9/9 [==============================] - 0s 973us/step - loss: 2.1060e-05 - accuracy: 1.0000\n",
            "Epoch 155/500\n",
            "9/9 [==============================] - 0s 1ms/step - loss: 2.0941e-05 - accuracy: 1.0000\n",
            "Epoch 156/500\n",
            "9/9 [==============================] - 0s 1ms/step - loss: 2.0768e-05 - accuracy: 1.0000\n",
            "Epoch 157/500\n",
            "9/9 [==============================] - 0s 1ms/step - loss: 2.0596e-05 - accuracy: 1.0000\n",
            "Epoch 158/500\n",
            "9/9 [==============================] - 0s 1ms/step - loss: 2.0477e-05 - accuracy: 1.0000\n",
            "Epoch 159/500\n",
            "9/9 [==============================] - 0s 594us/step - loss: 2.0318e-05 - accuracy: 1.0000\n",
            "Epoch 160/500\n",
            "9/9 [==============================] - 0s 863us/step - loss: 2.0186e-05 - accuracy: 1.0000\n",
            "Epoch 161/500\n",
            "9/9 [==============================] - 0s 798us/step - loss: 1.9987e-05 - accuracy: 1.0000\n",
            "Epoch 162/500\n",
            "9/9 [==============================] - 0s 683us/step - loss: 1.9881e-05 - accuracy: 1.0000\n",
            "Epoch 163/500\n",
            "9/9 [==============================] - 0s 688us/step - loss: 1.9696e-05 - accuracy: 1.0000\n",
            "Epoch 164/500\n",
            "9/9 [==============================] - 0s 726us/step - loss: 1.9576e-05 - accuracy: 1.0000\n",
            "Epoch 165/500\n",
            "9/9 [==============================] - 0s 786us/step - loss: 1.9470e-05 - accuracy: 1.0000\n",
            "Epoch 166/500\n",
            "9/9 [==============================] - 0s 812us/step - loss: 1.9285e-05 - accuracy: 1.0000\n",
            "Epoch 167/500\n",
            "9/9 [==============================] - 0s 748us/step - loss: 1.9152e-05 - accuracy: 1.0000\n",
            "Epoch 168/500\n",
            "9/9 [==============================] - 0s 877us/step - loss: 1.9047e-05 - accuracy: 1.0000\n",
            "Epoch 169/500\n",
            "9/9 [==============================] - 0s 989us/step - loss: 1.8874e-05 - accuracy: 1.0000\n",
            "Epoch 170/500\n",
            "9/9 [==============================] - 0s 969us/step - loss: 1.8755e-05 - accuracy: 1.0000\n",
            "Epoch 171/500\n",
            "9/9 [==============================] - 0s 761us/step - loss: 1.8623e-05 - accuracy: 1.0000\n",
            "Epoch 172/500\n",
            "9/9 [==============================] - 0s 715us/step - loss: 1.8503e-05 - accuracy: 1.0000\n",
            "Epoch 173/500\n",
            "9/9 [==============================] - 0s 745us/step - loss: 1.8345e-05 - accuracy: 1.0000\n",
            "Epoch 174/500\n",
            "9/9 [==============================] - 0s 994us/step - loss: 1.8239e-05 - accuracy: 1.0000\n",
            "Epoch 175/500\n",
            "9/9 [==============================] - 0s 1ms/step - loss: 1.8106e-05 - accuracy: 1.0000\n",
            "Epoch 176/500\n",
            "9/9 [==============================] - 0s 691us/step - loss: 1.8000e-05 - accuracy: 1.0000\n",
            "Epoch 177/500\n",
            "9/9 [==============================] - 0s 636us/step - loss: 1.7854e-05 - accuracy: 1.0000\n",
            "Epoch 178/500\n",
            "9/9 [==============================] - 0s 747us/step - loss: 1.7762e-05 - accuracy: 1.0000\n",
            "Epoch 179/500\n",
            "9/9 [==============================] - 0s 728us/step - loss: 1.7616e-05 - accuracy: 1.0000\n",
            "Epoch 180/500\n",
            "9/9 [==============================] - 0s 2ms/step - loss: 1.7523e-05 - accuracy: 1.0000\n",
            "Epoch 181/500\n",
            "9/9 [==============================] - 0s 1ms/step - loss: 1.7431e-05 - accuracy: 1.0000\n",
            "Epoch 182/500\n",
            "9/9 [==============================] - 0s 854us/step - loss: 1.7298e-05 - accuracy: 1.0000\n",
            "Epoch 183/500\n",
            "9/9 [==============================] - 0s 887us/step - loss: 1.7166e-05 - accuracy: 1.0000\n",
            "Epoch 184/500\n",
            "9/9 [==============================] - 0s 1ms/step - loss: 1.7073e-05 - accuracy: 1.0000\n",
            "Epoch 185/500\n",
            "9/9 [==============================] - 0s 1ms/step - loss: 1.6901e-05 - accuracy: 1.0000\n",
            "Epoch 186/500\n",
            "9/9 [==============================] - 0s 648us/step - loss: 1.6808e-05 - accuracy: 1.0000\n",
            "Epoch 187/500\n",
            "9/9 [==============================] - 0s 730us/step - loss: 1.6715e-05 - accuracy: 1.0000\n",
            "Epoch 188/500\n",
            "9/9 [==============================] - 0s 937us/step - loss: 1.6596e-05 - accuracy: 1.0000\n",
            "Epoch 189/500\n",
            "9/9 [==============================] - 0s 1ms/step - loss: 1.6490e-05 - accuracy: 1.0000\n",
            "Epoch 190/500\n",
            "9/9 [==============================] - 0s 992us/step - loss: 1.6398e-05 - accuracy: 1.0000\n",
            "Epoch 191/500\n",
            "9/9 [==============================] - 0s 961us/step - loss: 1.6278e-05 - accuracy: 1.0000\n",
            "Epoch 192/500\n",
            "9/9 [==============================] - 0s 1ms/step - loss: 1.6172e-05 - accuracy: 1.0000\n",
            "Epoch 193/500\n",
            "9/9 [==============================] - 0s 943us/step - loss: 1.6080e-05 - accuracy: 1.0000\n",
            "Epoch 194/500\n",
            "9/9 [==============================] - 0s 719us/step - loss: 1.5947e-05 - accuracy: 1.0000\n",
            "Epoch 195/500\n",
            "9/9 [==============================] - 0s 949us/step - loss: 1.5855e-05 - accuracy: 1.0000\n",
            "Epoch 196/500\n",
            "9/9 [==============================] - 0s 596us/step - loss: 1.5762e-05 - accuracy: 1.0000\n",
            "Epoch 197/500\n",
            "9/9 [==============================] - 0s 714us/step - loss: 1.5643e-05 - accuracy: 1.0000\n",
            "Epoch 198/500\n",
            "9/9 [==============================] - 0s 1ms/step - loss: 1.5563e-05 - accuracy: 1.0000\n",
            "Epoch 199/500\n",
            "9/9 [==============================] - 0s 1ms/step - loss: 1.5457e-05 - accuracy: 1.0000\n",
            "Epoch 200/500\n",
            "9/9 [==============================] - 0s 1ms/step - loss: 1.5351e-05 - accuracy: 1.0000\n",
            "Epoch 201/500\n",
            "9/9 [==============================] - 0s 1ms/step - loss: 1.5272e-05 - accuracy: 1.0000\n",
            "Epoch 202/500\n",
            "9/9 [==============================] - 0s 756us/step - loss: 1.5219e-05 - accuracy: 1.0000\n",
            "Epoch 203/500\n",
            "9/9 [==============================] - 0s 927us/step - loss: 1.5073e-05 - accuracy: 1.0000\n",
            "Epoch 204/500\n",
            "9/9 [==============================] - 0s 853us/step - loss: 1.4980e-05 - accuracy: 1.0000\n",
            "Epoch 205/500\n",
            "9/9 [==============================] - 0s 939us/step - loss: 1.4888e-05 - accuracy: 1.0000\n",
            "Epoch 206/500\n",
            "9/9 [==============================] - 0s 689us/step - loss: 1.4808e-05 - accuracy: 1.0000\n",
            "Epoch 207/500\n",
            "9/9 [==============================] - 0s 677us/step - loss: 1.4689e-05 - accuracy: 1.0000\n",
            "Epoch 208/500\n",
            "9/9 [==============================] - 0s 967us/step - loss: 1.4609e-05 - accuracy: 1.0000\n",
            "Epoch 209/500\n",
            "9/9 [==============================] - 0s 1ms/step - loss: 1.4557e-05 - accuracy: 1.0000\n",
            "Epoch 210/500\n",
            "9/9 [==============================] - 0s 1ms/step - loss: 1.4451e-05 - accuracy: 1.0000\n",
            "Epoch 211/500\n",
            "9/9 [==============================] - 0s 990us/step - loss: 1.4371e-05 - accuracy: 1.0000\n",
            "Epoch 212/500\n",
            "9/9 [==============================] - 0s 1ms/step - loss: 1.4278e-05 - accuracy: 1.0000\n",
            "Epoch 213/500\n",
            "9/9 [==============================] - 0s 806us/step - loss: 1.4199e-05 - accuracy: 1.0000\n",
            "Epoch 214/500\n",
            "9/9 [==============================] - 0s 688us/step - loss: 1.4080e-05 - accuracy: 1.0000\n",
            "Epoch 215/500\n",
            "9/9 [==============================] - 0s 736us/step - loss: 1.4013e-05 - accuracy: 1.0000\n",
            "Epoch 216/500\n",
            "9/9 [==============================] - 0s 898us/step - loss: 1.3934e-05 - accuracy: 1.0000\n",
            "Epoch 217/500\n",
            "9/9 [==============================] - 0s 1ms/step - loss: 1.3841e-05 - accuracy: 1.0000\n",
            "Epoch 218/500\n",
            "9/9 [==============================] - 0s 964us/step - loss: 1.3762e-05 - accuracy: 1.0000\n",
            "Epoch 219/500\n",
            "9/9 [==============================] - 0s 961us/step - loss: 1.3669e-05 - accuracy: 1.0000\n",
            "Epoch 220/500\n",
            "9/9 [==============================] - 0s 924us/step - loss: 1.3629e-05 - accuracy: 1.0000\n",
            "Epoch 221/500\n",
            "9/9 [==============================] - 0s 994us/step - loss: 1.3523e-05 - accuracy: 1.0000\n",
            "Epoch 222/500\n",
            "9/9 [==============================] - 0s 1ms/step - loss: 1.3444e-05 - accuracy: 1.0000\n",
            "Epoch 223/500\n",
            "9/9 [==============================] - 0s 1ms/step - loss: 1.3404e-05 - accuracy: 1.0000\n",
            "Epoch 224/500\n",
            "9/9 [==============================] - 0s 1ms/step - loss: 1.3298e-05 - accuracy: 1.0000\n",
            "Epoch 225/500\n",
            "9/9 [==============================] - 0s 1ms/step - loss: 1.3206e-05 - accuracy: 1.0000\n",
            "Epoch 226/500\n",
            "9/9 [==============================] - 0s 925us/step - loss: 1.3126e-05 - accuracy: 1.0000\n",
            "Epoch 227/500\n",
            "9/9 [==============================] - 0s 876us/step - loss: 1.3073e-05 - accuracy: 1.0000\n",
            "Epoch 228/500\n",
            "9/9 [==============================] - 0s 995us/step - loss: 1.2967e-05 - accuracy: 1.0000\n",
            "Epoch 229/500\n",
            "9/9 [==============================] - 0s 803us/step - loss: 1.2888e-05 - accuracy: 1.0000\n",
            "Epoch 230/500\n",
            "9/9 [==============================] - 0s 1ms/step - loss: 1.2848e-05 - accuracy: 1.0000\n",
            "Epoch 231/500\n",
            "9/9 [==============================] - 0s 761us/step - loss: 1.2729e-05 - accuracy: 1.0000\n",
            "Epoch 232/500\n",
            "9/9 [==============================] - 0s 1ms/step - loss: 1.2662e-05 - accuracy: 1.0000\n",
            "Epoch 233/500\n",
            "9/9 [==============================] - 0s 1ms/step - loss: 1.2623e-05 - accuracy: 1.0000\n",
            "Epoch 234/500\n",
            "9/9 [==============================] - 0s 766us/step - loss: 1.2557e-05 - accuracy: 1.0000\n",
            "Epoch 235/500\n",
            "9/9 [==============================] - 0s 764us/step - loss: 1.2437e-05 - accuracy: 1.0000\n",
            "Epoch 236/500\n",
            "9/9 [==============================] - 0s 843us/step - loss: 1.2371e-05 - accuracy: 1.0000\n",
            "Epoch 237/500\n",
            "9/9 [==============================] - 0s 617us/step - loss: 1.2331e-05 - accuracy: 1.0000\n",
            "Epoch 238/500\n",
            "9/9 [==============================] - 0s 741us/step - loss: 1.2265e-05 - accuracy: 1.0000\n",
            "Epoch 239/500\n",
            "9/9 [==============================] - 0s 1ms/step - loss: 1.2199e-05 - accuracy: 1.0000\n",
            "Epoch 240/500\n",
            "9/9 [==============================] - 0s 794us/step - loss: 1.2106e-05 - accuracy: 1.0000\n",
            "Epoch 241/500\n",
            "9/9 [==============================] - 0s 1ms/step - loss: 1.2013e-05 - accuracy: 1.0000\n",
            "Epoch 242/500\n",
            "9/9 [==============================] - 0s 2ms/step - loss: 1.1987e-05 - accuracy: 1.0000\n",
            "Epoch 243/500\n",
            "9/9 [==============================] - 0s 880us/step - loss: 1.1894e-05 - accuracy: 1.0000\n",
            "Epoch 244/500\n",
            "9/9 [==============================] - 0s 769us/step - loss: 1.1855e-05 - accuracy: 1.0000\n",
            "Epoch 245/500\n",
            "9/9 [==============================] - 0s 582us/step - loss: 1.1788e-05 - accuracy: 1.0000\n",
            "Epoch 246/500\n",
            "9/9 [==============================] - 0s 622us/step - loss: 1.1696e-05 - accuracy: 1.0000\n",
            "Epoch 247/500\n",
            "9/9 [==============================] - 0s 569us/step - loss: 1.1643e-05 - accuracy: 1.0000\n",
            "Epoch 248/500\n",
            "9/9 [==============================] - 0s 617us/step - loss: 1.1576e-05 - accuracy: 1.0000\n",
            "Epoch 249/500\n",
            "9/9 [==============================] - 0s 581us/step - loss: 1.1550e-05 - accuracy: 1.0000\n",
            "Epoch 250/500\n",
            "9/9 [==============================] - 0s 607us/step - loss: 1.1457e-05 - accuracy: 1.0000\n",
            "Epoch 251/500\n",
            "9/9 [==============================] - 0s 690us/step - loss: 1.1391e-05 - accuracy: 1.0000\n",
            "Epoch 252/500\n",
            "9/9 [==============================] - 0s 834us/step - loss: 1.1351e-05 - accuracy: 1.0000\n",
            "Epoch 253/500\n",
            "9/9 [==============================] - 0s 942us/step - loss: 1.1285e-05 - accuracy: 1.0000\n",
            "Epoch 254/500\n",
            "9/9 [==============================] - 0s 1ms/step - loss: 1.1206e-05 - accuracy: 1.0000\n",
            "Epoch 255/500\n",
            "9/9 [==============================] - 0s 1ms/step - loss: 1.1139e-05 - accuracy: 1.0000\n",
            "Epoch 256/500\n",
            "9/9 [==============================] - 0s 1ms/step - loss: 1.1113e-05 - accuracy: 1.0000\n",
            "Epoch 257/500\n",
            "9/9 [==============================] - 0s 1ms/step - loss: 1.1033e-05 - accuracy: 1.0000\n",
            "Epoch 258/500\n",
            "9/9 [==============================] - 0s 738us/step - loss: 1.0967e-05 - accuracy: 1.0000\n",
            "Epoch 259/500\n",
            "9/9 [==============================] - 0s 919us/step - loss: 1.0901e-05 - accuracy: 1.0000\n",
            "Epoch 260/500\n",
            "9/9 [==============================] - 0s 784us/step - loss: 1.0874e-05 - accuracy: 1.0000\n",
            "Epoch 261/500\n",
            "9/9 [==============================] - 0s 777us/step - loss: 1.0808e-05 - accuracy: 1.0000\n",
            "Epoch 262/500\n",
            "9/9 [==============================] - 0s 1ms/step - loss: 1.0715e-05 - accuracy: 1.0000\n",
            "Epoch 263/500\n",
            "9/9 [==============================] - 0s 1ms/step - loss: 1.0689e-05 - accuracy: 1.0000\n",
            "Epoch 264/500\n",
            "9/9 [==============================] - 0s 1ms/step - loss: 1.0609e-05 - accuracy: 1.0000\n",
            "Epoch 265/500\n",
            "9/9 [==============================] - 0s 2ms/step - loss: 1.0583e-05 - accuracy: 1.0000\n",
            "Epoch 266/500\n",
            "9/9 [==============================] - 0s 743us/step - loss: 1.0517e-05 - accuracy: 1.0000\n",
            "Epoch 267/500\n",
            "9/9 [==============================] - 0s 932us/step - loss: 1.0477e-05 - accuracy: 1.0000\n",
            "Epoch 268/500\n",
            "9/9 [==============================] - 0s 872us/step - loss: 1.0411e-05 - accuracy: 1.0000\n",
            "Epoch 269/500\n",
            "9/9 [==============================] - 0s 1ms/step - loss: 1.0358e-05 - accuracy: 1.0000\n",
            "Epoch 270/500\n",
            "9/9 [==============================] - 0s 1ms/step - loss: 1.0305e-05 - accuracy: 1.0000\n",
            "Epoch 271/500\n",
            "9/9 [==============================] - 0s 934us/step - loss: 1.0292e-05 - accuracy: 1.0000\n",
            "Epoch 272/500\n",
            "9/9 [==============================] - 0s 622us/step - loss: 1.0186e-05 - accuracy: 1.0000\n",
            "Epoch 273/500\n",
            "9/9 [==============================] - 0s 812us/step - loss: 1.0172e-05 - accuracy: 1.0000\n",
            "Epoch 274/500\n",
            "9/9 [==============================] - 0s 990us/step - loss: 1.0119e-05 - accuracy: 1.0000\n",
            "Epoch 275/500\n",
            "9/9 [==============================] - 0s 994us/step - loss: 1.0080e-05 - accuracy: 1.0000\n",
            "Epoch 276/500\n",
            "9/9 [==============================] - 0s 952us/step - loss: 1.0000e-05 - accuracy: 1.0000\n",
            "Epoch 277/500\n",
            "9/9 [==============================] - 0s 931us/step - loss: 9.9870e-06 - accuracy: 1.0000\n",
            "Epoch 278/500\n",
            "9/9 [==============================] - 0s 987us/step - loss: 9.9340e-06 - accuracy: 1.0000\n",
            "Epoch 279/500\n",
            "9/9 [==============================] - 0s 1ms/step - loss: 9.8678e-06 - accuracy: 1.0000\n",
            "Epoch 280/500\n",
            "9/9 [==============================] - 0s 919us/step - loss: 9.8280e-06 - accuracy: 1.0000\n",
            "Epoch 281/500\n",
            "9/9 [==============================] - 0s 902us/step - loss: 9.7750e-06 - accuracy: 1.0000\n",
            "Epoch 282/500\n",
            "9/9 [==============================] - 0s 1ms/step - loss: 9.7618e-06 - accuracy: 1.0000\n",
            "Epoch 283/500\n",
            "9/9 [==============================] - 0s 1ms/step - loss: 9.6956e-06 - accuracy: 1.0000\n",
            "Epoch 284/500\n",
            "9/9 [==============================] - 0s 2ms/step - loss: 9.6426e-06 - accuracy: 1.0000\n",
            "Epoch 285/500\n",
            "9/9 [==============================] - 0s 1ms/step - loss: 9.5499e-06 - accuracy: 1.0000\n",
            "Epoch 286/500\n",
            "9/9 [==============================] - 0s 1ms/step - loss: 9.5234e-06 - accuracy: 1.0000\n",
            "Epoch 287/500\n",
            "9/9 [==============================] - 0s 936us/step - loss: 9.5101e-06 - accuracy: 1.0000\n",
            "Epoch 288/500\n",
            "9/9 [==============================] - 0s 964us/step - loss: 9.4307e-06 - accuracy: 1.0000\n",
            "Epoch 289/500\n",
            "9/9 [==============================] - 0s 938us/step - loss: 9.4174e-06 - accuracy: 1.0000\n",
            "Epoch 290/500\n",
            "9/9 [==============================] - 0s 944us/step - loss: 9.3512e-06 - accuracy: 1.0000\n",
            "Epoch 291/500\n",
            "9/9 [==============================] - 0s 978us/step - loss: 9.3380e-06 - accuracy: 1.0000\n",
            "Epoch 292/500\n",
            "9/9 [==============================] - 0s 977us/step - loss: 9.2717e-06 - accuracy: 1.0000\n",
            "Epoch 293/500\n",
            "9/9 [==============================] - 0s 849us/step - loss: 9.2320e-06 - accuracy: 1.0000\n",
            "Epoch 294/500\n",
            "9/9 [==============================] - 0s 973us/step - loss: 9.1658e-06 - accuracy: 1.0000\n",
            "Epoch 295/500\n",
            "9/9 [==============================] - 0s 949us/step - loss: 9.1525e-06 - accuracy: 1.0000\n",
            "Epoch 296/500\n",
            "9/9 [==============================] - 0s 858us/step - loss: 9.0995e-06 - accuracy: 1.0000\n",
            "Epoch 297/500\n",
            "9/9 [==============================] - 0s 799us/step - loss: 9.0863e-06 - accuracy: 1.0000\n",
            "Epoch 298/500\n",
            "9/9 [==============================] - 0s 869us/step - loss: 9.0333e-06 - accuracy: 1.0000\n",
            "Epoch 299/500\n",
            "9/9 [==============================] - 0s 1ms/step - loss: 8.9803e-06 - accuracy: 1.0000\n",
            "Epoch 300/500\n",
            "9/9 [==============================] - 0s 779us/step - loss: 8.9671e-06 - accuracy: 1.0000\n",
            "Epoch 301/500\n",
            "9/9 [==============================] - 0s 710us/step - loss: 8.9009e-06 - accuracy: 1.0000\n",
            "Epoch 302/500\n",
            "9/9 [==============================] - 0s 726us/step - loss: 8.8611e-06 - accuracy: 1.0000\n",
            "Epoch 303/500\n",
            "9/9 [==============================] - 0s 2ms/step - loss: 8.8214e-06 - accuracy: 1.0000\n",
            "Epoch 304/500\n",
            "9/9 [==============================] - 0s 1ms/step - loss: 8.7684e-06 - accuracy: 1.0000\n",
            "Epoch 305/500\n",
            "9/9 [==============================] - 0s 943us/step - loss: 8.7287e-06 - accuracy: 1.0000\n",
            "Epoch 306/500\n",
            "9/9 [==============================] - 0s 1ms/step - loss: 8.7154e-06 - accuracy: 1.0000\n",
            "Epoch 307/500\n",
            "9/9 [==============================] - 0s 810us/step - loss: 8.6360e-06 - accuracy: 1.0000\n",
            "Epoch 308/500\n",
            "9/9 [==============================] - 0s 753us/step - loss: 8.6227e-06 - accuracy: 1.0000\n",
            "Epoch 309/500\n",
            "9/9 [==============================] - 0s 726us/step - loss: 8.5565e-06 - accuracy: 1.0000\n",
            "Epoch 310/500\n",
            "9/9 [==============================] - 0s 881us/step - loss: 8.5432e-06 - accuracy: 1.0000\n",
            "Epoch 311/500\n",
            "9/9 [==============================] - 0s 726us/step - loss: 8.5300e-06 - accuracy: 1.0000\n",
            "Epoch 312/500\n",
            "9/9 [==============================] - 0s 954us/step - loss: 8.4505e-06 - accuracy: 1.0000\n",
            "Epoch 313/500\n",
            "9/9 [==============================] - 0s 881us/step - loss: 8.4373e-06 - accuracy: 1.0000\n",
            "Epoch 314/500\n",
            "9/9 [==============================] - 0s 998us/step - loss: 8.4240e-06 - accuracy: 1.0000\n",
            "Epoch 315/500\n",
            "9/9 [==============================] - 0s 781us/step - loss: 8.3711e-06 - accuracy: 1.0000\n",
            "Epoch 316/500\n",
            "9/9 [==============================] - 0s 700us/step - loss: 8.3446e-06 - accuracy: 1.0000\n",
            "Epoch 317/500\n",
            "9/9 [==============================] - 0s 1ms/step - loss: 8.3048e-06 - accuracy: 1.0000\n",
            "Epoch 318/500\n",
            "9/9 [==============================] - 0s 1ms/step - loss: 8.2386e-06 - accuracy: 1.0000\n",
            "Epoch 319/500\n",
            "9/9 [==============================] - 0s 1ms/step - loss: 8.1856e-06 - accuracy: 1.0000\n",
            "Epoch 320/500\n",
            "9/9 [==============================] - 0s 943us/step - loss: 8.1724e-06 - accuracy: 1.0000\n",
            "Epoch 321/500\n",
            "9/9 [==============================] - 0s 1ms/step - loss: 8.1326e-06 - accuracy: 1.0000\n",
            "Epoch 322/500\n",
            "9/9 [==============================] - 0s 1ms/step - loss: 8.0797e-06 - accuracy: 1.0000\n",
            "Epoch 323/500\n",
            "9/9 [==============================] - 0s 1ms/step - loss: 8.0399e-06 - accuracy: 1.0000\n",
            "Epoch 324/500\n",
            "9/9 [==============================] - 0s 622us/step - loss: 7.9869e-06 - accuracy: 1.0000\n",
            "Epoch 325/500\n",
            "9/9 [==============================] - 0s 662us/step - loss: 7.9737e-06 - accuracy: 1.0000\n",
            "Epoch 326/500\n",
            "9/9 [==============================] - 0s 904us/step - loss: 7.9604e-06 - accuracy: 1.0000\n",
            "Epoch 327/500\n",
            "9/9 [==============================] - 0s 945us/step - loss: 7.8677e-06 - accuracy: 1.0000\n",
            "Epoch 328/500\n",
            "9/9 [==============================] - 0s 590us/step - loss: 7.8545e-06 - accuracy: 1.0000\n",
            "Epoch 329/500\n",
            "9/9 [==============================] - 0s 771us/step - loss: 7.8412e-06 - accuracy: 1.0000\n",
            "Epoch 330/500\n",
            "9/9 [==============================] - 0s 1ms/step - loss: 7.7883e-06 - accuracy: 1.0000\n",
            "Epoch 331/500\n",
            "9/9 [==============================] - 0s 824us/step - loss: 7.7750e-06 - accuracy: 1.0000\n",
            "Epoch 332/500\n",
            "9/9 [==============================] - 0s 754us/step - loss: 7.7220e-06 - accuracy: 1.0000\n",
            "Epoch 333/500\n",
            "9/9 [==============================] - 0s 636us/step - loss: 7.7088e-06 - accuracy: 1.0000\n",
            "Epoch 334/500\n",
            "9/9 [==============================] - 0s 924us/step - loss: 7.6558e-06 - accuracy: 1.0000\n",
            "Epoch 335/500\n",
            "9/9 [==============================] - 0s 943us/step - loss: 7.6558e-06 - accuracy: 1.0000\n",
            "Epoch 336/500\n",
            "9/9 [==============================] - 0s 1ms/step - loss: 7.6293e-06 - accuracy: 1.0000\n",
            "Epoch 337/500\n",
            "9/9 [==============================] - 0s 986us/step - loss: 7.5896e-06 - accuracy: 1.0000\n",
            "Epoch 338/500\n",
            "9/9 [==============================] - 0s 575us/step - loss: 7.5366e-06 - accuracy: 1.0000\n",
            "Epoch 339/500\n",
            "9/9 [==============================] - 0s 798us/step - loss: 7.5234e-06 - accuracy: 1.0000\n",
            "Epoch 340/500\n",
            "9/9 [==============================] - 0s 761us/step - loss: 7.5101e-06 - accuracy: 1.0000\n",
            "Epoch 341/500\n",
            "9/9 [==============================] - 0s 674us/step - loss: 7.4439e-06 - accuracy: 1.0000\n",
            "Epoch 342/500\n",
            "9/9 [==============================] - 0s 850us/step - loss: 7.4306e-06 - accuracy: 1.0000\n",
            "Epoch 343/500\n",
            "9/9 [==============================] - 0s 884us/step - loss: 7.3909e-06 - accuracy: 1.0000\n",
            "Epoch 344/500\n",
            "9/9 [==============================] - 0s 938us/step - loss: 7.3644e-06 - accuracy: 1.0000\n",
            "Epoch 345/500\n",
            "9/9 [==============================] - 0s 1ms/step - loss: 7.3114e-06 - accuracy: 1.0000\n",
            "Epoch 346/500\n",
            "9/9 [==============================] - 0s 691us/step - loss: 7.2849e-06 - accuracy: 1.0000\n",
            "Epoch 347/500\n",
            "9/9 [==============================] - 0s 1ms/step - loss: 7.2717e-06 - accuracy: 1.0000\n",
            "Epoch 348/500\n",
            "9/9 [==============================] - 0s 775us/step - loss: 7.2320e-06 - accuracy: 1.0000\n",
            "Epoch 349/500\n",
            "9/9 [==============================] - 0s 708us/step - loss: 7.1790e-06 - accuracy: 1.0000\n",
            "Epoch 350/500\n",
            "9/9 [==============================] - 0s 1ms/step - loss: 7.1790e-06 - accuracy: 1.0000\n",
            "Epoch 351/500\n",
            "9/9 [==============================] - 0s 1ms/step - loss: 7.1525e-06 - accuracy: 1.0000\n",
            "Epoch 352/500\n",
            "9/9 [==============================] - 0s 1ms/step - loss: 7.1392e-06 - accuracy: 1.0000\n",
            "Epoch 353/500\n",
            "9/9 [==============================] - 0s 951us/step - loss: 7.0863e-06 - accuracy: 1.0000\n",
            "Epoch 354/500\n",
            "9/9 [==============================] - 0s 1ms/step - loss: 7.0465e-06 - accuracy: 1.0000\n",
            "Epoch 355/500\n",
            "9/9 [==============================] - 0s 565us/step - loss: 7.0333e-06 - accuracy: 1.0000\n",
            "Epoch 356/500\n",
            "9/9 [==============================] - 0s 872us/step - loss: 7.0200e-06 - accuracy: 1.0000\n",
            "Epoch 357/500\n",
            "9/9 [==============================] - 0s 776us/step - loss: 6.9671e-06 - accuracy: 1.0000\n",
            "Epoch 358/500\n",
            "9/9 [==============================] - 0s 963us/step - loss: 6.9538e-06 - accuracy: 1.0000\n",
            "Epoch 359/500\n",
            "9/9 [==============================] - 0s 963us/step - loss: 6.9406e-06 - accuracy: 1.0000\n",
            "Epoch 360/500\n",
            "9/9 [==============================] - 0s 691us/step - loss: 6.9008e-06 - accuracy: 1.0000\n",
            "Epoch 361/500\n",
            "9/9 [==============================] - 0s 733us/step - loss: 6.8876e-06 - accuracy: 1.0000\n",
            "Epoch 362/500\n",
            "9/9 [==============================] - 0s 1ms/step - loss: 6.8346e-06 - accuracy: 1.0000\n",
            "Epoch 363/500\n",
            "9/9 [==============================] - 0s 933us/step - loss: 6.8214e-06 - accuracy: 1.0000\n",
            "Epoch 364/500\n",
            "9/9 [==============================] - 0s 1ms/step - loss: 6.8081e-06 - accuracy: 1.0000\n",
            "Epoch 365/500\n",
            "9/9 [==============================] - 0s 1ms/step - loss: 6.7684e-06 - accuracy: 1.0000\n",
            "Epoch 366/500\n",
            "9/9 [==============================] - 0s 816us/step - loss: 6.7551e-06 - accuracy: 1.0000\n",
            "Epoch 367/500\n",
            "9/9 [==============================] - 0s 966us/step - loss: 6.7022e-06 - accuracy: 1.0000\n",
            "Epoch 368/500\n",
            "9/9 [==============================] - 0s 1ms/step - loss: 6.6492e-06 - accuracy: 1.0000\n",
            "Epoch 369/500\n",
            "9/9 [==============================] - 0s 1ms/step - loss: 6.6359e-06 - accuracy: 1.0000\n",
            "Epoch 370/500\n",
            "9/9 [==============================] - 0s 834us/step - loss: 6.6359e-06 - accuracy: 1.0000\n",
            "Epoch 371/500\n",
            "9/9 [==============================] - 0s 1ms/step - loss: 6.5962e-06 - accuracy: 1.0000\n",
            "Epoch 372/500\n",
            "9/9 [==============================] - 0s 1ms/step - loss: 6.5432e-06 - accuracy: 1.0000\n",
            "Epoch 373/500\n",
            "9/9 [==============================] - 0s 1ms/step - loss: 6.5300e-06 - accuracy: 1.0000\n",
            "Epoch 374/500\n",
            "9/9 [==============================] - 0s 1ms/step - loss: 6.5167e-06 - accuracy: 1.0000\n",
            "Epoch 375/500\n",
            "9/9 [==============================] - 0s 1ms/step - loss: 6.5035e-06 - accuracy: 1.0000\n",
            "Epoch 376/500\n",
            "9/9 [==============================] - 0s 1ms/step - loss: 6.4902e-06 - accuracy: 1.0000\n",
            "Epoch 377/500\n",
            "9/9 [==============================] - 0s 997us/step - loss: 6.4240e-06 - accuracy: 1.0000\n",
            "Epoch 378/500\n",
            "9/9 [==============================] - 0s 1ms/step - loss: 6.4108e-06 - accuracy: 1.0000\n",
            "Epoch 379/500\n",
            "9/9 [==============================] - 0s 894us/step - loss: 6.3975e-06 - accuracy: 1.0000\n",
            "Epoch 380/500\n",
            "9/9 [==============================] - 0s 854us/step - loss: 6.3710e-06 - accuracy: 1.0000\n",
            "Epoch 381/500\n",
            "9/9 [==============================] - 0s 1ms/step - loss: 6.3710e-06 - accuracy: 1.0000\n",
            "Epoch 382/500\n",
            "9/9 [==============================] - 0s 768us/step - loss: 6.3180e-06 - accuracy: 1.0000\n",
            "Epoch 383/500\n",
            "9/9 [==============================] - 0s 641us/step - loss: 6.2783e-06 - accuracy: 1.0000\n",
            "Epoch 384/500\n",
            "9/9 [==============================] - 0s 757us/step - loss: 6.2783e-06 - accuracy: 1.0000\n",
            "Epoch 385/500\n",
            "9/9 [==============================] - 0s 1ms/step - loss: 6.2651e-06 - accuracy: 1.0000\n",
            "Epoch 386/500\n",
            "9/9 [==============================] - 0s 834us/step - loss: 6.2518e-06 - accuracy: 1.0000\n",
            "Epoch 387/500\n",
            "9/9 [==============================] - 0s 807us/step - loss: 6.2386e-06 - accuracy: 1.0000\n",
            "Epoch 388/500\n",
            "9/9 [==============================] - 0s 945us/step - loss: 6.1856e-06 - accuracy: 1.0000\n",
            "Epoch 389/500\n",
            "9/9 [==============================] - 0s 1ms/step - loss: 6.1723e-06 - accuracy: 1.0000\n",
            "Epoch 390/500\n",
            "9/9 [==============================] - 0s 1ms/step - loss: 6.1459e-06 - accuracy: 1.0000\n",
            "Epoch 391/500\n",
            "9/9 [==============================] - 0s 1ms/step - loss: 6.1326e-06 - accuracy: 1.0000\n",
            "Epoch 392/500\n",
            "9/9 [==============================] - 0s 952us/step - loss: 6.0929e-06 - accuracy: 1.0000\n",
            "Epoch 393/500\n",
            "9/9 [==============================] - 0s 963us/step - loss: 6.0399e-06 - accuracy: 1.0000\n",
            "Epoch 394/500\n",
            "9/9 [==============================] - 0s 1ms/step - loss: 6.0002e-06 - accuracy: 1.0000\n",
            "Epoch 395/500\n",
            "9/9 [==============================] - 0s 1ms/step - loss: 5.9869e-06 - accuracy: 1.0000\n",
            "Epoch 396/500\n",
            "9/9 [==============================] - 0s 990us/step - loss: 5.9604e-06 - accuracy: 1.0000\n",
            "Epoch 397/500\n",
            "9/9 [==============================] - 0s 965us/step - loss: 5.9472e-06 - accuracy: 1.0000\n",
            "Epoch 398/500\n",
            "9/9 [==============================] - 0s 869us/step - loss: 5.9472e-06 - accuracy: 1.0000\n",
            "Epoch 399/500\n",
            "9/9 [==============================] - 0s 1ms/step - loss: 5.8942e-06 - accuracy: 1.0000\n",
            "Epoch 400/500\n",
            "9/9 [==============================] - 0s 857us/step - loss: 5.8677e-06 - accuracy: 1.0000\n",
            "Epoch 401/500\n",
            "9/9 [==============================] - 0s 999us/step - loss: 5.8677e-06 - accuracy: 1.0000\n",
            "Epoch 402/500\n",
            "9/9 [==============================] - 0s 2ms/step - loss: 5.8545e-06 - accuracy: 1.0000\n",
            "Epoch 403/500\n",
            "9/9 [==============================] - 0s 1ms/step - loss: 5.8280e-06 - accuracy: 1.0000\n",
            "Epoch 404/500\n",
            "9/9 [==============================] - 0s 1ms/step - loss: 5.8147e-06 - accuracy: 1.0000\n",
            "Epoch 405/500\n",
            "9/9 [==============================] - 0s 709us/step - loss: 5.7617e-06 - accuracy: 1.0000\n",
            "Epoch 406/500\n",
            "9/9 [==============================] - 0s 748us/step - loss: 5.7617e-06 - accuracy: 1.0000\n",
            "Epoch 407/500\n",
            "9/9 [==============================] - 0s 953us/step - loss: 5.7352e-06 - accuracy: 1.0000\n",
            "Epoch 408/500\n",
            "9/9 [==============================] - 0s 1ms/step - loss: 5.7220e-06 - accuracy: 1.0000\n",
            "Epoch 409/500\n",
            "9/9 [==============================] - 0s 944us/step - loss: 5.7220e-06 - accuracy: 1.0000\n",
            "Epoch 410/500\n",
            "9/9 [==============================] - 0s 1ms/step - loss: 5.6823e-06 - accuracy: 1.0000\n",
            "Epoch 411/500\n",
            "9/9 [==============================] - 0s 745us/step - loss: 5.6823e-06 - accuracy: 1.0000\n",
            "Epoch 412/500\n",
            "9/9 [==============================] - 0s 995us/step - loss: 5.6293e-06 - accuracy: 1.0000\n",
            "Epoch 413/500\n",
            "9/9 [==============================] - 0s 818us/step - loss: 5.6160e-06 - accuracy: 1.0000\n",
            "Epoch 414/500\n",
            "9/9 [==============================] - 0s 668us/step - loss: 5.6028e-06 - accuracy: 1.0000\n",
            "Epoch 415/500\n",
            "9/9 [==============================] - 0s 648us/step - loss: 5.5895e-06 - accuracy: 1.0000\n",
            "Epoch 416/500\n",
            "9/9 [==============================] - 0s 592us/step - loss: 5.5895e-06 - accuracy: 1.0000\n",
            "Epoch 417/500\n",
            "9/9 [==============================] - 0s 736us/step - loss: 5.5763e-06 - accuracy: 1.0000\n",
            "Epoch 418/500\n",
            "9/9 [==============================] - 0s 646us/step - loss: 5.5498e-06 - accuracy: 1.0000\n",
            "Epoch 419/500\n",
            "9/9 [==============================] - 0s 874us/step - loss: 5.4968e-06 - accuracy: 1.0000\n",
            "Epoch 420/500\n",
            "9/9 [==============================] - 0s 790us/step - loss: 5.4968e-06 - accuracy: 1.0000\n",
            "Epoch 421/500\n",
            "9/9 [==============================] - 0s 671us/step - loss: 5.4836e-06 - accuracy: 1.0000\n",
            "Epoch 422/500\n",
            "9/9 [==============================] - 0s 666us/step - loss: 5.4571e-06 - accuracy: 1.0000\n",
            "Epoch 423/500\n",
            "9/9 [==============================] - 0s 925us/step - loss: 5.4306e-06 - accuracy: 1.0000\n",
            "Epoch 424/500\n",
            "9/9 [==============================] - 0s 870us/step - loss: 5.4174e-06 - accuracy: 1.0000\n",
            "Epoch 425/500\n",
            "9/9 [==============================] - 0s 905us/step - loss: 5.4174e-06 - accuracy: 1.0000\n",
            "Epoch 426/500\n",
            "9/9 [==============================] - 0s 746us/step - loss: 5.3379e-06 - accuracy: 1.0000\n",
            "Epoch 427/500\n",
            "9/9 [==============================] - 0s 695us/step - loss: 5.3379e-06 - accuracy: 1.0000\n",
            "Epoch 428/500\n",
            "9/9 [==============================] - 0s 585us/step - loss: 5.3246e-06 - accuracy: 1.0000\n",
            "Epoch 429/500\n",
            "9/9 [==============================] - 0s 741us/step - loss: 5.2982e-06 - accuracy: 1.0000\n",
            "Epoch 430/500\n",
            "9/9 [==============================] - 0s 642us/step - loss: 5.2982e-06 - accuracy: 1.0000\n",
            "Epoch 431/500\n",
            "9/9 [==============================] - 0s 668us/step - loss: 5.2849e-06 - accuracy: 1.0000\n",
            "Epoch 432/500\n",
            "9/9 [==============================] - 0s 640us/step - loss: 5.2849e-06 - accuracy: 1.0000\n",
            "Epoch 433/500\n",
            "9/9 [==============================] - 0s 675us/step - loss: 5.2319e-06 - accuracy: 1.0000\n",
            "Epoch 434/500\n",
            "9/9 [==============================] - 0s 646us/step - loss: 5.2054e-06 - accuracy: 1.0000\n",
            "Epoch 435/500\n",
            "9/9 [==============================] - 0s 829us/step - loss: 5.1922e-06 - accuracy: 1.0000\n",
            "Epoch 436/500\n",
            "9/9 [==============================] - 0s 1ms/step - loss: 5.1922e-06 - accuracy: 1.0000\n",
            "Epoch 437/500\n",
            "9/9 [==============================] - 0s 859us/step - loss: 5.1657e-06 - accuracy: 1.0000\n",
            "Epoch 438/500\n",
            "9/9 [==============================] - 0s 1ms/step - loss: 5.1657e-06 - accuracy: 1.0000\n",
            "Epoch 439/500\n",
            "9/9 [==============================] - 0s 1ms/step - loss: 5.1525e-06 - accuracy: 1.0000\n",
            "Epoch 440/500\n",
            "9/9 [==============================] - 0s 1ms/step - loss: 5.1525e-06 - accuracy: 1.0000\n",
            "Epoch 441/500\n",
            "9/9 [==============================] - 0s 858us/step - loss: 5.0995e-06 - accuracy: 1.0000\n",
            "Epoch 442/500\n",
            "9/9 [==============================] - 0s 1ms/step - loss: 5.0730e-06 - accuracy: 1.0000\n",
            "Epoch 443/500\n",
            "9/9 [==============================] - 0s 672us/step - loss: 5.0597e-06 - accuracy: 1.0000\n",
            "Epoch 444/500\n",
            "9/9 [==============================] - 0s 755us/step - loss: 5.0597e-06 - accuracy: 1.0000\n",
            "Epoch 445/500\n",
            "9/9 [==============================] - 0s 683us/step - loss: 5.0465e-06 - accuracy: 1.0000\n",
            "Epoch 446/500\n",
            "9/9 [==============================] - 0s 990us/step - loss: 5.0332e-06 - accuracy: 1.0000\n",
            "Epoch 447/500\n",
            "9/9 [==============================] - 0s 1ms/step - loss: 5.0200e-06 - accuracy: 1.0000\n",
            "Epoch 448/500\n",
            "9/9 [==============================] - 0s 1ms/step - loss: 5.0200e-06 - accuracy: 1.0000\n",
            "Epoch 449/500\n",
            "9/9 [==============================] - 0s 1ms/step - loss: 5.0068e-06 - accuracy: 1.0000\n",
            "Epoch 450/500\n",
            "9/9 [==============================] - 0s 1ms/step - loss: 4.9670e-06 - accuracy: 1.0000\n",
            "Epoch 451/500\n",
            "9/9 [==============================] - 0s 635us/step - loss: 4.9273e-06 - accuracy: 1.0000\n",
            "Epoch 452/500\n",
            "9/9 [==============================] - 0s 743us/step - loss: 4.9273e-06 - accuracy: 1.0000\n",
            "Epoch 453/500\n",
            "9/9 [==============================] - 0s 1ms/step - loss: 4.9140e-06 - accuracy: 1.0000\n",
            "Epoch 454/500\n",
            "9/9 [==============================] - 0s 1ms/step - loss: 4.9008e-06 - accuracy: 1.0000\n",
            "Epoch 455/500\n",
            "9/9 [==============================] - 0s 950us/step - loss: 4.8875e-06 - accuracy: 1.0000\n",
            "Epoch 456/500\n",
            "9/9 [==============================] - 0s 552us/step - loss: 4.8875e-06 - accuracy: 1.0000\n",
            "Epoch 457/500\n",
            "9/9 [==============================] - 0s 568us/step - loss: 4.8743e-06 - accuracy: 1.0000\n",
            "Epoch 458/500\n",
            "9/9 [==============================] - 0s 644us/step - loss: 4.8081e-06 - accuracy: 1.0000\n",
            "Epoch 459/500\n",
            "9/9 [==============================] - 0s 1ms/step - loss: 4.7948e-06 - accuracy: 1.0000\n",
            "Epoch 460/500\n",
            "9/9 [==============================] - 0s 1ms/step - loss: 4.7683e-06 - accuracy: 1.0000\n",
            "Epoch 461/500\n",
            "9/9 [==============================] - 0s 1ms/step - loss: 4.7551e-06 - accuracy: 1.0000\n",
            "Epoch 462/500\n",
            "9/9 [==============================] - 0s 954us/step - loss: 4.7551e-06 - accuracy: 1.0000\n",
            "Epoch 463/500\n",
            "9/9 [==============================] - 0s 837us/step - loss: 4.7419e-06 - accuracy: 1.0000\n",
            "Epoch 464/500\n",
            "9/9 [==============================] - 0s 663us/step - loss: 4.7286e-06 - accuracy: 1.0000\n",
            "Epoch 465/500\n",
            "9/9 [==============================] - 0s 974us/step - loss: 4.7286e-06 - accuracy: 1.0000\n",
            "Epoch 466/500\n",
            "9/9 [==============================] - 0s 592us/step - loss: 4.7154e-06 - accuracy: 1.0000\n",
            "Epoch 467/500\n",
            "9/9 [==============================] - 0s 620us/step - loss: 4.7154e-06 - accuracy: 1.0000\n",
            "Epoch 468/500\n",
            "9/9 [==============================] - 0s 942us/step - loss: 4.6624e-06 - accuracy: 1.0000\n",
            "Epoch 469/500\n",
            "9/9 [==============================] - 0s 661us/step - loss: 4.6359e-06 - accuracy: 1.0000\n",
            "Epoch 470/500\n",
            "9/9 [==============================] - 0s 637us/step - loss: 4.6226e-06 - accuracy: 1.0000\n",
            "Epoch 471/500\n",
            "9/9 [==============================] - 0s 637us/step - loss: 4.6226e-06 - accuracy: 1.0000\n",
            "Epoch 472/500\n",
            "9/9 [==============================] - 0s 2ms/step - loss: 4.5962e-06 - accuracy: 1.0000\n",
            "Epoch 473/500\n",
            "9/9 [==============================] - 0s 707us/step - loss: 4.5962e-06 - accuracy: 1.0000\n",
            "Epoch 474/500\n",
            "9/9 [==============================] - 0s 764us/step - loss: 4.5962e-06 - accuracy: 1.0000\n",
            "Epoch 475/500\n",
            "9/9 [==============================] - 0s 704us/step - loss: 4.5829e-06 - accuracy: 1.0000\n",
            "Epoch 476/500\n",
            "9/9 [==============================] - 0s 682us/step - loss: 4.5829e-06 - accuracy: 1.0000\n",
            "Epoch 477/500\n",
            "9/9 [==============================] - 0s 948us/step - loss: 4.5299e-06 - accuracy: 1.0000\n",
            "Epoch 478/500\n",
            "9/9 [==============================] - 0s 2ms/step - loss: 4.5034e-06 - accuracy: 1.0000\n",
            "Epoch 479/500\n",
            "9/9 [==============================] - 0s 615us/step - loss: 4.4902e-06 - accuracy: 1.0000\n",
            "Epoch 480/500\n",
            "9/9 [==============================] - 0s 630us/step - loss: 4.4902e-06 - accuracy: 1.0000\n",
            "Epoch 481/500\n",
            "9/9 [==============================] - 0s 685us/step - loss: 4.4902e-06 - accuracy: 1.0000\n",
            "Epoch 482/500\n",
            "9/9 [==============================] - 0s 638us/step - loss: 4.4637e-06 - accuracy: 1.0000\n",
            "Epoch 483/500\n",
            "9/9 [==============================] - 0s 1ms/step - loss: 4.4637e-06 - accuracy: 1.0000\n",
            "Epoch 484/500\n",
            "9/9 [==============================] - 0s 1ms/step - loss: 4.4505e-06 - accuracy: 1.0000\n",
            "Epoch 485/500\n",
            "9/9 [==============================] - 0s 713us/step - loss: 4.4505e-06 - accuracy: 1.0000\n",
            "Epoch 486/500\n",
            "9/9 [==============================] - 0s 712us/step - loss: 4.4372e-06 - accuracy: 1.0000\n",
            "Epoch 487/500\n",
            "9/9 [==============================] - 0s 1ms/step - loss: 4.4372e-06 - accuracy: 1.0000\n",
            "Epoch 488/500\n",
            "9/9 [==============================] - 0s 924us/step - loss: 4.3710e-06 - accuracy: 1.0000\n",
            "Epoch 489/500\n",
            "9/9 [==============================] - 0s 610us/step - loss: 4.3577e-06 - accuracy: 1.0000\n",
            "Epoch 490/500\n",
            "9/9 [==============================] - 0s 823us/step - loss: 4.3577e-06 - accuracy: 1.0000\n",
            "Epoch 491/500\n",
            "9/9 [==============================] - 0s 756us/step - loss: 4.3312e-06 - accuracy: 1.0000\n",
            "Epoch 492/500\n",
            "9/9 [==============================] - 0s 643us/step - loss: 4.3180e-06 - accuracy: 1.0000\n",
            "Epoch 493/500\n",
            "9/9 [==============================] - 0s 909us/step - loss: 4.3180e-06 - accuracy: 1.0000\n",
            "Epoch 494/500\n",
            "9/9 [==============================] - 0s 592us/step - loss: 4.3048e-06 - accuracy: 1.0000\n",
            "Epoch 495/500\n",
            "9/9 [==============================] - 0s 634us/step - loss: 4.3048e-06 - accuracy: 1.0000\n",
            "Epoch 496/500\n",
            "9/9 [==============================] - 0s 600us/step - loss: 4.2915e-06 - accuracy: 1.0000\n",
            "Epoch 497/500\n",
            "9/9 [==============================] - 0s 926us/step - loss: 4.2650e-06 - accuracy: 1.0000\n",
            "Epoch 498/500\n",
            "9/9 [==============================] - 0s 955us/step - loss: 4.2385e-06 - accuracy: 1.0000\n",
            "Epoch 499/500\n",
            "9/9 [==============================] - 0s 873us/step - loss: 4.1855e-06 - accuracy: 1.0000\n",
            "Epoch 500/500\n",
            "9/9 [==============================] - 0s 821us/step - loss: 4.1855e-06 - accuracy: 1.0000\n"
          ],
          "name": "stdout"
        }
      ]
    },
    {
      "cell_type": "code",
      "metadata": {
        "id": "ckMPY09GjhzK",
        "colab_type": "code",
        "colab": {}
      },
      "source": [
        "import numpy as np\n",
        "pred = np.argmax(y_pred,axis=1)\n",
        "# lb.fit(pred)\n",
        "# pred = lb.transform(pred)"
      ],
      "execution_count": 76,
      "outputs": []
    },
    {
      "cell_type": "code",
      "metadata": {
        "id": "7DTWoUdvkZeP",
        "colab_type": "code",
        "colab": {
          "base_uri": "https://localhost:8080/",
          "height": 34
        },
        "outputId": "0739894f-9a9e-4b74-81ff-db7f0766bd5b"
      },
      "source": [
        "from sklearn.metrics import accuracy_score\n",
        "accuracy_score(pred,Y_test)\n"
      ],
      "execution_count": 77,
      "outputs": [
        {
          "output_type": "execute_result",
          "data": {
            "text/plain": [
              "1.0"
            ]
          },
          "metadata": {
            "tags": []
          },
          "execution_count": 77
        }
      ]
    },
    {
      "cell_type": "markdown",
      "metadata": {
        "id": "k8lTLPZDLQOO",
        "colab_type": "text"
      },
      "source": [
        "# OVER SAMPLING"
      ]
    },
    {
      "cell_type": "code",
      "metadata": {
        "id": "dDFXVmq0quk2",
        "colab_type": "code",
        "colab": {}
      },
      "source": [
        "# from imblearn.over_sampling import SMOTE #OVER SAMPLING\n",
        "# X_train,y_train = SMOTE().fit_sample(X_train, y_train)"
      ],
      "execution_count": null,
      "outputs": []
    }
  ]
}
