{
  "nbformat": 4,
  "nbformat_minor": 0,
  "metadata": {
    "colab": {
      "name": "Recommendation_Model.ipynb",
      "provenance": [],
      "collapsed_sections": [],
      "toc_visible": true
    },
    "kernelspec": {
      "name": "python3",
      "display_name": "Python 3"
    }
  },
  "cells": [
    {
      "cell_type": "code",
      "metadata": {
        "id": "4nW0lDR2xnJu",
        "colab_type": "code",
        "colab": {
          "base_uri": "https://localhost:8080/",
          "height": 802
        },
        "outputId": "beeb129c-5346-445c-b566-2e3ae45de757"
      },
      "source": [
        "import pickle\n",
        "import json\n",
        "!pip install -U sentence-transformers\n",
        "import torch"
      ],
      "execution_count": null,
      "outputs": [
        {
          "output_type": "stream",
          "text": [
            "Collecting sentence-transformers\n",
            "\u001b[?25l  Downloading https://files.pythonhosted.org/packages/b9/46/b7d6c37d92d1bd65319220beabe4df845434930e3f30e42d3cfaecb74dc4/sentence-transformers-0.2.6.1.tar.gz (55kB)\n",
            "\u001b[K     |████████████████████████████████| 61kB 3.6MB/s \n",
            "\u001b[?25hCollecting transformers>=2.8.0\n",
            "\u001b[?25l  Downloading https://files.pythonhosted.org/packages/48/35/ad2c5b1b8f99feaaf9d7cdadaeef261f098c6e1a6a2935d4d07662a6b780/transformers-2.11.0-py3-none-any.whl (674kB)\n",
            "\u001b[K     |████████████████████████████████| 675kB 13.6MB/s \n",
            "\u001b[?25hRequirement already satisfied, skipping upgrade: tqdm in /usr/local/lib/python3.6/dist-packages (from sentence-transformers) (4.41.1)\n",
            "Requirement already satisfied, skipping upgrade: torch>=1.0.1 in /usr/local/lib/python3.6/dist-packages (from sentence-transformers) (1.5.1+cu101)\n",
            "Requirement already satisfied, skipping upgrade: numpy in /usr/local/lib/python3.6/dist-packages (from sentence-transformers) (1.18.5)\n",
            "Requirement already satisfied, skipping upgrade: scikit-learn in /usr/local/lib/python3.6/dist-packages (from sentence-transformers) (0.22.2.post1)\n",
            "Requirement already satisfied, skipping upgrade: scipy in /usr/local/lib/python3.6/dist-packages (from sentence-transformers) (1.4.1)\n",
            "Requirement already satisfied, skipping upgrade: nltk in /usr/local/lib/python3.6/dist-packages (from sentence-transformers) (3.2.5)\n",
            "Collecting sacremoses\n",
            "\u001b[?25l  Downloading https://files.pythonhosted.org/packages/7d/34/09d19aff26edcc8eb2a01bed8e98f13a1537005d31e95233fd48216eed10/sacremoses-0.0.43.tar.gz (883kB)\n",
            "\u001b[K     |████████████████████████████████| 890kB 25.0MB/s \n",
            "\u001b[?25hRequirement already satisfied, skipping upgrade: filelock in /usr/local/lib/python3.6/dist-packages (from transformers>=2.8.0->sentence-transformers) (3.0.12)\n",
            "Collecting sentencepiece\n",
            "\u001b[?25l  Downloading https://files.pythonhosted.org/packages/d4/a4/d0a884c4300004a78cca907a6ff9a5e9fe4f090f5d95ab341c53d28cbc58/sentencepiece-0.1.91-cp36-cp36m-manylinux1_x86_64.whl (1.1MB)\n",
            "\u001b[K     |████████████████████████████████| 1.1MB 53.0MB/s \n",
            "\u001b[?25hRequirement already satisfied, skipping upgrade: requests in /usr/local/lib/python3.6/dist-packages (from transformers>=2.8.0->sentence-transformers) (2.23.0)\n",
            "Requirement already satisfied, skipping upgrade: packaging in /usr/local/lib/python3.6/dist-packages (from transformers>=2.8.0->sentence-transformers) (20.4)\n",
            "Collecting tokenizers==0.7.0\n",
            "\u001b[?25l  Downloading https://files.pythonhosted.org/packages/14/e5/a26eb4716523808bb0a799fcfdceb6ebf77a18169d9591b2f46a9adb87d9/tokenizers-0.7.0-cp36-cp36m-manylinux1_x86_64.whl (3.8MB)\n",
            "\u001b[K     |████████████████████████████████| 3.8MB 52.3MB/s \n",
            "\u001b[?25hRequirement already satisfied, skipping upgrade: regex!=2019.12.17 in /usr/local/lib/python3.6/dist-packages (from transformers>=2.8.0->sentence-transformers) (2019.12.20)\n",
            "Requirement already satisfied, skipping upgrade: dataclasses; python_version < \"3.7\" in /usr/local/lib/python3.6/dist-packages (from transformers>=2.8.0->sentence-transformers) (0.7)\n",
            "Requirement already satisfied, skipping upgrade: future in /usr/local/lib/python3.6/dist-packages (from torch>=1.0.1->sentence-transformers) (0.16.0)\n",
            "Requirement already satisfied, skipping upgrade: joblib>=0.11 in /usr/local/lib/python3.6/dist-packages (from scikit-learn->sentence-transformers) (0.15.1)\n",
            "Requirement already satisfied, skipping upgrade: six in /usr/local/lib/python3.6/dist-packages (from nltk->sentence-transformers) (1.12.0)\n",
            "Requirement already satisfied, skipping upgrade: click in /usr/local/lib/python3.6/dist-packages (from sacremoses->transformers>=2.8.0->sentence-transformers) (7.1.2)\n",
            "Requirement already satisfied, skipping upgrade: idna<3,>=2.5 in /usr/local/lib/python3.6/dist-packages (from requests->transformers>=2.8.0->sentence-transformers) (2.9)\n",
            "Requirement already satisfied, skipping upgrade: certifi>=2017.4.17 in /usr/local/lib/python3.6/dist-packages (from requests->transformers>=2.8.0->sentence-transformers) (2020.6.20)\n",
            "Requirement already satisfied, skipping upgrade: chardet<4,>=3.0.2 in /usr/local/lib/python3.6/dist-packages (from requests->transformers>=2.8.0->sentence-transformers) (3.0.4)\n",
            "Requirement already satisfied, skipping upgrade: urllib3!=1.25.0,!=1.25.1,<1.26,>=1.21.1 in /usr/local/lib/python3.6/dist-packages (from requests->transformers>=2.8.0->sentence-transformers) (1.24.3)\n",
            "Requirement already satisfied, skipping upgrade: pyparsing>=2.0.2 in /usr/local/lib/python3.6/dist-packages (from packaging->transformers>=2.8.0->sentence-transformers) (2.4.7)\n",
            "Building wheels for collected packages: sentence-transformers, sacremoses\n",
            "  Building wheel for sentence-transformers (setup.py) ... \u001b[?25l\u001b[?25hdone\n",
            "  Created wheel for sentence-transformers: filename=sentence_transformers-0.2.6.1-cp36-none-any.whl size=74031 sha256=e804cf7e7703c8eb0dd00ab2d74bc6dcb5c25e872d1c54cca7241fb8d0e687ba\n",
            "  Stored in directory: /root/.cache/pip/wheels/d7/fa/17/2b081a8cd8b0a86753fb0e9826b3cc19f0207062c0b2da7008\n",
            "  Building wheel for sacremoses (setup.py) ... \u001b[?25l\u001b[?25hdone\n",
            "  Created wheel for sacremoses: filename=sacremoses-0.0.43-cp36-none-any.whl size=893260 sha256=70210ae607d062f67ee7a2520f8a9f00dd4b11caf7ac7cbb6d26bcf3066d705a\n",
            "  Stored in directory: /root/.cache/pip/wheels/29/3c/fd/7ce5c3f0666dab31a50123635e6fb5e19ceb42ce38d4e58f45\n",
            "Successfully built sentence-transformers sacremoses\n",
            "Installing collected packages: sacremoses, sentencepiece, tokenizers, transformers, sentence-transformers\n",
            "Successfully installed sacremoses-0.0.43 sentence-transformers-0.2.6.1 sentencepiece-0.1.91 tokenizers-0.7.0 transformers-2.11.0\n"
          ],
          "name": "stdout"
        }
      ]
    },
    {
      "cell_type": "code",
      "metadata": {
        "id": "1SwmP1MKx8m9",
        "colab_type": "code",
        "colab": {
          "base_uri": "https://localhost:8080/",
          "height": 34
        },
        "outputId": "22ac3790-1fdb-4492-f914-0995b6cbd892"
      },
      "source": [
        "text_submissions = pickle.load( open( \"/content/Badhri-Hopscotch_text_submissions.pickle\", \"rb\" ) )\n",
        "print(len(text_submissions))"
      ],
      "execution_count": null,
      "outputs": [
        {
          "output_type": "stream",
          "text": [
            "4894\n"
          ],
          "name": "stdout"
        }
      ]
    },
    {
      "cell_type": "code",
      "metadata": {
        "id": "I7K2YWcZyPTf",
        "colab_type": "code",
        "colab": {
          "base_uri": "https://localhost:8080/",
          "height": 34
        },
        "outputId": "c49c63ba-fab0-4fa6-bb0a-03212e0d2f3b"
      },
      "source": [
        "text_data = []\n",
        "for i in text_submissions:\n",
        "  text_data.append(i[1])\n",
        "\n",
        "print(len(text_data))"
      ],
      "execution_count": null,
      "outputs": [
        {
          "output_type": "stream",
          "text": [
            "4894\n"
          ],
          "name": "stdout"
        }
      ]
    },
    {
      "cell_type": "code",
      "metadata": {
        "id": "Td4rELSczNPj",
        "colab_type": "code",
        "colab": {
          "base_uri": "https://localhost:8080/",
          "height": 34
        },
        "outputId": "9892a82b-abab-4d36-9bef-ba59940cadfd"
      },
      "source": [
        "from sentence_transformers import SentenceTransformer\n",
        "model = SentenceTransformer('bert-base-nli-mean-tokens')"
      ],
      "execution_count": null,
      "outputs": [
        {
          "output_type": "stream",
          "text": [
            "100%|██████████| 405M/405M [00:07<00:00, 55.7MB/s]\n"
          ],
          "name": "stderr"
        }
      ]
    },
    {
      "cell_type": "code",
      "metadata": {
        "id": "irW2bmKCoWcM",
        "colab_type": "code",
        "colab": {}
      },
      "source": [
        "# Saving\n",
        "#embeddings = model.encode(text_data)\n",
        "# torch.save(embeddings, 'BERT_Embeddings.pt')\n",
        "# Loading\n",
        "embeddings = torch.load('BERT_Embeddings.pt')\n"
      ],
      "execution_count": null,
      "outputs": []
    },
    {
      "cell_type": "markdown",
      "metadata": {
        "id": "kqHK6FgmVbZX",
        "colab_type": "text"
      },
      "source": [
        "##Evaluating Recommendations - Jaccard Distance"
      ]
    },
    {
      "cell_type": "code",
      "metadata": {
        "id": "4OpuFPVjQIf8",
        "colab_type": "code",
        "colab": {
          "base_uri": "https://localhost:8080/",
          "height": 170
        },
        "outputId": "839fcbd3-39f2-4cab-f7bd-a833fce609ad"
      },
      "source": [
        "!pip install nltk\n",
        "import nltk\n",
        "nltk.download('punkt')\n",
        "nltk.download('wordnet')\n",
        "nltk.download('averaged_perceptron_tagger')\n",
        "import nltk\n",
        "from nltk.stem import WordNetLemmatizer\n",
        "from nltk.corpus import wordnet\n",
        "\n",
        "lemmatizer = WordNetLemmatizer()\n",
        "\n",
        "# function to convert nltk tag to wordnet tag\n",
        "def nltk_tag_to_wordnet_tag(nltk_tag):\n",
        "    if nltk_tag.startswith('J'):\n",
        "        return wordnet.ADJ\n",
        "    elif nltk_tag.startswith('V'):\n",
        "        return wordnet.VERB\n",
        "    elif nltk_tag.startswith('N'):\n",
        "        return wordnet.NOUN\n",
        "    elif nltk_tag.startswith('R'):\n",
        "        return wordnet.ADV\n",
        "    else:          \n",
        "        return None\n",
        "\n",
        "def lemmatize_sentence(sentence):\n",
        "    #tokenize the sentence and find the POS tag for each token\n",
        "    nltk_tagged = nltk.pos_tag(nltk.word_tokenize(sentence))  \n",
        "    #tuple of (token, wordnet_tag)\n",
        "    wordnet_tagged = map(lambda x: (x[0], nltk_tag_to_wordnet_tag(x[1])), nltk_tagged)\n",
        "    lemmatized_sentence = []\n",
        "    for word, tag in wordnet_tagged:\n",
        "        if tag is None:\n",
        "            #if there is no available tag, append the token as is\n",
        "            lemmatized_sentence.append(word)\n",
        "        else:        \n",
        "            #else use the tag to lemmatize the token\n",
        "            lemmatized_sentence.append(lemmatizer.lemmatize(word, tag))\n",
        "    return \" \".join(lemmatized_sentence)"
      ],
      "execution_count": null,
      "outputs": [
        {
          "output_type": "stream",
          "text": [
            "Requirement already satisfied: nltk in /usr/local/lib/python3.6/dist-packages (3.2.5)\n",
            "Requirement already satisfied: six in /usr/local/lib/python3.6/dist-packages (from nltk) (1.12.0)\n",
            "[nltk_data] Downloading package punkt to /root/nltk_data...\n",
            "[nltk_data]   Unzipping tokenizers/punkt.zip.\n",
            "[nltk_data] Downloading package wordnet to /root/nltk_data...\n",
            "[nltk_data]   Unzipping corpora/wordnet.zip.\n",
            "[nltk_data] Downloading package averaged_perceptron_tagger to\n",
            "[nltk_data]     /root/nltk_data...\n",
            "[nltk_data]   Unzipping taggers/averaged_perceptron_tagger.zip.\n"
          ],
          "name": "stdout"
        }
      ]
    },
    {
      "cell_type": "code",
      "metadata": {
        "id": "DyLiW9iGQMEq",
        "colab_type": "code",
        "colab": {}
      },
      "source": [
        "def get_jaccard_sim(str1, str2): \n",
        "    a = set(str1.split()) \n",
        "    b = set(str2.split())\n",
        "    c = a.intersection(b)\n",
        "    return float(len(c)) / (len(a) + len(b) - len(c))\n",
        "\n",
        "def evaluate(list_recommendations,test_input):\n",
        "  # Finding Average Jaccard Distance\n",
        "  tot_jaccard = 0\n",
        "  num_recommendations = len(list_recommendations)\n",
        "  lem_input = lemmatize_sentence(test_input)\n",
        "  for recom in list_recommendations:\n",
        "    lem_topic = lemmatize_sentence(recom)\n",
        "    temp_jaccard = get_jaccard_sim(lem_input,lem_topic)\n",
        "    tot_jaccard+=temp_jaccard\n",
        "  avg_jaccard = tot_jaccard/num_recommendations\n",
        "  return avg_jaccard\n",
        "    \n",
        "\n",
        "   \n",
        "    \n",
        "  "
      ],
      "execution_count": null,
      "outputs": []
    },
    {
      "cell_type": "markdown",
      "metadata": {
        "id": "zeru-whf3JvJ",
        "colab_type": "text"
      },
      "source": [
        "## BERT Approach"
      ]
    },
    {
      "cell_type": "code",
      "metadata": {
        "id": "a-fGoPLJ0ISJ",
        "colab_type": "code",
        "colab": {}
      },
      "source": [
        "embeddings_tensor = torch.zeros(len(embeddings),len(embeddings[0]))\n",
        "k=0\n",
        "for li in embeddings:\n",
        "  embeddings_tensor[k] = torch.tensor(li).view(1,len(embeddings[0]))\n",
        "  k=k+1\n",
        "  "
      ],
      "execution_count": null,
      "outputs": []
    },
    {
      "cell_type": "code",
      "metadata": {
        "id": "LidsaejKNoVE",
        "colab_type": "code",
        "colab": {}
      },
      "source": [
        "import torch.nn as nn\n",
        "cosine_score_bert=torch.zeros(len(embeddings),len(embeddings))\n",
        "sort_score = torch.zeros(len(embeddings),10)\n",
        "index_score = torch.zeros(len(embeddings),10)\n",
        "\n",
        "for i in range(len(embeddings)):\n",
        "\n",
        "  input1 = embeddings_tensor[i].view(1,768)\n",
        "  input2 = embeddings_tensor\n",
        "  cos = nn.CosineSimilarity(dim=1, eps=1e-6)\n",
        "  output = cos(input1, input2)\n",
        "  # output = torch.cat([output[0:i], output[i+1:]])\n",
        "  cosine_score_bert[i] = output.view((1,len(embeddings)))\n",
        "\n",
        "\n",
        "  \n",
        "  \n",
        "\n"
      ],
      "execution_count": null,
      "outputs": []
    },
    {
      "cell_type": "code",
      "metadata": {
        "id": "hpLvS5NuR_up",
        "colab_type": "code",
        "colab": {}
      },
      "source": [
        "\n",
        "# print(\"Topic numbers range from 0 - 4893\\n\")\n",
        "def BERT_recommendation(topic_number):\n",
        "\n",
        "\n",
        "  #topic_number = 15\n",
        "  sor,ind = torch.sort(cosine_score_bert[topic_number],descending=True)\n",
        "  sor = sor[:10]\n",
        "  ind = ind[:10]\n",
        "  sort_score = sor.view(1,10)[0]\n",
        "  \n",
        "  index_score = ind.view(1,10)\n",
        "\n",
        "  temp_index = index_score[:5][0]\n",
        "  # print(temp_index)\n",
        "  print(\"Input is\\n\")\n",
        "  print(text_submissions[topic_number],\"\\n\\n\")\n",
        "  print(\"Displaying 10 - Recommended topics\\n\")\n",
        "  k=1\n",
        "  list_recom =[]\n",
        "  for i in range(len(temp_index)):\n",
        "    if i>0:\n",
        "\n",
        "\n",
        "      i = int(temp_index[i].item())\n",
        "      print(\"Recommendation -\",k)\n",
        "      print(\"Similarity is :\",sort_score[k],\"\\n\")\n",
        "      print(text_submissions[i],\"\\n\")\n",
        "      list_recom.append(text_data[i])\n",
        "      k=k+1\n",
        "  avg_jac = evaluate(list_recom,text_data[topic_number])\n",
        "\n",
        "  print(\"Average Jaccard Distance Between Input and Recommendations (BERT): \",avg_jac)    \n",
        "\n",
        "\n",
        "\n",
        "\n",
        "\n",
        "\n"
      ],
      "execution_count": null,
      "outputs": []
    },
    {
      "cell_type": "code",
      "metadata": {
        "id": "YQ7RW5IsT0CE",
        "colab_type": "code",
        "colab": {
          "base_uri": "https://localhost:8080/",
          "height": 972
        },
        "outputId": "1224be85-f28e-41f5-8bfb-a489d90b4897"
      },
      "source": [
        "print(\"Enter a topic number from 0 - 4894\\n\")\n",
        "BERT_recommendation(3001)"
      ],
      "execution_count": null,
      "outputs": [
        {
          "output_type": "stream",
          "text": [
            "Enter a topic number from 0 - 4894\n",
            "\n",
            "Input is\n",
            "\n",
            "['https://forum.gethopscotch.com//t/bug-with-activity/33818', 'Use this template to make awesome bug reports:**Your username:**Potterhead#1⚡️What kind of device are you using?: iPad 21 sentence description of the problem (I was doing _________, and then __________ happened):\\nI opened my activity and all notifications were gone except few\\nSteps to make the problem happen:I expected this to happen: to have all my precious notifications in which my senpai followed meBut instead this happened: It didn’t !Here’s a sweet screenshot:'] \n",
            "\n",
            "\n",
            "Displaying 10 - Recommended topics\n",
            "\n",
            "Recommendation - 1\n",
            "Similarity is : tensor(0.9461) \n",
            "\n",
            "['https://forum.gethopscotch.com//t/objects-do-not-delete-properly-bug/32262', 'Use this template to make awesome bug reports:Your username: MR.GAM3R🎮What kind of device are you using?: iPad Air, iOS 10.21 sentence description of the problem (I was doing _________, and then __________ happened): I named an object “Blue”, deleted it, and now can’t use the name anymore.Steps to make the problem happen:This works with all names as well.I expected this to happen: the name to successfully changeBut instead this happened: it didn’t allow to me to.Here are some sweet screenshots:@Liza @Rodrigo @Montoya'] \n",
            "\n",
            "Recommendation - 2\n",
            "Similarity is : tensor(0.9421) \n",
            "\n",
            "['https://forum.gethopscotch.com//t/how-come-i-cant-go-to-my-topic/34960', 'Use this template to make awesome bug reports:Your username: @Explorer_What kind of device are you using?: iPad Air 21 sentence description of the problem (I was doing _________, and then __________ happened): I was going through my notifications and then I press the link to the topic, and it didn’t let me enter.Steps to make the problem happen:I expected this to happen: It will let me enter the topicBut instead this happened: It didn’tHere’s a sweet screenshot:\\n'] \n",
            "\n",
            "Recommendation - 3\n",
            "Similarity is : tensor(0.9399) \n",
            "\n",
            "['https://forum.gethopscotch.com//t/search-problem-i-know-sbyp-but-really-this-is-an-actual-problem/37884', 'Use this template to make awesome bug reports:Your username: OfficialHopscotchRemixerWhat kind of device are you using?: iPad Air 21 sentence description of the problem (I was doing _________, and then __________ happened):I was searching up my username, and then it didn’t show up in the searches…Steps to make the problem happen:\\n1.Type in “OfficialHopscotchRemixer”\\n2.Press Search\\n….**I expected this to happen:**My Username would show up**But instead this happened:**It didn’t show upHere’s a sweet screenshot:! '] \n",
            "\n",
            "Recommendation - 4\n",
            "Similarity is : tensor(0.9317) \n",
            "\n",
            "['https://forum.gethopscotch.com//t/help-meh-hopscotch-no-work/34593', 'Use this template to make awesome bug reports:Your username: HappyPersonWhat kind of device are you using?: iPad1 sentence description of the problem (I was doing _________, and then __________ happened): I was going to look at the featured projects and it said that there was no Wifi but I’m on full bars.Steps to make the problem happen:I expected this to happen: All of the featured videos would show up.But instead this happened: It just said the community wasn’t loading.Here’s a sweet screenshot:@LIZA!!!'] \n",
            "\n",
            "Recommendation - 5\n",
            "Similarity is : tensor(0.9307) \n",
            "\n",
            "['https://forum.gethopscotch.com//t/my-hopscotch-doesn-t-work/44761', 'Use this template to make awesome bug reports:**Your username:**icykuldude😎What kind of device are you using?:\\nipad\\n1 sentence description of the problem (I was doing _________, and then __________ happened):\\ni was playing and then hopscoth logged out and i never got back in\\nSteps to make the problem happen:\\n1.idk\\n2.idk\\n….I expected this to happen:\\nthat it would work\\nBut instead this happened:\\nit shut down  and closed my ipad\\nHere’s a sweet screenshot:\\n'] \n",
            "\n",
            "Recommendation - 6\n",
            "Similarity is : tensor(0.9280) \n",
            "\n",
            "['https://forum.gethopscotch.com//t/new-bug-on-forum/26595', \"Use this template to make awesome bug reports: Your username: refugeecat123What kind of device are you using?: ipad 1 sentence description of the problem (I was chatting__, and then ___this_______ happened): i replied and it said my post had 22 repliesSteps to make the problem happen:1. I don't know 2. I don't know ….I expected this to happen: for it to be normalBut instead this happened: it wasnt normal..?Here’s a sweet screenshot: er...\"] \n",
            "\n",
            "Recommendation - 7\n",
            "Similarity is : tensor(0.9259) \n",
            "\n",
            "['https://forum.gethopscotch.com//t/halp-meh-buggggg/28430', 'Use this template to make awesome bug reports:Your username:\\nI’m using DinoProductions ™ Draws What kind of device are you using?:\\niPad mini 1 IOS 9.3.5\\n1 sentence description of the problem  I was doing __going to my profile _____, and then theres no tanks at the bottom! happened):Steps to make the problem happen:I expected this to happen:\\nTabs at bottom such as,home,profile,activity and levelsBut instead this happened:\\nNo tabs\\nHere’s a sweet screenshot:\\n'] \n",
            "\n",
            "Recommendation - 8\n",
            "Similarity is : tensor(0.9259) \n",
            "\n",
            "['https://forum.gethopscotch.com//t/solved-text-in-text-objects-can-not-be-seen/54599', 'Use this template to make awesome bug reports:Your username: Algor1thmWhat kind of device are you using?: iPad 9.7 1.13.11 sentence description of the problem (I was doing _________, and then __________ happened):\\nI open Tankt2016’s special text project to copy one of the styles, and I entered the one I wanted and no text popped up. This has happened in other projects too.\\nSteps that the Hopscotch team can take to reproduce my problem every time:I expected this to happen:\\nSee text to copyBut instead this happened:\\nI couldn’t see what was writtenHere’s a sweet screenshot:\\nNo screenshots sorry'] \n",
            "\n",
            "Recommendation - 9\n",
            "Similarity is : tensor(0.9242) \n",
            "\n",
            "['https://forum.gethopscotch.com//t/when-object-is-tapped-when-block-or-set-text-not-working/28614', 'Use this template to make awesome bug reports:Your username: Nindroid Games™What kind of device are you using?: iPad 21 sentence description of the problem (I was doing _________, and then __________ happened): I was making a play button but it wouldn’t work, I’ll explain in steps to make it happenSteps to make the problem happen:\\n1.use this code, with the second rule for all but one object in the project.I expected this to happen: all the object’s would disappear.But instead this happened: they didn’t.Here’s a sweet screenshot: '] \n",
            "\n",
            "Average Jaccard Distance Between Input and Recommendations (BERT):  0.4706633281996406\n"
          ],
          "name": "stdout"
        }
      ]
    },
    {
      "cell_type": "markdown",
      "metadata": {
        "id": "tmwwQqkjkSBc",
        "colab_type": "text"
      },
      "source": [
        "## TF-IDF Approach"
      ]
    },
    {
      "cell_type": "code",
      "metadata": {
        "id": "qDKKGVzQkV92",
        "colab_type": "code",
        "colab": {
          "base_uri": "https://localhost:8080/",
          "height": 51
        },
        "outputId": "b40618f2-651e-472d-cd33-e4a78a740c31"
      },
      "source": [
        "from sklearn.feature_extraction.text import TfidfVectorizer\n",
        "tfidf = TfidfVectorizer().fit_transform(text_data)\n",
        "tfidf"
      ],
      "execution_count": null,
      "outputs": [
        {
          "output_type": "execute_result",
          "data": {
            "text/plain": [
              "<4894x19145 sparse matrix of type '<class 'numpy.float64'>'\n",
              "\twith 285174 stored elements in Compressed Sparse Row format>"
            ]
          },
          "metadata": {
            "tags": []
          },
          "execution_count": 12
        }
      ]
    },
    {
      "cell_type": "code",
      "metadata": {
        "id": "YxAcM8GhkiDd",
        "colab_type": "code",
        "colab": {}
      },
      "source": [
        "import numpy as np\n",
        "from sklearn.metrics.pairwise import linear_kernel\n",
        "cosine_score_tfidf = np.zeros((len(text_data),len(text_data)))\n",
        "for i in range(len(text_data)):\n",
        "\n",
        "  cosine_similarities = linear_kernel(tfidf[i:i+1], tfidf).flatten()\n",
        "  # print(cosine_similarities.reshape(1,len(text_data)).shape)\n",
        "  cosine_score_tfidf[i] = cosine_similarities\n",
        "\n",
        "cosine_score_tfidf = torch.from_numpy(cosine_score_tfidf)  \n",
        "#cosine_similarities"
      ],
      "execution_count": null,
      "outputs": []
    },
    {
      "cell_type": "code",
      "metadata": {
        "id": "7vYKR2VCk0uK",
        "colab_type": "code",
        "colab": {}
      },
      "source": [
        "\n",
        "# print(\"Topic numbers range from 0 - 4893\\n\")\n",
        "def TFIDF_recommendation(topic_number):\n",
        "\n",
        "\n",
        "  #topic_number = 15\n",
        "  sor,ind = torch.sort(cosine_score_tfidf[topic_number],descending=True)\n",
        "  sor = sor[:10]\n",
        "  ind = ind[:10]\n",
        "  sort_score = sor.view(1,10)[0]\n",
        "  \n",
        "  index_score = ind.view(1,10)\n",
        "\n",
        "  temp_index = index_score[:5][0]\n",
        "  # print(temp_index)\n",
        "  print(\"Input is\\n\")\n",
        "  print(text_submissions[topic_number],\"\\n\\n\")\n",
        "  print(\"Displaying 10 - Recommended topics\\n\")\n",
        "  k=1\n",
        "  list_recom = []\n",
        "  for i in range(len(temp_index)):\n",
        "    if i>0:\n",
        "\n",
        "\n",
        "      i = int(temp_index[i].item())\n",
        "      print(\"Recommendation -\",k)\n",
        "      print(\"Similarity is :\",sort_score[k],\"\\n\")\n",
        "      print(text_submissions[i],\"\\n\")\n",
        "      list_recom.append(text_data[i])\n",
        "      k=k+1\n",
        "  avg_jac = evaluate(list_recom,text_data[topic_number])\n",
        "\n",
        "  print(\"Average Jaccard Distance Between Input and Recommendations (TF-IDF) : \",avg_jac)\n",
        "\n",
        "\n",
        "\n",
        "\n",
        "\n",
        "\n"
      ],
      "execution_count": null,
      "outputs": []
    },
    {
      "cell_type": "code",
      "metadata": {
        "id": "ENmUejYy1a_5",
        "colab_type": "code",
        "colab": {
          "base_uri": "https://localhost:8080/",
          "height": 972
        },
        "outputId": "0147a0b7-9c69-45b1-f204-dbd3d09b0e67"
      },
      "source": [
        "print(\"Enter a topic number from 0 - 4894\\n\")\n",
        "TFIDF_recommendation(3001)"
      ],
      "execution_count": null,
      "outputs": [
        {
          "output_type": "stream",
          "text": [
            "Enter a topic number from 0 - 4894\n",
            "\n",
            "Input is\n",
            "\n",
            "['https://forum.gethopscotch.com//t/bug-with-activity/33818', 'Use this template to make awesome bug reports:**Your username:**Potterhead#1⚡️What kind of device are you using?: iPad 21 sentence description of the problem (I was doing _________, and then __________ happened):\\nI opened my activity and all notifications were gone except few\\nSteps to make the problem happen:I expected this to happen: to have all my precious notifications in which my senpai followed meBut instead this happened: It didn’t !Here’s a sweet screenshot:'] \n",
            "\n",
            "\n",
            "Displaying 10 - Recommended topics\n",
            "\n",
            "Recommendation - 1\n",
            "Similarity is : tensor(0.6020, dtype=torch.float64) \n",
            "\n",
            "['https://forum.gethopscotch.com//t/this-is-a-set-text-bug/29181', 'Use this template to make awesome bug reports:Your username:What kind of device are you using?:1 sentence description of the problem (I was doing _________, and then __________ happened): look in screenshotsSteps to make the problem happen:….I expected this to happen:But instead this happened:Here’s a sweet screenshot:\\nThis:'] \n",
            "\n",
            "Recommendation - 2\n",
            "Similarity is : tensor(0.5822, dtype=torch.float64) \n",
            "\n",
            "['https://forum.gethopscotch.com//t/how-come-i-cant-go-to-my-topic/34960', 'Use this template to make awesome bug reports:Your username: @Explorer_What kind of device are you using?: iPad Air 21 sentence description of the problem (I was doing _________, and then __________ happened): I was going through my notifications and then I press the link to the topic, and it didn’t let me enter.Steps to make the problem happen:I expected this to happen: It will let me enter the topicBut instead this happened: It didn’tHere’s a sweet screenshot:\\n'] \n",
            "\n",
            "Recommendation - 3\n",
            "Similarity is : tensor(0.5651, dtype=torch.float64) \n",
            "\n",
            "['https://forum.gethopscotch.com//t/i-didn-t-make-this-solved/51654', 'Use this template to make awesome bug reports:Your username: Hello soıpnʇS pǝʇssıʍ⊥What kind of device are you using?: iPad 6th gen1 sentence description of the problem (I was doing _________, and then __________ happened):\\nI was looking at my notifications the it said someone remixed something I didn’t make\\nSteps to make the problem happen:I expected this to happen:\\nNothing\\nBut instead this happened:\\nNothing\\nHere’s a sweet screenshot:\\n'] \n",
            "\n",
            "Recommendation - 4\n",
            "Similarity is : tensor(0.5533, dtype=torch.float64) \n",
            "\n",
            "['https://forum.gethopscotch.com//t/my-notifications-arent-updating/40241', 'Use this template to make awesome bug reports:Your username: OfficialHopscotchRemixerWhat kind of device are you using?: iPad Air 11 sentence description of the problem (I was doing _________, and then __________ happened): I was checking my notifications, and then I saw notifications from 5 days ago.Steps to make the problem happen:\\n1.Open Hopscotch\\n2.Open Notifications\\n….I expected this to happen:\\nI expected to see newer notifications (especially since I recently got featured)\\nBut instead this happened:\\nI say Notifications from 5 days ago\\nHere’s a sweet screenshot:\\n\\n0\\nvoters\\n'] \n",
            "\n",
            "Recommendation - 5\n",
            "Similarity is : tensor(0.5463, dtype=torch.float64) \n",
            "\n",
            "['https://forum.gethopscotch.com//t/when-object-is-tapped-when-block-or-set-text-not-working/28614', 'Use this template to make awesome bug reports:Your username: Nindroid Games™What kind of device are you using?: iPad 21 sentence description of the problem (I was doing _________, and then __________ happened): I was making a play button but it wouldn’t work, I’ll explain in steps to make it happenSteps to make the problem happen:\\n1.use this code, with the second rule for all but one object in the project.I expected this to happen: all the object’s would disappear.But instead this happened: they didn’t.Here’s a sweet screenshot: '] \n",
            "\n",
            "Recommendation - 6\n",
            "Similarity is : tensor(0.5446, dtype=torch.float64) \n",
            "\n",
            "['https://forum.gethopscotch.com//t/my-projects-are-not-showing-up-on-my-profile-even-when-published-closed/49395', 'Use this template to make awesome bug reports:Your username:\\nBabyButterfly\\u200b:butterfly:\\nWhat kind of device are you using?:\\nAn iPad\\n1 sentence description of the problem (I was doing _________, and then __________ happened): I was posting my project, and then when I go to another account and look at my profile, it’s not there.Steps to make the problem happen:I expected this to happen:\\nTo see my recent projects\\nBut instead this happened:\\nIt does not show up\\nHere’s a sweet screenshot:\\nMy acc '] \n",
            "\n",
            "Recommendation - 7\n",
            "Similarity is : tensor(0.5351, dtype=torch.float64) \n",
            "\n",
            "['https://forum.gethopscotch.com//t/worst-bug-ever-drafts/31748', 'Use this template to make awesome bug reports:Your username: Potterhead#1⚡️**What kind of device are you using?:**ipad 21 sentence description of the problem (I was doing _________, and then __________ happened): I had made a project the previous night and I opened it right now and all the changes I had made are gone!Steps to make the problem happen:\\n1.make a project in your drafts\\n2.open that project after some time\\n….**I expected this to happen:**that I would open my drafts and that project and I could publish it**But instead this happened:**that I opened that project and it opened to the non edited version Here’s a sweet screenshot:[details=The screenshots ]'] \n",
            "\n",
            "Recommendation - 8\n",
            "Similarity is : tensor(0.5176, dtype=torch.float64) \n",
            "\n",
            "['https://forum.gethopscotch.com//t/what-happened-in-this-project-thingy-ooooh-noo/29174', 'Use this template to make awesome bug reports:What kind of device are you using?:\\niPad mini I think\\n1 sentence description of the problem (I was doing _________, and then __________ happened):\\nI randomly tapped my hs and it went black\\nSteps to make the problem happen:….I expected this to happen:\\nIdk what I tapped\\nBut instead this happened:\\nBlack screen\\nHere’s a sweet screenshot:\\n'] \n",
            "\n",
            "Recommendation - 9\n",
            "Similarity is : tensor(0.5173, dtype=torch.float64) \n",
            "\n",
            "['https://forum.gethopscotch.com//t/notification-bug/22135', 'Use this template to make awesome bug reports:Your username: minioncandyWhat kind of device are you using?: iPad 2? Version: 9.3.21 sentence description of the problem (I was doing _________, and then __________ happened): I was looking in my notifications, and only one person showed on it while two people liked it.Steps to make the problem happen:I expected this to happen:\\nTwo people liked my projectBut instead this happened:\\nOne person appeared in notifications while two people liked it.Here’s a sweet screenshot:\\n'] \n",
            "\n",
            "Average Jaccard Distance Between Input and Recommendations (TF-IDF) :  0.5109856173456887\n"
          ],
          "name": "stdout"
        }
      ]
    },
    {
      "cell_type": "markdown",
      "metadata": {
        "id": "ddn1cXyF3Xh5",
        "colab_type": "text"
      },
      "source": [
        "## Combination of BERT & TF-IDF"
      ]
    },
    {
      "cell_type": "code",
      "metadata": {
        "id": "lE-QkxK716mY",
        "colab_type": "code",
        "colab": {}
      },
      "source": [
        "\n",
        "# print(\"Topic numbers range from 0 - 4893\\n\")\n",
        "def Both_recommendation(topic_number,w1,w2):\n",
        "\n",
        "\n",
        "  #topic_number = 15\n",
        "\n",
        "  sor,ind = torch.sort(w1*cosine_score_bert[topic_number]+w2*cosine_score_tfidf[topic_number],descending=True)\n",
        "  sor = sor[:10]\n",
        "  ind = ind[:10]\n",
        "  sort_score = sor.view(1,10)[0]\n",
        "  \n",
        "  index_score = ind.view(1,10)\n",
        "\n",
        "  temp_index = index_score[:5][0]\n",
        "  # print(temp_index)\n",
        "  print(\"Input is\\n\")\n",
        "  print(text_submissions[topic_number],\"\\n\\n\")\n",
        "  print(\"Displaying 10 - Recommended topics\\n\")\n",
        "  k=1\n",
        "  list_recom = []\n",
        "  for i in range(len(temp_index)):\n",
        "    if i>0:\n",
        "\n",
        "      \n",
        "      i = int(temp_index[i].item())\n",
        "      print(\"Recommendation -\",k)\n",
        "      print(\"Similarity is :\",sort_score[k],\"\\n\")\n",
        "      print(text_submissions[i],\"\\n\")\n",
        "      list_recom.append(text_data[i])\n",
        "      k=k+1\n",
        "  avg_jac = evaluate(list_recom,text_data[topic_number])\n",
        "  print(\"Average Jaccard Distance Between Input and Recommendations (Both): \",avg_jac)\n",
        "      \n",
        "\n",
        "\n",
        "\n",
        "\n",
        "\n",
        "\n",
        "\n",
        "\n",
        "\n"
      ],
      "execution_count": null,
      "outputs": []
    },
    {
      "cell_type": "code",
      "metadata": {
        "id": "x2GITLu32m6i",
        "colab_type": "code",
        "colab": {
          "base_uri": "https://localhost:8080/",
          "height": 972
        },
        "outputId": "ac633afb-8a84-4417-aa7c-9ba8fbceb737"
      },
      "source": [
        "print(\"Enter a topic number from 0 - 4894\\n\")\n",
        "w_bert = 0.5\n",
        "w_tfidf = 0.5 \n",
        "Both_recommendation(3001,w_bert,w_tfidf)"
      ],
      "execution_count": null,
      "outputs": [
        {
          "output_type": "stream",
          "text": [
            "Enter a topic number from 0 - 4894\n",
            "\n",
            "Input is\n",
            "\n",
            "['https://forum.gethopscotch.com//t/bug-with-activity/33818', 'Use this template to make awesome bug reports:**Your username:**Potterhead#1⚡️What kind of device are you using?: iPad 21 sentence description of the problem (I was doing _________, and then __________ happened):\\nI opened my activity and all notifications were gone except few\\nSteps to make the problem happen:I expected this to happen: to have all my precious notifications in which my senpai followed meBut instead this happened: It didn’t !Here’s a sweet screenshot:'] \n",
            "\n",
            "\n",
            "Displaying 10 - Recommended topics\n",
            "\n",
            "Recommendation - 1\n",
            "Similarity is : tensor(0.7622, dtype=torch.float64) \n",
            "\n",
            "['https://forum.gethopscotch.com//t/how-come-i-cant-go-to-my-topic/34960', 'Use this template to make awesome bug reports:Your username: @Explorer_What kind of device are you using?: iPad Air 21 sentence description of the problem (I was doing _________, and then __________ happened): I was going through my notifications and then I press the link to the topic, and it didn’t let me enter.Steps to make the problem happen:I expected this to happen: It will let me enter the topicBut instead this happened: It didn’tHere’s a sweet screenshot:\\n'] \n",
            "\n",
            "Recommendation - 2\n",
            "Similarity is : tensor(0.7358, dtype=torch.float64) \n",
            "\n",
            "['https://forum.gethopscotch.com//t/i-didn-t-make-this-solved/51654', 'Use this template to make awesome bug reports:Your username: Hello soıpnʇS pǝʇssıʍ⊥What kind of device are you using?: iPad 6th gen1 sentence description of the problem (I was doing _________, and then __________ happened):\\nI was looking at my notifications the it said someone remixed something I didn’t make\\nSteps to make the problem happen:I expected this to happen:\\nNothing\\nBut instead this happened:\\nNothing\\nHere’s a sweet screenshot:\\n'] \n",
            "\n",
            "Recommendation - 3\n",
            "Similarity is : tensor(0.7353, dtype=torch.float64) \n",
            "\n",
            "['https://forum.gethopscotch.com//t/this-is-a-set-text-bug/29181', 'Use this template to make awesome bug reports:Your username:What kind of device are you using?:1 sentence description of the problem (I was doing _________, and then __________ happened): look in screenshotsSteps to make the problem happen:….I expected this to happen:But instead this happened:Here’s a sweet screenshot:\\nThis:'] \n",
            "\n",
            "Recommendation - 4\n",
            "Similarity is : tensor(0.7353, dtype=torch.float64) \n",
            "\n",
            "['https://forum.gethopscotch.com//t/when-object-is-tapped-when-block-or-set-text-not-working/28614', 'Use this template to make awesome bug reports:Your username: Nindroid Games™What kind of device are you using?: iPad 21 sentence description of the problem (I was doing _________, and then __________ happened): I was making a play button but it wouldn’t work, I’ll explain in steps to make it happenSteps to make the problem happen:\\n1.use this code, with the second rule for all but one object in the project.I expected this to happen: all the object’s would disappear.But instead this happened: they didn’t.Here’s a sweet screenshot: '] \n",
            "\n",
            "Recommendation - 5\n",
            "Similarity is : tensor(0.7268, dtype=torch.float64) \n",
            "\n",
            "['https://forum.gethopscotch.com//t/search-problem-i-know-sbyp-but-really-this-is-an-actual-problem/37884', 'Use this template to make awesome bug reports:Your username: OfficialHopscotchRemixerWhat kind of device are you using?: iPad Air 21 sentence description of the problem (I was doing _________, and then __________ happened):I was searching up my username, and then it didn’t show up in the searches…Steps to make the problem happen:\\n1.Type in “OfficialHopscotchRemixer”\\n2.Press Search\\n….**I expected this to happen:**My Username would show up**But instead this happened:**It didn’t show upHere’s a sweet screenshot:! '] \n",
            "\n",
            "Recommendation - 6\n",
            "Similarity is : tensor(0.7268, dtype=torch.float64) \n",
            "\n",
            "['https://forum.gethopscotch.com//t/my-projects-are-not-showing-up-on-my-profile-even-when-published-closed/49395', 'Use this template to make awesome bug reports:Your username:\\nBabyButterfly\\u200b:butterfly:\\nWhat kind of device are you using?:\\nAn iPad\\n1 sentence description of the problem (I was doing _________, and then __________ happened): I was posting my project, and then when I go to another account and look at my profile, it’s not there.Steps to make the problem happen:I expected this to happen:\\nTo see my recent projects\\nBut instead this happened:\\nIt does not show up\\nHere’s a sweet screenshot:\\nMy acc '] \n",
            "\n",
            "Recommendation - 7\n",
            "Similarity is : tensor(0.7228, dtype=torch.float64) \n",
            "\n",
            "['https://forum.gethopscotch.com//t/worst-bug-ever-drafts/31748', 'Use this template to make awesome bug reports:Your username: Potterhead#1⚡️**What kind of device are you using?:**ipad 21 sentence description of the problem (I was doing _________, and then __________ happened): I had made a project the previous night and I opened it right now and all the changes I had made are gone!Steps to make the problem happen:\\n1.make a project in your drafts\\n2.open that project after some time\\n….**I expected this to happen:**that I would open my drafts and that project and I could publish it**But instead this happened:**that I opened that project and it opened to the non edited version Here’s a sweet screenshot:[details=The screenshots ]'] \n",
            "\n",
            "Recommendation - 8\n",
            "Similarity is : tensor(0.7205, dtype=torch.float64) \n",
            "\n",
            "['https://forum.gethopscotch.com//t/my-hopscotch-doesn-t-work/44761', 'Use this template to make awesome bug reports:**Your username:**icykuldude😎What kind of device are you using?:\\nipad\\n1 sentence description of the problem (I was doing _________, and then __________ happened):\\ni was playing and then hopscoth logged out and i never got back in\\nSteps to make the problem happen:\\n1.idk\\n2.idk\\n….I expected this to happen:\\nthat it would work\\nBut instead this happened:\\nit shut down  and closed my ipad\\nHere’s a sweet screenshot:\\n'] \n",
            "\n",
            "Recommendation - 9\n",
            "Similarity is : tensor(0.7196, dtype=torch.float64) \n",
            "\n",
            "['https://forum.gethopscotch.com//t/notification-bug/22135', 'Use this template to make awesome bug reports:Your username: minioncandyWhat kind of device are you using?: iPad 2? Version: 9.3.21 sentence description of the problem (I was doing _________, and then __________ happened): I was looking in my notifications, and only one person showed on it while two people liked it.Steps to make the problem happen:I expected this to happen:\\nTwo people liked my projectBut instead this happened:\\nOne person appeared in notifications while two people liked it.Here’s a sweet screenshot:\\n'] \n",
            "\n",
            "Average Jaccard Distance Between Input and Recommendations (Both):  0.5136628141008466\n"
          ],
          "name": "stdout"
        }
      ]
    }
  ]
}